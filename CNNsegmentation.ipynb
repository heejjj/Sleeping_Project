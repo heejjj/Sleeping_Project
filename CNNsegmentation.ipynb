{
  "nbformat": 4,
  "nbformat_minor": 0,
  "metadata": {
    "colab": {
      "provenance": [],
      "gpuType": "T4",
      "authorship_tag": "ABX9TyPGSAHIWyYNtxfEHimj236c",
      "include_colab_link": true
    },
    "kernelspec": {
      "name": "python3",
      "display_name": "Python 3"
    },
    "language_info": {
      "name": "python"
    },
    "accelerator": "GPU"
  },
  "cells": [
    {
      "cell_type": "markdown",
      "metadata": {
        "id": "view-in-github",
        "colab_type": "text"
      },
      "source": [
        "<a href=\"https://colab.research.google.com/github/heejjj/Sleeping_Project/blob/main/CNNsegmentation.ipynb\" target=\"_parent\"><img src=\"https://colab.research.google.com/assets/colab-badge.svg\" alt=\"Open In Colab\"/></a>"
      ]
    },
    {
      "cell_type": "code",
      "execution_count": null,
      "metadata": {
        "id": "QL5-fnQNO6wS"
      },
      "outputs": [],
      "source": []
    },
    {
      "cell_type": "code",
      "source": [
        "from google.colab import drive\n",
        "drive.mount('/content/drive')"
      ],
      "metadata": {
        "colab": {
          "base_uri": "https://localhost:8080/"
        },
        "id": "YzZmzyDiPIx0",
        "outputId": "edd5b9f9-c0d4-4bdf-ea08-74660eea6731"
      },
      "execution_count": 1,
      "outputs": [
        {
          "output_type": "stream",
          "name": "stdout",
          "text": [
            "Mounted at /content/drive\n"
          ]
        }
      ]
    },
    {
      "cell_type": "code",
      "source": [
        "!pip install scipy\n",
        "!pip install tqdm"
      ],
      "metadata": {
        "colab": {
          "base_uri": "https://localhost:8080/"
        },
        "id": "4ERe9LO8RfV8",
        "outputId": "b7c5b66e-96dd-4f58-eae1-e8aa61404e23"
      },
      "execution_count": 3,
      "outputs": [
        {
          "output_type": "stream",
          "name": "stdout",
          "text": [
            "Looking in indexes: https://pypi.org/simple, https://us-python.pkg.dev/colab-wheels/public/simple/\n",
            "Requirement already satisfied: scipy in /usr/local/lib/python3.10/dist-packages (1.10.1)\n",
            "Requirement already satisfied: numpy<1.27.0,>=1.19.5 in /usr/local/lib/python3.10/dist-packages (from scipy) (1.22.4)\n",
            "Looking in indexes: https://pypi.org/simple, https://us-python.pkg.dev/colab-wheels/public/simple/\n",
            "Requirement already satisfied: tqdm in /usr/local/lib/python3.10/dist-packages (4.65.0)\n"
          ]
        }
      ]
    },
    {
      "cell_type": "code",
      "source": [
        "# /content/drive/MyDrive/KDT_project/Hackathon/CNNsegmentation/data/img/weekday"
      ],
      "metadata": {
        "id": "275R1qqAPJqy"
      },
      "execution_count": null,
      "outputs": []
    },
    {
      "cell_type": "code",
      "source": [
        "import numpy as np\n",
        "import tensorflow as tf\n",
        "\n",
        "# 데이터 전처리를 위한 라이브러리\n",
        "import json\n",
        "from scipy.signal import butter, lfilter, medfilt\n",
        "\n",
        "# 모델 학습을 위한 라이브러리\n",
        "from tensorflow.keras.models import Model\n",
        "from tensorflow.keras.layers import Input, Conv1D, BatchNormalization, MaxPooling1D\n",
        "from tensorflow.keras.layers import Conv1DTranspose, concatenate, Activation, SpatialDropout1D\n",
        "\n",
        "# 성능평가 함수를 위한 라이브러리\n",
        "from tensorflow.keras import backend as K\n",
        "\n",
        "# 시각화를 위한 라이브러리\n",
        "from tqdm import tqdm\n",
        "import matplotlib.pyplot as plt"
      ],
      "metadata": {
        "id": "3yLbPEkDQ6ho"
      },
      "execution_count": 2,
      "outputs": []
    },
    {
      "cell_type": "markdown",
      "source": [
        "# weekday\n",
        "- 데이터수 : 50개\n",
        "- 채널 수\n",
        "- 데이터 길이 : 7567\n",
        "- \n",
        "\n",
        "# weekend\n",
        "- 데이터수 : 17개\n",
        "- 채널 수\n",
        "- 데이터 길이 : 8247\n",
        "- \n"
      ],
      "metadata": {
        "id": "WIhlJXtpUPsT"
      }
    },
    {
      "cell_type": "code",
      "source": [
        "# 변수 정의하기\n",
        "# variables\n",
        "FREQUENCY_OF_DATASET = 500   # 심박수 한 사이클. 1/Hz = 주기. 일단 해보고 바꾼다면 2000\n",
        "\n",
        "num_classes = 4 # Core, REM, Deep, Awake"
      ],
      "metadata": {
        "id": "EIKMs3MyQ_Ic"
      },
      "execution_count": 3,
      "outputs": []
    },
    {
      "cell_type": "markdown",
      "source": [
        "# 데이터 증강"
      ],
      "metadata": {
        "id": "4ij73XR6dk_F"
      }
    },
    {
      "cell_type": "code",
      "source": [
        "def augmentation(dataset, ratio = 0.8):\n",
        "  train_idx = int(50 * ratio)  # 80%를 트레인세트로 분류\n",
        "  idx = np.arange(50)        # 0 ~ 49\n",
        "  np.random.shuffle(idx)\n",
        "\n",
        "  x = dataset[:][idx]\n",
        "  y = dataset[:][idx]\n",
        "\n",
        "  # 2. Split into 8:2\n",
        "  tmp_train_x = x[:train_idx]\n",
        "  tmp_valid_x = x[train_idx:]\n",
        "  tmp_train_y = y[:train_idx]\n",
        "  tmp_valid_y = y[train_idx:]\n",
        "\n",
        "  # 3. Augmentation on Train and Valid dataset\n",
        "  # step 설명 : 250 (0.5초) 이동하며 6초 신호를 augmentation한다.\n",
        "  step = 250\n",
        "\n",
        "  N_train = 1500  # 여유있게 범위를 줌\n",
        "  N_valid = 400\n",
        "\n",
        "  train_x, train_y = np.zeros((N_train, 2000, 1), dtype=np.float32), np.zeros((N_train, 2000, 4), dtype=np.float32) # 4초\n",
        "  valid_x, valid_y = np.zeros((N_valid, 2000, 1), dtype=np.float32), np.zeros((N_valid, 2000, 4), dtype=np.float32) \n",
        "  # print(N_train, N_valid)\n",
        "  print(\"Start Augmentation\")\n",
        "\n",
        "  # 4.1. Train\n",
        "  t_cnt, v_cnt = 0, 0\n",
        "  for patient in range(train_idx):\n",
        "    tmp = tmp_train_y[patient]\n",
        "\n",
        "    # tmp = np.argmax(tmp[:, 1:], axis=-1) \n",
        "    tmp = np.nonzero(tmp)[0]            # 0이 아닌 값들의 index 들을 반환해 주는 함수\n",
        "    start_idx, end_idx = tmp[0], tmp[-1]\n",
        "    length = end_idx - start_idx + 1\n",
        "\n",
        "    tmp_x = tmp_train_x[patient, start_idx:end_idx + 1]\n",
        "    tmp_y = tmp_train_y[patient, start_idx:end_idx + 1]\n",
        "    for idx in range(0, length-2000, step):        # 원본 15초에서 6초만큼씩 잘라, step 만큼 이동하여 데이터 증강\n",
        "      train_x[t_cnt] = tmp_x[idx:idx + 2000, :]\n",
        "      train_y[t_cnt] = tmp_y[idx:idx + 2000, :]\n",
        "      t_cnt += 1\n",
        "  print(f\"Number of Train set : {t_cnt}\")\n",
        "\n",
        "  # # 4.2. Valid\n",
        "  for patient in range(50-train_idx):\n",
        "    tmp = tmp_valid_y[patient]\n",
        "    \n",
        "    tmp = np.nonzero(tmp)[0]  \n",
        "    start_idx, end_idx = tmp[0], tmp[-1]\n",
        "    length = end_idx - start_idx + 1\n",
        "\n",
        "    tmp_x = tmp_valid_x[patient, start_idx:end_idx + 1]\n",
        "    tmp_y = tmp_valid_y[patient, start_idx:end_idx + 1]\n",
        "    for idx in range(0, length-2000, step):\n",
        "      valid_x[v_cnt] = tmp_x[idx:idx + 2000, :]\n",
        "      valid_y[v_cnt] = tmp_y[idx:idx + 2000, :]\n",
        "      v_cnt += 1\n",
        "  print(f\"Number of Valid set : {v_cnt}\")\n",
        "\n",
        "  train_x, train_y = train_x[:t_cnt], train_y[:t_cnt]\n",
        "  valid_x, valid_y = valid_x[:v_cnt], valid_y[:v_cnt]\n",
        "\n",
        "  # 5. Shuffle and Save\n",
        "  print(\"\\nStart saving the dataset...\")\n",
        "  idx = np.arange(t_cnt)\n",
        "  np.random.shuffle(idx)\n",
        "  train_x = train_x[idx]\n",
        "  train_y = train_y[idx]\n",
        "\n",
        "  np.save(f\"train_x\", train_x)\n",
        "  np.save(f\"train_y\", train_y)\n",
        "\n",
        "  np.save(f\"valid_x\", valid_x)\n",
        "  np.save(f\"valid_y\", valid_y)\n",
        "  print(\"Complete saving\\n\")"
      ],
      "metadata": {
        "id": "EWRG5ScfQ6fe"
      },
      "execution_count": 4,
      "outputs": []
    },
    {
      "cell_type": "markdown",
      "source": [
        "# 모델 설계 : U-Net 1D"
      ],
      "metadata": {
        "id": "vZpAYugadMVl"
      }
    },
    {
      "cell_type": "code",
      "source": [
        "def UNet1D():\n",
        "    num_filter = 16\n",
        "\n",
        "    inputs = Input((2000, 1))  # length of 4 sec signal is 3,000\n",
        "\n",
        "    # Encoder\n",
        "    x = Conv1D(num_filter, 9, kernel_initializer='he_normal', padding='same')(inputs)\n",
        "    # kernel_initializer : kernel가중치 행렬의 초기화 프로그램입니다( 참조 keras.initializers). 기본값은 'glorot_uniform'입니다.\n",
        "    x = BatchNormalization()(x)\n",
        "    x = SpatialDropout1D(0.3)(x)\n",
        "    x = Activation('relu')(x)\n",
        "    x = Conv1D(num_filter, 9, kernel_initializer='he_normal', padding='same')(x)\n",
        "    x = BatchNormalization()(x)\n",
        "    x = SpatialDropout1D(0.3)(x)\n",
        "    o1 = Activation('relu')(x)\n",
        "    x = MaxPooling1D(2)(o1)\n",
        "\n",
        "    x = Conv1D(num_filter*2, 9, kernel_initializer='he_normal', padding='same')(x)\n",
        "    x = BatchNormalization()(x)\n",
        "    x = SpatialDropout1D(0.3)(x)\n",
        "    x = Activation('relu')(x)\n",
        "    x = Conv1D(num_filter*2, 9, kernel_initializer='he_normal', padding='same')(x)\n",
        "    x = BatchNormalization()(x)\n",
        "    x = SpatialDropout1D(0.3)(x)\n",
        "    o2 = Activation('relu')(x)\n",
        "    x = MaxPooling1D(2)(o2)\n",
        "\n",
        "    x = Conv1D(num_filter*4, 9, kernel_initializer='he_normal', padding='same')(x)\n",
        "    x = BatchNormalization()(x)\n",
        "    x = SpatialDropout1D(0.3)(x)\n",
        "    x = Activation('relu')(x)\n",
        "    x = Conv1D(num_filter*4, 9, kernel_initializer='he_normal', padding='same')(x)\n",
        "    x = BatchNormalization()(x)\n",
        "    x = SpatialDropout1D(0.3)(x)\n",
        "    o3 = Activation('relu')(x)\n",
        "    x = MaxPooling1D(2)(o3)\n",
        "\n",
        "    x = Conv1D(num_filter*8, 9, kernel_initializer='he_normal', padding='same')(x)\n",
        "    x = BatchNormalization()(x)\n",
        "    x = SpatialDropout1D(0.3)(x)\n",
        "    x = Activation('relu')(x)\n",
        "    x = Conv1D(num_filter*8, 9, kernel_initializer='he_normal', padding='same')(x)\n",
        "    x = BatchNormalization()(x)\n",
        "    x = SpatialDropout1D(0.3)(x)\n",
        "    o4 = Activation('relu')(x)\n",
        "    x = MaxPooling1D(2)(o4)\n",
        "\n",
        "    x = Conv1D(num_filter*16, 9, kernel_initializer='he_normal', padding='same')(x)\n",
        "    x = BatchNormalization()(x)\n",
        "    x = SpatialDropout1D(0.3)(x)\n",
        "    x = Activation('relu')(x)\n",
        "    x = Conv1D(num_filter*16, 9, kernel_initializer='he_normal', padding='same')(x)\n",
        "    x = BatchNormalization()(x)\n",
        "    x = SpatialDropout1D(0.3)(x)\n",
        "    x = Activation('relu')(x)  \n",
        "\n",
        "    # Decoder\n",
        "    x = Conv1DTranspose(num_filter*8, 8, strides=2, padding='same')(x)\n",
        "    print(x.shape, o4.shape)\n",
        "    x = concatenate([x, o4])\n",
        "    x = Conv1D(num_filter*8, 9, kernel_initializer='he_normal', padding='same')(x)\n",
        "    x = BatchNormalization()(x)\n",
        "    x = SpatialDropout1D(0.3)(x)\n",
        "    x = Activation('relu')(x)\n",
        "    x = Conv1D(num_filter*8, 9, kernel_initializer='he_normal', padding='same')(x)\n",
        "    x = BatchNormalization()(x)\n",
        "    x = SpatialDropout1D(0.3)(x)\n",
        "    x = Activation('relu')(x)\n",
        "\n",
        "    x = Conv1DTranspose(num_filter*4, 8, strides=2, padding='same')(x)\n",
        "    print(x.shape, o3.shape)\n",
        "    x = concatenate([x, o3])\n",
        "    x = Conv1D(num_filter*4, 9, kernel_initializer='he_normal', padding='same')(x)\n",
        "    x = BatchNormalization()(x)\n",
        "    x = SpatialDropout1D(0.3)(x)\n",
        "    x = Activation('relu')(x)\n",
        "    x = Conv1D(num_filter*4, 9, kernel_initializer='he_normal', padding='same')(x)\n",
        "    x = BatchNormalization()(x)\n",
        "    x = SpatialDropout1D(0.3)(x)\n",
        "    x = Activation('relu')(x)\n",
        "\n",
        "    x = Conv1DTranspose(num_filter*2, 8, strides=2, padding='same')(x)\n",
        "    print(x.shape, o2.shape)\n",
        "    x = concatenate([x, o2])\n",
        "    x = Conv1D(num_filter*2, 9, kernel_initializer='he_normal', padding='same')(x)\n",
        "    x = BatchNormalization()(x)\n",
        "    x = SpatialDropout1D(0.3)(x)\n",
        "    x = Activation('relu')(x)\n",
        "    x = Conv1D(num_filter*2, 9, kernel_initializer='he_normal', padding='same')(x)\n",
        "    x = BatchNormalization()(x)\n",
        "    x = SpatialDropout1D(0.3)(x)\n",
        "    x = Activation('relu')(x)\n",
        "\n",
        "    x = Conv1DTranspose(num_filter, 8, strides=2, padding='same')(x)\n",
        "    print(x.shape, o1.shape)\n",
        "    x = concatenate([x, o1])\n",
        "    x = Conv1D(num_filter, 9, kernel_initializer='he_normal', padding='same')(x)\n",
        "    x = BatchNormalization()(x)\n",
        "    x = SpatialDropout1D(0.3)(x)\n",
        "    x = Activation('relu')(x)\n",
        "    x = Conv1D(num_filter, 9, kernel_initializer='he_normal', padding='same')(x)\n",
        "    x = BatchNormalization()(x)\n",
        "    x = SpatialDropout1D(0.3)(x)\n",
        "    x = Activation('relu')(x)\n",
        "\n",
        "    outputs = Conv1D(num_classes, 1, activation='softmax', kernel_initializer='he_normal')(x)\n",
        "\n",
        "    model = Model(inputs=inputs, outputs=outputs)\n",
        "    return model"
      ],
      "metadata": {
        "id": "PEKM-9ZGQ6dC"
      },
      "execution_count": 5,
      "outputs": []
    },
    {
      "cell_type": "markdown",
      "source": [
        "# 성능평가함수 정의"
      ],
      "metadata": {
        "id": "mkhR7qmedRt-"
      }
    },
    {
      "cell_type": "code",
      "source": [
        "# 1. F1-Score = Dice score\n",
        "def f1_score(y_true, y_pred):\n",
        "    smooth = 0.0001\n",
        "    intersection = K.sum(y_true * y_pred, axis=[1, 2])\n",
        "    union = K.sum(y_true, axis=[1, 2]) + K.sum(y_pred, axis=[1, 2])\n",
        "    return K.mean( (2. * intersection + smooth) / (union + smooth), axis=0)\n",
        "\n",
        "class f1_loss(tf.losses.Loss):\n",
        "    def __init__(self):\n",
        "        super(f1_loss, self).__init__(reduction='auto', name=\"f1_loss\")\n",
        "\n",
        "    def call(self, y_true, y_pred):\n",
        "        return 1 - f1_score(y_true, y_pred)\n",
        "\n",
        "\n",
        "# 2. Jaccard = IoU\n",
        "def Jaccard(y_true, y_pred):\n",
        "    smooth = 0.0001\n",
        "    intersection = K.sum(y_true * y_pred, axis=[1, 2])\n",
        "    union = K.sum(y_true, axis=[1, 2]) + K.sum(y_pred, axis=[1, 2])\n",
        "    return K.mean((intersection + smooth) / (union - intersection + smooth), axis=0)\n",
        "\n",
        "class JaccardLoss(tf.losses.Loss):\n",
        "    def __init__(self):\n",
        "        super(JaccardLoss, self).__init__(reduction='auto', name=\"JaccardLoss\")\n",
        "\n",
        "    def call(self, y_true, y_pred):\n",
        "        return 1 - Jaccard(y_true, y_pred)"
      ],
      "metadata": {
        "id": "9K1Tj3XGQ6as"
      },
      "execution_count": 6,
      "outputs": []
    },
    {
      "cell_type": "markdown",
      "source": [
        "# 예측 함수 정의"
      ],
      "metadata": {
        "id": "lWK3jU3QdYnx"
      }
    },
    {
      "cell_type": "code",
      "source": [
        "def Predict(test, n_sample=5):\n",
        "    '''\n",
        "    Input\n",
        "        - test: [valid_x, valid_y]\n",
        "        - n_sample: 보여줄 샘플 갯수\n",
        "    테스트셋에 대해서 예측한 결과와 실제 labeling 데이터를 시각화한다.    \n",
        "    '''\n",
        "    model = UNet1D()\n",
        "    model.compile(optimizer=tf.keras.optimizers.Adam(learning_rate=0.005),\n",
        "                  loss=f1_loss(),\n",
        "                  metrics=[Jaccard, f1_score])\n",
        "    model.load_weights(\"weights.h5\")\n",
        "\n",
        "    for i, test_ecg in enumerate(test[0]): # valid_x\n",
        "        pred = model.predict(np.reshape(test_ecg, (1, 2000, 1)))\n",
        "        true = np.argmax(test[1][i], axis=-1)\n",
        "        pred = np.argmax(pred[0], axis=-1)\n",
        "\n",
        "        fig, ax = plt.subplots(3, 1, figsize=(20, 12))\n",
        "\n",
        "        ax[0].plot(test_ecg[:, 1])\n",
        "        ax[0].set_title(f\"ECG_{i}'s lead II\", fontsize=10)\n",
        "\n",
        "        ax[1].plot(true)\n",
        "        ax[1].set_title(f\"ECG_{i}'s Groud Truth\", fontsize=10)\n",
        "\n",
        "        ax[2].plot(pred)\n",
        "        ax[2].set_title(f\"ECG_{i}'s Prediction\", fontsize=10)\n",
        "\n",
        "        plt.show()\n",
        "        \n",
        "        # 20개의 샘플만 보여준 후 멈춤\n",
        "        if i == n_sample - 1:\n",
        "            break"
      ],
      "metadata": {
        "id": "e44gaO07dZl1"
      },
      "execution_count": 18,
      "outputs": []
    },
    {
      "cell_type": "code",
      "source": [],
      "metadata": {
        "id": "f1jLPv-rda5D"
      },
      "execution_count": null,
      "outputs": []
    },
    {
      "cell_type": "code",
      "source": [
        "import warnings\n",
        "warnings.filterwarnings(action='ignore')"
      ],
      "metadata": {
        "id": "GZiTYG2Tfwwj"
      },
      "execution_count": 8,
      "outputs": []
    },
    {
      "cell_type": "code",
      "source": [
        "import pandas as pd\n",
        "\n",
        "weekday = pd.read_csv('/content/drive/MyDrive/KDT_project/Hackathon/CNNsegmentation/data/weekday.csv')\n",
        "weekend = pd.read_csv('/content/drive/MyDrive/KDT_project/Hackathon/CNNsegmentation/data/weekend.csv')\n",
        "weekday = weekday.drop('Unnamed: 0', axis=1)\n",
        "weekend = weekend.drop('Unnamed: 0', axis=1)\n",
        "print(weekday.shape, weekend.shape)"
      ],
      "metadata": {
        "colab": {
          "base_uri": "https://localhost:8080/"
        },
        "id": "ZZIrIpZ7dTyH",
        "outputId": "d7837d64-ed46-4530-9d51-e1a828e50ba6"
      },
      "execution_count": 9,
      "outputs": [
        {
          "output_type": "stream",
          "name": "stdout",
          "text": [
            "(1434, 7) (575, 7)\n"
          ]
        }
      ]
    },
    {
      "cell_type": "code",
      "source": [
        "img_weekday = weekday.iloc[:,[2,3]]\n",
        "img_weekday[\"Duration (hr)\"] = img_weekday[\"Duration (hr)\"].astype('float') * 1000\n",
        "img_weekday['Value']= img_weekday['Value'].replace('Core',2)\n",
        "img_weekday['Value']= img_weekday['Value'].replace('REM',3)\n",
        "img_weekday['Value']= img_weekday['Value'].replace('Deep',1)\n",
        "img_weekday['Value']= img_weekday['Value'].replace('Awake',4)\n",
        "img_weekday = img_weekday[[\"Duration (hr)\", \"Value\"]]\n",
        "img_weekday = np.array(img_weekday)\n",
        "\n",
        "x_list = []   # 라벨을 duration 만큼 반복한 array를 list에 append\n",
        "for x in img_weekday:\n",
        "  if x[1] != 0:\n",
        "    timeseries = np.ones([int(x[0])]) * x[1]\n",
        "    x_list.append(timeseries)\n",
        "\n",
        "ts = np.concatenate(x_list)[:-3383]\n",
        "print(ts.shape)\n",
        "\n",
        "tmp = ts.reshape(50, 7500, -1)\n",
        "print(tmp.shape)\n",
        "\n"
      ],
      "metadata": {
        "colab": {
          "base_uri": "https://localhost:8080/"
        },
        "id": "pxEjQPGjeCJH",
        "outputId": "76ba7189-835f-48b3-9679-b3af0a9f4806"
      },
      "execution_count": 10,
      "outputs": [
        {
          "output_type": "stream",
          "name": "stdout",
          "text": [
            "(375000,)\n",
            "(50, 7500, 1)\n"
          ]
        }
      ]
    },
    {
      "cell_type": "code",
      "source": [
        "# Augmentation\n",
        "augmentation(tmp)\n",
        "del tmp"
      ],
      "metadata": {
        "colab": {
          "base_uri": "https://localhost:8080/"
        },
        "id": "KKYqGj0fHxZz",
        "outputId": "b1b493c8-b6c0-4185-c4fb-28699b26f642"
      },
      "execution_count": 11,
      "outputs": [
        {
          "output_type": "stream",
          "name": "stdout",
          "text": [
            "Start Augmentation\n",
            "Number of Train set : 880\n",
            "Number of Valid set : 220\n",
            "\n",
            "Start saving the dataset...\n",
            "Complete saving\n",
            "\n"
          ]
        }
      ]
    },
    {
      "cell_type": "code",
      "source": [
        "train = [np.load(\"train_x.npy\"), np.load(\"train_y.npy\")]\n",
        "valid = [np.load(\"valid_x.npy\"), np.load(\"valid_y.npy\")]"
      ],
      "metadata": {
        "id": "48oGbuV2Hrub"
      },
      "execution_count": 12,
      "outputs": []
    },
    {
      "cell_type": "markdown",
      "source": [
        "# 모델 학습"
      ],
      "metadata": {
        "id": "unx4Kj6cNvSE"
      }
    },
    {
      "cell_type": "code",
      "source": [
        "# 4. Model\n",
        "print(\"Start Training\")\n",
        "batch_size = 256\n",
        "lr = 0.005\n",
        "epochs = 2000\n",
        "\n",
        "model = UNet1D()\n",
        "model.summary()"
      ],
      "metadata": {
        "colab": {
          "base_uri": "https://localhost:8080/"
        },
        "id": "s9GpBefBV7h_",
        "outputId": "bca9cca5-65a2-4304-bdd4-5268cf83b514"
      },
      "execution_count": 13,
      "outputs": [
        {
          "output_type": "stream",
          "name": "stdout",
          "text": [
            "Start Training\n",
            "(None, 250, 128) (None, 250, 128)\n",
            "(None, 500, 64) (None, 500, 64)\n",
            "(None, 1000, 32) (None, 1000, 32)\n",
            "(None, 2000, 16) (None, 2000, 16)\n",
            "Model: \"model\"\n",
            "__________________________________________________________________________________________________\n",
            " Layer (type)                   Output Shape         Param #     Connected to                     \n",
            "==================================================================================================\n",
            " input_1 (InputLayer)           [(None, 2000, 1)]    0           []                               \n",
            "                                                                                                  \n",
            " conv1d (Conv1D)                (None, 2000, 16)     160         ['input_1[0][0]']                \n",
            "                                                                                                  \n",
            " batch_normalization (BatchNorm  (None, 2000, 16)    64          ['conv1d[0][0]']                 \n",
            " alization)                                                                                       \n",
            "                                                                                                  \n",
            " spatial_dropout1d (SpatialDrop  (None, 2000, 16)    0           ['batch_normalization[0][0]']    \n",
            " out1D)                                                                                           \n",
            "                                                                                                  \n",
            " activation (Activation)        (None, 2000, 16)     0           ['spatial_dropout1d[0][0]']      \n",
            "                                                                                                  \n",
            " conv1d_1 (Conv1D)              (None, 2000, 16)     2320        ['activation[0][0]']             \n",
            "                                                                                                  \n",
            " batch_normalization_1 (BatchNo  (None, 2000, 16)    64          ['conv1d_1[0][0]']               \n",
            " rmalization)                                                                                     \n",
            "                                                                                                  \n",
            " spatial_dropout1d_1 (SpatialDr  (None, 2000, 16)    0           ['batch_normalization_1[0][0]']  \n",
            " opout1D)                                                                                         \n",
            "                                                                                                  \n",
            " activation_1 (Activation)      (None, 2000, 16)     0           ['spatial_dropout1d_1[0][0]']    \n",
            "                                                                                                  \n",
            " max_pooling1d (MaxPooling1D)   (None, 1000, 16)     0           ['activation_1[0][0]']           \n",
            "                                                                                                  \n",
            " conv1d_2 (Conv1D)              (None, 1000, 32)     4640        ['max_pooling1d[0][0]']          \n",
            "                                                                                                  \n",
            " batch_normalization_2 (BatchNo  (None, 1000, 32)    128         ['conv1d_2[0][0]']               \n",
            " rmalization)                                                                                     \n",
            "                                                                                                  \n",
            " spatial_dropout1d_2 (SpatialDr  (None, 1000, 32)    0           ['batch_normalization_2[0][0]']  \n",
            " opout1D)                                                                                         \n",
            "                                                                                                  \n",
            " activation_2 (Activation)      (None, 1000, 32)     0           ['spatial_dropout1d_2[0][0]']    \n",
            "                                                                                                  \n",
            " conv1d_3 (Conv1D)              (None, 1000, 32)     9248        ['activation_2[0][0]']           \n",
            "                                                                                                  \n",
            " batch_normalization_3 (BatchNo  (None, 1000, 32)    128         ['conv1d_3[0][0]']               \n",
            " rmalization)                                                                                     \n",
            "                                                                                                  \n",
            " spatial_dropout1d_3 (SpatialDr  (None, 1000, 32)    0           ['batch_normalization_3[0][0]']  \n",
            " opout1D)                                                                                         \n",
            "                                                                                                  \n",
            " activation_3 (Activation)      (None, 1000, 32)     0           ['spatial_dropout1d_3[0][0]']    \n",
            "                                                                                                  \n",
            " max_pooling1d_1 (MaxPooling1D)  (None, 500, 32)     0           ['activation_3[0][0]']           \n",
            "                                                                                                  \n",
            " conv1d_4 (Conv1D)              (None, 500, 64)      18496       ['max_pooling1d_1[0][0]']        \n",
            "                                                                                                  \n",
            " batch_normalization_4 (BatchNo  (None, 500, 64)     256         ['conv1d_4[0][0]']               \n",
            " rmalization)                                                                                     \n",
            "                                                                                                  \n",
            " spatial_dropout1d_4 (SpatialDr  (None, 500, 64)     0           ['batch_normalization_4[0][0]']  \n",
            " opout1D)                                                                                         \n",
            "                                                                                                  \n",
            " activation_4 (Activation)      (None, 500, 64)      0           ['spatial_dropout1d_4[0][0]']    \n",
            "                                                                                                  \n",
            " conv1d_5 (Conv1D)              (None, 500, 64)      36928       ['activation_4[0][0]']           \n",
            "                                                                                                  \n",
            " batch_normalization_5 (BatchNo  (None, 500, 64)     256         ['conv1d_5[0][0]']               \n",
            " rmalization)                                                                                     \n",
            "                                                                                                  \n",
            " spatial_dropout1d_5 (SpatialDr  (None, 500, 64)     0           ['batch_normalization_5[0][0]']  \n",
            " opout1D)                                                                                         \n",
            "                                                                                                  \n",
            " activation_5 (Activation)      (None, 500, 64)      0           ['spatial_dropout1d_5[0][0]']    \n",
            "                                                                                                  \n",
            " max_pooling1d_2 (MaxPooling1D)  (None, 250, 64)     0           ['activation_5[0][0]']           \n",
            "                                                                                                  \n",
            " conv1d_6 (Conv1D)              (None, 250, 128)     73856       ['max_pooling1d_2[0][0]']        \n",
            "                                                                                                  \n",
            " batch_normalization_6 (BatchNo  (None, 250, 128)    512         ['conv1d_6[0][0]']               \n",
            " rmalization)                                                                                     \n",
            "                                                                                                  \n",
            " spatial_dropout1d_6 (SpatialDr  (None, 250, 128)    0           ['batch_normalization_6[0][0]']  \n",
            " opout1D)                                                                                         \n",
            "                                                                                                  \n",
            " activation_6 (Activation)      (None, 250, 128)     0           ['spatial_dropout1d_6[0][0]']    \n",
            "                                                                                                  \n",
            " conv1d_7 (Conv1D)              (None, 250, 128)     147584      ['activation_6[0][0]']           \n",
            "                                                                                                  \n",
            " batch_normalization_7 (BatchNo  (None, 250, 128)    512         ['conv1d_7[0][0]']               \n",
            " rmalization)                                                                                     \n",
            "                                                                                                  \n",
            " spatial_dropout1d_7 (SpatialDr  (None, 250, 128)    0           ['batch_normalization_7[0][0]']  \n",
            " opout1D)                                                                                         \n",
            "                                                                                                  \n",
            " activation_7 (Activation)      (None, 250, 128)     0           ['spatial_dropout1d_7[0][0]']    \n",
            "                                                                                                  \n",
            " max_pooling1d_3 (MaxPooling1D)  (None, 125, 128)    0           ['activation_7[0][0]']           \n",
            "                                                                                                  \n",
            " conv1d_8 (Conv1D)              (None, 125, 256)     295168      ['max_pooling1d_3[0][0]']        \n",
            "                                                                                                  \n",
            " batch_normalization_8 (BatchNo  (None, 125, 256)    1024        ['conv1d_8[0][0]']               \n",
            " rmalization)                                                                                     \n",
            "                                                                                                  \n",
            " spatial_dropout1d_8 (SpatialDr  (None, 125, 256)    0           ['batch_normalization_8[0][0]']  \n",
            " opout1D)                                                                                         \n",
            "                                                                                                  \n",
            " activation_8 (Activation)      (None, 125, 256)     0           ['spatial_dropout1d_8[0][0]']    \n",
            "                                                                                                  \n",
            " conv1d_9 (Conv1D)              (None, 125, 256)     590080      ['activation_8[0][0]']           \n",
            "                                                                                                  \n",
            " batch_normalization_9 (BatchNo  (None, 125, 256)    1024        ['conv1d_9[0][0]']               \n",
            " rmalization)                                                                                     \n",
            "                                                                                                  \n",
            " spatial_dropout1d_9 (SpatialDr  (None, 125, 256)    0           ['batch_normalization_9[0][0]']  \n",
            " opout1D)                                                                                         \n",
            "                                                                                                  \n",
            " activation_9 (Activation)      (None, 125, 256)     0           ['spatial_dropout1d_9[0][0]']    \n",
            "                                                                                                  \n",
            " conv1d_transpose (Conv1DTransp  (None, 250, 128)    262272      ['activation_9[0][0]']           \n",
            " ose)                                                                                             \n",
            "                                                                                                  \n",
            " concatenate (Concatenate)      (None, 250, 256)     0           ['conv1d_transpose[0][0]',       \n",
            "                                                                  'activation_7[0][0]']           \n",
            "                                                                                                  \n",
            " conv1d_10 (Conv1D)             (None, 250, 128)     295040      ['concatenate[0][0]']            \n",
            "                                                                                                  \n",
            " batch_normalization_10 (BatchN  (None, 250, 128)    512         ['conv1d_10[0][0]']              \n",
            " ormalization)                                                                                    \n",
            "                                                                                                  \n",
            " spatial_dropout1d_10 (SpatialD  (None, 250, 128)    0           ['batch_normalization_10[0][0]'] \n",
            " ropout1D)                                                                                        \n",
            "                                                                                                  \n",
            " activation_10 (Activation)     (None, 250, 128)     0           ['spatial_dropout1d_10[0][0]']   \n",
            "                                                                                                  \n",
            " conv1d_11 (Conv1D)             (None, 250, 128)     147584      ['activation_10[0][0]']          \n",
            "                                                                                                  \n",
            " batch_normalization_11 (BatchN  (None, 250, 128)    512         ['conv1d_11[0][0]']              \n",
            " ormalization)                                                                                    \n",
            "                                                                                                  \n",
            " spatial_dropout1d_11 (SpatialD  (None, 250, 128)    0           ['batch_normalization_11[0][0]'] \n",
            " ropout1D)                                                                                        \n",
            "                                                                                                  \n",
            " activation_11 (Activation)     (None, 250, 128)     0           ['spatial_dropout1d_11[0][0]']   \n",
            "                                                                                                  \n",
            " conv1d_transpose_1 (Conv1DTran  (None, 500, 64)     65600       ['activation_11[0][0]']          \n",
            " spose)                                                                                           \n",
            "                                                                                                  \n",
            " concatenate_1 (Concatenate)    (None, 500, 128)     0           ['conv1d_transpose_1[0][0]',     \n",
            "                                                                  'activation_5[0][0]']           \n",
            "                                                                                                  \n",
            " conv1d_12 (Conv1D)             (None, 500, 64)      73792       ['concatenate_1[0][0]']          \n",
            "                                                                                                  \n",
            " batch_normalization_12 (BatchN  (None, 500, 64)     256         ['conv1d_12[0][0]']              \n",
            " ormalization)                                                                                    \n",
            "                                                                                                  \n",
            " spatial_dropout1d_12 (SpatialD  (None, 500, 64)     0           ['batch_normalization_12[0][0]'] \n",
            " ropout1D)                                                                                        \n",
            "                                                                                                  \n",
            " activation_12 (Activation)     (None, 500, 64)      0           ['spatial_dropout1d_12[0][0]']   \n",
            "                                                                                                  \n",
            " conv1d_13 (Conv1D)             (None, 500, 64)      36928       ['activation_12[0][0]']          \n",
            "                                                                                                  \n",
            " batch_normalization_13 (BatchN  (None, 500, 64)     256         ['conv1d_13[0][0]']              \n",
            " ormalization)                                                                                    \n",
            "                                                                                                  \n",
            " spatial_dropout1d_13 (SpatialD  (None, 500, 64)     0           ['batch_normalization_13[0][0]'] \n",
            " ropout1D)                                                                                        \n",
            "                                                                                                  \n",
            " activation_13 (Activation)     (None, 500, 64)      0           ['spatial_dropout1d_13[0][0]']   \n",
            "                                                                                                  \n",
            " conv1d_transpose_2 (Conv1DTran  (None, 1000, 32)    16416       ['activation_13[0][0]']          \n",
            " spose)                                                                                           \n",
            "                                                                                                  \n",
            " concatenate_2 (Concatenate)    (None, 1000, 64)     0           ['conv1d_transpose_2[0][0]',     \n",
            "                                                                  'activation_3[0][0]']           \n",
            "                                                                                                  \n",
            " conv1d_14 (Conv1D)             (None, 1000, 32)     18464       ['concatenate_2[0][0]']          \n",
            "                                                                                                  \n",
            " batch_normalization_14 (BatchN  (None, 1000, 32)    128         ['conv1d_14[0][0]']              \n",
            " ormalization)                                                                                    \n",
            "                                                                                                  \n",
            " spatial_dropout1d_14 (SpatialD  (None, 1000, 32)    0           ['batch_normalization_14[0][0]'] \n",
            " ropout1D)                                                                                        \n",
            "                                                                                                  \n",
            " activation_14 (Activation)     (None, 1000, 32)     0           ['spatial_dropout1d_14[0][0]']   \n",
            "                                                                                                  \n",
            " conv1d_15 (Conv1D)             (None, 1000, 32)     9248        ['activation_14[0][0]']          \n",
            "                                                                                                  \n",
            " batch_normalization_15 (BatchN  (None, 1000, 32)    128         ['conv1d_15[0][0]']              \n",
            " ormalization)                                                                                    \n",
            "                                                                                                  \n",
            " spatial_dropout1d_15 (SpatialD  (None, 1000, 32)    0           ['batch_normalization_15[0][0]'] \n",
            " ropout1D)                                                                                        \n",
            "                                                                                                  \n",
            " activation_15 (Activation)     (None, 1000, 32)     0           ['spatial_dropout1d_15[0][0]']   \n",
            "                                                                                                  \n",
            " conv1d_transpose_3 (Conv1DTran  (None, 2000, 16)    4112        ['activation_15[0][0]']          \n",
            " spose)                                                                                           \n",
            "                                                                                                  \n",
            " concatenate_3 (Concatenate)    (None, 2000, 32)     0           ['conv1d_transpose_3[0][0]',     \n",
            "                                                                  'activation_1[0][0]']           \n",
            "                                                                                                  \n",
            " conv1d_16 (Conv1D)             (None, 2000, 16)     4624        ['concatenate_3[0][0]']          \n",
            "                                                                                                  \n",
            " batch_normalization_16 (BatchN  (None, 2000, 16)    64          ['conv1d_16[0][0]']              \n",
            " ormalization)                                                                                    \n",
            "                                                                                                  \n",
            " spatial_dropout1d_16 (SpatialD  (None, 2000, 16)    0           ['batch_normalization_16[0][0]'] \n",
            " ropout1D)                                                                                        \n",
            "                                                                                                  \n",
            " activation_16 (Activation)     (None, 2000, 16)     0           ['spatial_dropout1d_16[0][0]']   \n",
            "                                                                                                  \n",
            " conv1d_17 (Conv1D)             (None, 2000, 16)     2320        ['activation_16[0][0]']          \n",
            "                                                                                                  \n",
            " batch_normalization_17 (BatchN  (None, 2000, 16)    64          ['conv1d_17[0][0]']              \n",
            " ormalization)                                                                                    \n",
            "                                                                                                  \n",
            " spatial_dropout1d_17 (SpatialD  (None, 2000, 16)    0           ['batch_normalization_17[0][0]'] \n",
            " ropout1D)                                                                                        \n",
            "                                                                                                  \n",
            " activation_17 (Activation)     (None, 2000, 16)     0           ['spatial_dropout1d_17[0][0]']   \n",
            "                                                                                                  \n",
            " conv1d_18 (Conv1D)             (None, 2000, 4)      68          ['activation_17[0][0]']          \n",
            "                                                                                                  \n",
            "==================================================================================================\n",
            "Total params: 2,120,836\n",
            "Trainable params: 2,117,892\n",
            "Non-trainable params: 2,944\n",
            "__________________________________________________________________________________________________\n"
          ]
        }
      ]
    },
    {
      "cell_type": "code",
      "source": [
        "# 5. Train\n",
        "model.compile(optimizer=tf.keras.optimizers.Adam(learning_rate=lr),\n",
        "              loss=f1_loss(),\n",
        "              metrics=[Jaccard, f1_score])\n",
        "\n",
        "callbacks_list = [\n",
        "    tf.keras.callbacks.ModelCheckpoint(\n",
        "        filepath=\"weights.h5\",\n",
        "        monitor=\"val_f1_score\",\n",
        "        mode=\"max\",\n",
        "        save_best_only=True,\n",
        "        save_weights_only=True,\n",
        "        verbose=1),\n",
        "\n",
        "    tf.keras.callbacks.EarlyStopping(\n",
        "        monitor=\"val_f1_score\",\n",
        "        min_delta=0.005,\n",
        "        mode=\"max\",\n",
        "        patience=10,\n",
        "        verbose=1),\n",
        "\n",
        "    tf.keras.callbacks.ReduceLROnPlateau(\n",
        "        monitor='val_f1_score',\n",
        "        factor=0.5,\n",
        "        patience=5,\n",
        "        mode='max',\n",
        "        min_delta=0.01,\n",
        "        cooldown=0,\n",
        "        min_lr=0.0001,\n",
        "        verbose=1)\n",
        "]\n",
        "\n",
        "history = model.fit(train[0], train[1],\n",
        "                    validation_data=(valid[0], valid[1]),\n",
        "                    callbacks=callbacks_list,\n",
        "                    epochs=epochs,\n",
        "                    batch_size=batch_size,\n",
        "                    shuffle=True,\n",
        "                    )\n",
        "\n",
        "\n",
        "loss = history.history['loss']\n",
        "val_loss = history.history['val_loss']\n",
        "Jaccard = history.history[\"Jaccard\"]\n",
        "val_Jaccard = history.history[\"val_Jaccard\"]\n",
        "f1 = history.history[\"f1_score\"]\n",
        "val_f1 = history.history[\"val_f1_score\"]\n",
        "\n",
        "epochs_range = range(len(loss))\n",
        "fig, ax = plt.subplots(1, 3, figsize = (20, 12))\n",
        "ax[0].plot(epochs_range, loss, label='Training Loss')\n",
        "ax[0].plot(epochs_range, val_loss, label='Validation Loss')\n",
        "\n",
        "ax[1].plot(epochs_range, Jaccard, label='Training Jaccard')\n",
        "ax[1].plot(epochs_range, val_Jaccard, label='Validation Jaccard')\n",
        "\n",
        "ax[2].plot(epochs_range, f1, label='Training f1-score')\n",
        "ax[2].plot(epochs_range, val_f1, label='Validation f1-score')\n",
        "plt.show()\n",
        "\n",
        "del model, history, train\n"
      ],
      "metadata": {
        "colab": {
          "base_uri": "https://localhost:8080/",
          "height": 1000
        },
        "id": "dfH6L4HaNuGn",
        "outputId": "5af8d1d1-21f8-4029-9a39-cc72674739ed"
      },
      "execution_count": 14,
      "outputs": [
        {
          "output_type": "stream",
          "name": "stdout",
          "text": [
            "Epoch 1/2000\n",
            "4/4 [==============================] - ETA: 0s - loss: 0.5527 - Jaccard: 0.2880 - f1_score: 0.4472\n",
            "Epoch 1: val_f1_score improved from -inf to 0.44687, saving model to weights.h5\n",
            "4/4 [==============================] - 40s 2s/step - loss: 0.5527 - Jaccard: 0.2880 - f1_score: 0.4472 - val_loss: 0.5531 - val_Jaccard: 0.2877 - val_f1_score: 0.4469 - lr: 0.0050\n",
            "Epoch 2/2000\n",
            "4/4 [==============================] - ETA: 0s - loss: 0.5527 - Jaccard: 0.2881 - f1_score: 0.4473\n",
            "Epoch 2: val_f1_score did not improve from 0.44687\n",
            "4/4 [==============================] - 1s 365ms/step - loss: 0.5527 - Jaccard: 0.2881 - f1_score: 0.4473 - val_loss: 0.5531 - val_Jaccard: 0.2877 - val_f1_score: 0.4469 - lr: 0.0050\n",
            "Epoch 3/2000\n",
            "4/4 [==============================] - ETA: 0s - loss: 0.5527 - Jaccard: 0.2881 - f1_score: 0.4473\n",
            "Epoch 3: val_f1_score did not improve from 0.44687\n",
            "4/4 [==============================] - 1s 341ms/step - loss: 0.5527 - Jaccard: 0.2881 - f1_score: 0.4473 - val_loss: 0.5531 - val_Jaccard: 0.2877 - val_f1_score: 0.4469 - lr: 0.0050\n",
            "Epoch 4/2000\n",
            "4/4 [==============================] - ETA: 0s - loss: 0.5527 - Jaccard: 0.2881 - f1_score: 0.4473\n",
            "Epoch 4: val_f1_score did not improve from 0.44687\n",
            "4/4 [==============================] - 1s 359ms/step - loss: 0.5527 - Jaccard: 0.2881 - f1_score: 0.4473 - val_loss: 0.5531 - val_Jaccard: 0.2877 - val_f1_score: 0.4469 - lr: 0.0050\n",
            "Epoch 5/2000\n",
            "4/4 [==============================] - ETA: 0s - loss: 0.5527 - Jaccard: 0.2880 - f1_score: 0.4471\n",
            "Epoch 5: val_f1_score did not improve from 0.44687\n",
            "4/4 [==============================] - 1s 341ms/step - loss: 0.5527 - Jaccard: 0.2880 - f1_score: 0.4471 - val_loss: 0.5531 - val_Jaccard: 0.2877 - val_f1_score: 0.4469 - lr: 0.0050\n",
            "Epoch 6/2000\n",
            "4/4 [==============================] - ETA: 0s - loss: 0.5527 - Jaccard: 0.2880 - f1_score: 0.4472\n",
            "Epoch 6: val_f1_score did not improve from 0.44687\n",
            "\n",
            "Epoch 6: ReduceLROnPlateau reducing learning rate to 0.0024999999441206455.\n",
            "4/4 [==============================] - 1s 342ms/step - loss: 0.5527 - Jaccard: 0.2880 - f1_score: 0.4472 - val_loss: 0.5531 - val_Jaccard: 0.2877 - val_f1_score: 0.4469 - lr: 0.0050\n",
            "Epoch 7/2000\n",
            "4/4 [==============================] - ETA: 0s - loss: 0.5527 - Jaccard: 0.2881 - f1_score: 0.4473\n",
            "Epoch 7: val_f1_score did not improve from 0.44687\n",
            "4/4 [==============================] - 1s 343ms/step - loss: 0.5527 - Jaccard: 0.2881 - f1_score: 0.4473 - val_loss: 0.5531 - val_Jaccard: 0.2877 - val_f1_score: 0.4469 - lr: 0.0025\n",
            "Epoch 8/2000\n",
            "4/4 [==============================] - ETA: 0s - loss: 0.5527 - Jaccard: 0.2880 - f1_score: 0.4472\n",
            "Epoch 8: val_f1_score did not improve from 0.44687\n",
            "4/4 [==============================] - 1s 359ms/step - loss: 0.5527 - Jaccard: 0.2880 - f1_score: 0.4472 - val_loss: 0.5531 - val_Jaccard: 0.2877 - val_f1_score: 0.4469 - lr: 0.0025\n",
            "Epoch 9/2000\n",
            "4/4 [==============================] - ETA: 0s - loss: 0.5527 - Jaccard: 0.2881 - f1_score: 0.4473\n",
            "Epoch 9: val_f1_score did not improve from 0.44687\n",
            "4/4 [==============================] - 1s 343ms/step - loss: 0.5527 - Jaccard: 0.2881 - f1_score: 0.4473 - val_loss: 0.5531 - val_Jaccard: 0.2877 - val_f1_score: 0.4469 - lr: 0.0025\n",
            "Epoch 10/2000\n",
            "4/4 [==============================] - ETA: 0s - loss: 0.5527 - Jaccard: 0.2880 - f1_score: 0.4472\n",
            "Epoch 10: val_f1_score did not improve from 0.44687\n",
            "4/4 [==============================] - 1s 366ms/step - loss: 0.5527 - Jaccard: 0.2880 - f1_score: 0.4472 - val_loss: 0.5531 - val_Jaccard: 0.2877 - val_f1_score: 0.4469 - lr: 0.0025\n",
            "Epoch 11/2000\n",
            "4/4 [==============================] - ETA: 0s - loss: 0.5527 - Jaccard: 0.2881 - f1_score: 0.4473\n",
            "Epoch 11: val_f1_score did not improve from 0.44687\n",
            "\n",
            "Epoch 11: ReduceLROnPlateau reducing learning rate to 0.0012499999720603228.\n",
            "4/4 [==============================] - 2s 384ms/step - loss: 0.5527 - Jaccard: 0.2881 - f1_score: 0.4473 - val_loss: 0.5531 - val_Jaccard: 0.2877 - val_f1_score: 0.4469 - lr: 0.0025\n",
            "Epoch 11: early stopping\n"
          ]
        },
        {
          "output_type": "display_data",
          "data": {
            "text/plain": [
              "<Figure size 2000x1200 with 3 Axes>"
            ],
            "image/png": "[encoded data removed]"
          },
          "metadata": {}
        }
      ]
    },
    {
      "cell_type": "code",
      "source": [
        "valid = [np.load(\"valid_x.npy\"), np.load(\"valid_y.npy\")]\n",
        "print(valid[0].shape)\n",
        "\n",
        "Predict(test=valid)"
      ],
      "metadata": {
        "colab": {
          "base_uri": "https://localhost:8080/",
          "height": 1000
        },
        "id": "BwiTLvMfHqw9",
        "outputId": "37304e53-365a-434c-e567-2eb566041977"
      },
      "execution_count": 19,
      "outputs": [
        {
          "output_type": "stream",
          "name": "stdout",
          "text": [
            "(220, 2000, 1)\n",
            "(None, 250, 128) (None, 250, 128)\n",
            "(None, 500, 64) (None, 500, 64)\n",
            "(None, 1000, 32) (None, 1000, 32)\n",
            "(None, 2000, 16) (None, 2000, 16)\n",
            "1/1 [==============================] - 1s 1s/step\n"
          ]
        },
        {
          "output_type": "error",
          "ename": "IndexError",
          "evalue": "ignored",
          "traceback": [
            "\u001b[0;31m---------------------------------------------------------------------------\u001b[0m",
            "\u001b[0;31mIndexError\u001b[0m                                Traceback (most recent call last)",
            "\u001b[0;32m<ipython-input-19-074d3b6d7965>\u001b[0m in \u001b[0;36m<cell line: 4>\u001b[0;34m()\u001b[0m\n\u001b[1;32m      2\u001b[0m \u001b[0mprint\u001b[0m\u001b[0;34m(\u001b[0m\u001b[0mvalid\u001b[0m\u001b[0;34m[\u001b[0m\u001b[0;36m0\u001b[0m\u001b[0;34m]\u001b[0m\u001b[0;34m.\u001b[0m\u001b[0mshape\u001b[0m\u001b[0;34m)\u001b[0m\u001b[0;34m\u001b[0m\u001b[0;34m\u001b[0m\u001b[0m\n\u001b[1;32m      3\u001b[0m \u001b[0;34m\u001b[0m\u001b[0m\n\u001b[0;32m----> 4\u001b[0;31m \u001b[0mPredict\u001b[0m\u001b[0;34m(\u001b[0m\u001b[0mtest\u001b[0m\u001b[0;34m=\u001b[0m\u001b[0mvalid\u001b[0m\u001b[0;34m)\u001b[0m\u001b[0;34m\u001b[0m\u001b[0;34m\u001b[0m\u001b[0m\n\u001b[0m",
            "\u001b[0;32m<ipython-input-18-f457db321c9d>\u001b[0m in \u001b[0;36mPredict\u001b[0;34m(test, n_sample)\u001b[0m\n\u001b[1;32m     19\u001b[0m         \u001b[0mfig\u001b[0m\u001b[0;34m,\u001b[0m \u001b[0max\u001b[0m \u001b[0;34m=\u001b[0m \u001b[0mplt\u001b[0m\u001b[0;34m.\u001b[0m\u001b[0msubplots\u001b[0m\u001b[0;34m(\u001b[0m\u001b[0;36m3\u001b[0m\u001b[0;34m,\u001b[0m \u001b[0;36m1\u001b[0m\u001b[0;34m,\u001b[0m \u001b[0mfigsize\u001b[0m\u001b[0;34m=\u001b[0m\u001b[0;34m(\u001b[0m\u001b[0;36m20\u001b[0m\u001b[0;34m,\u001b[0m \u001b[0;36m12\u001b[0m\u001b[0;34m)\u001b[0m\u001b[0;34m)\u001b[0m\u001b[0;34m\u001b[0m\u001b[0;34m\u001b[0m\u001b[0m\n\u001b[1;32m     20\u001b[0m \u001b[0;34m\u001b[0m\u001b[0m\n\u001b[0;32m---> 21\u001b[0;31m         \u001b[0max\u001b[0m\u001b[0;34m[\u001b[0m\u001b[0;36m0\u001b[0m\u001b[0;34m]\u001b[0m\u001b[0;34m.\u001b[0m\u001b[0mplot\u001b[0m\u001b[0;34m(\u001b[0m\u001b[0mtest_ecg\u001b[0m\u001b[0;34m[\u001b[0m\u001b[0;34m:\u001b[0m\u001b[0;34m,\u001b[0m \u001b[0;36m1\u001b[0m\u001b[0;34m]\u001b[0m\u001b[0;34m)\u001b[0m\u001b[0;34m\u001b[0m\u001b[0;34m\u001b[0m\u001b[0m\n\u001b[0m\u001b[1;32m     22\u001b[0m         \u001b[0max\u001b[0m\u001b[0;34m[\u001b[0m\u001b[0;36m0\u001b[0m\u001b[0;34m]\u001b[0m\u001b[0;34m.\u001b[0m\u001b[0mset_title\u001b[0m\u001b[0;34m(\u001b[0m\u001b[0;34mf\"ECG_{i}'s lead II\"\u001b[0m\u001b[0;34m,\u001b[0m \u001b[0mfontsize\u001b[0m\u001b[0;34m=\u001b[0m\u001b[0;36m10\u001b[0m\u001b[0;34m)\u001b[0m\u001b[0;34m\u001b[0m\u001b[0;34m\u001b[0m\u001b[0m\n\u001b[1;32m     23\u001b[0m \u001b[0;34m\u001b[0m\u001b[0m\n",
            "\u001b[0;31mIndexError\u001b[0m: index 1 is out of bounds for axis 1 with size 1"
          ]
        },
        {
          "output_type": "display_data",
          "data": {
            "text/plain": [
              "<Figure size 2000x1200 with 3 Axes>"
            ],
            "image/png": "[encoded data removed]"
          },
          "metadata": {}
        }
      ]
    },
    {
      "cell_type": "code",
      "source": [],
      "metadata": {
        "id": "APuaqkzRZlP8"
      },
      "execution_count": null,
      "outputs": []
    },
    {
      "cell_type": "code",
      "source": [],
      "metadata": {
        "id": "RwC6WI8CHmTL"
      },
      "execution_count": null,
      "outputs": []
    },
    {
      "cell_type": "code",
      "source": [],
      "metadata": {
        "id": "9cte4PKKGnhT"
      },
      "execution_count": null,
      "outputs": []
    },
    {
      "cell_type": "code",
      "source": [],
      "metadata": {
        "id": "MT_dgaI3GlLL"
      },
      "execution_count": null,
      "outputs": []
    },
    {
      "cell_type": "code",
      "source": [],
      "metadata": {
        "id": "6Edxfik3GhIS"
      },
      "execution_count": null,
      "outputs": []
    },
    {
      "cell_type": "code",
      "source": [],
      "metadata": {
        "id": "3kYMY3GWgBSO"
      },
      "execution_count": null,
      "outputs": []
    },
    {
      "cell_type": "code",
      "source": [],
      "metadata": {
        "id": "1yODZAJ5f8rg"
      },
      "execution_count": null,
      "outputs": []
    },
    {
      "cell_type": "code",
      "source": [],
      "metadata": {
        "id": "7lAkl8Qsf5gq"
      },
      "execution_count": null,
      "outputs": []
    },
    {
      "cell_type": "code",
      "source": [],
      "metadata": {
        "id": "ZhizyTosfKBt"
      },
      "execution_count": null,
      "outputs": []
    },
    {
      "cell_type": "code",
      "source": [],
      "metadata": {
        "id": "tSywX23re5E1"
      },
      "execution_count": null,
      "outputs": []
    },
    {
      "cell_type": "code",
      "source": [],
      "metadata": {
        "id": "kXYjO0Owe019"
      },
      "execution_count": null,
      "outputs": []
    }
  ]
}