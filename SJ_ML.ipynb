{
  "nbformat": 4,
  "nbformat_minor": 0,
  "metadata": {
    "colab": {
      "provenance": [],
      "gpuType": "T4",
      "authorship_tag": "ABX9TyN98gmUAohpYwVKrrk0tWhF",
      "include_colab_link": true
    },
    "kernelspec": {
      "name": "python3",
      "display_name": "Python 3"
    },
    "language_info": {
      "name": "python"
    },
    "accelerator": "GPU"
  },
  "cells": [
    {
      "cell_type": "markdown",
      "metadata": {
        "id": "view-in-github",
        "colab_type": "text"
      },
      "source": [
        "<a href=\"https://colab.research.google.com/github/heejjj/Sleeping_Project/blob/main/SJ_ML.ipynb\" target=\"_parent\"><img src=\"https://colab.research.google.com/assets/colab-badge.svg\" alt=\"Open In Colab\"/></a>"
      ]
    },
    {
      "cell_type": "code",
      "execution_count": 1,
      "metadata": {
        "colab": {
          "base_uri": "https://localhost:8080/"
        },
        "id": "sJGImm_bjEbq",
        "outputId": "5f561f68-be55-4f39-c1ef-f9cf32957cee"
      },
      "outputs": [
        {
          "output_type": "stream",
          "name": "stdout",
          "text": [
            "Mounted at /content/drive\n"
          ]
        }
      ],
      "source": [
        "from google.colab import drive\n",
        "drive.mount('/content/drive')"
      ]
    },
    {
      "cell_type": "code",
      "source": [
        "import numpy as np\n",
        "import pandas as pd\n",
        "import seaborn as sns\n",
        "import matplotlib.pyplot as plt"
      ],
      "metadata": {
        "id": "TXNnqOLhjPbo"
      },
      "execution_count": 2,
      "outputs": []
    },
    {
      "cell_type": "code",
      "source": [
        "target = pd.read_csv('/content/drive/MyDrive/KDT_project/HACKATHON/data/target.csv')\n",
        "target = target.drop('Unnamed: 0', axis=1)\n",
        "target   "
      ],
      "metadata": {
        "colab": {
          "base_uri": "https://localhost:8080/",
          "height": 209
        },
        "id": "LVcQTB9pjQMM",
        "outputId": "348f7d0b-b0f2-4d5d-c873-4a61cf48ac6c"
      },
      "execution_count": 3,
      "outputs": [
        {
          "output_type": "execute_result",
          "data": {
            "text/plain": [
              "   2023-02-21 00:00:00  2023-02-21 00:01:00  2023-02-21 00:02:00  \\\n",
              "0                  1.0                  1.0                  1.0   \n",
              "\n",
              "   2023-02-21 00:03:00  2023-02-21 00:04:00  2023-02-21 00:05:00  \\\n",
              "0                  1.0                  1.0                  1.0   \n",
              "\n",
              "   2023-02-21 00:06:00  2023-02-21 00:07:00  2023-02-21 00:08:00  \\\n",
              "0                  1.0                  1.0                  1.0   \n",
              "\n",
              "   2023-02-21 00:09:00  ...  2023-05-03 07:16:00  2023-05-03 07:17:00  \\\n",
              "0                  1.0  ...                  1.0                  1.0   \n",
              "\n",
              "   2023-05-03 07:18:00  2023-05-03 07:19:00  2023-05-03 07:20:00  \\\n",
              "0                  1.0                  1.0                  1.0   \n",
              "\n",
              "   2023-05-03 07:21:00  2023-05-03 07:22:00  2023-05-03 07:23:00  \\\n",
              "0                  1.0                  1.0                  1.0   \n",
              "\n",
              "   2023-05-03 07:24:00  2023-05-03 07:25:00  \n",
              "0                  1.0                  1.0  \n",
              "\n",
              "[1 rows x 22300 columns]"
            ],
            "text/html": [
              "\n",
              "  <div id=\"df-da81a1f2-69a9-469f-a7cd-bd5974bc0e90\">\n",
              "    <div class=\"colab-df-container\">\n",
              "      <div>\n",
              "<style scoped>\n",
              "    .dataframe tbody tr th:only-of-type {\n",
              "        vertical-align: middle;\n",
              "    }\n",
              "\n",
              "    .dataframe tbody tr th {\n",
              "        vertical-align: top;\n",
              "    }\n",
              "\n",
              "    .dataframe thead th {\n",
              "        text-align: right;\n",
              "    }\n",
              "</style>\n",
              "<table border=\"1\" class=\"dataframe\">\n",
              "  <thead>\n",
              "    <tr style=\"text-align: right;\">\n",
              "      <th></th>\n",
              "      <th>2023-02-21 00:00:00</th>\n",
              "      <th>2023-02-21 00:01:00</th>\n",
              "      <th>2023-02-21 00:02:00</th>\n",
              "      <th>2023-02-21 00:03:00</th>\n",
              "      <th>2023-02-21 00:04:00</th>\n",
              "      <th>2023-02-21 00:05:00</th>\n",
              "      <th>2023-02-21 00:06:00</th>\n",
              "      <th>2023-02-21 00:07:00</th>\n",
              "      <th>2023-02-21 00:08:00</th>\n",
              "      <th>2023-02-21 00:09:00</th>\n",
              "      <th>...</th>\n",
              "      <th>2023-05-03 07:16:00</th>\n",
              "      <th>2023-05-03 07:17:00</th>\n",
              "      <th>2023-05-03 07:18:00</th>\n",
              "      <th>2023-05-03 07:19:00</th>\n",
              "      <th>2023-05-03 07:20:00</th>\n",
              "      <th>2023-05-03 07:21:00</th>\n",
              "      <th>2023-05-03 07:22:00</th>\n",
              "      <th>2023-05-03 07:23:00</th>\n",
              "      <th>2023-05-03 07:24:00</th>\n",
              "      <th>2023-05-03 07:25:00</th>\n",
              "    </tr>\n",
              "  </thead>\n",
              "  <tbody>\n",
              "    <tr>\n",
              "      <th>0</th>\n",
              "      <td>1.0</td>\n",
              "      <td>1.0</td>\n",
              "      <td>1.0</td>\n",
              "      <td>1.0</td>\n",
              "      <td>1.0</td>\n",
              "      <td>1.0</td>\n",
              "      <td>1.0</td>\n",
              "      <td>1.0</td>\n",
              "      <td>1.0</td>\n",
              "      <td>1.0</td>\n",
              "      <td>...</td>\n",
              "      <td>1.0</td>\n",
              "      <td>1.0</td>\n",
              "      <td>1.0</td>\n",
              "      <td>1.0</td>\n",
              "      <td>1.0</td>\n",
              "      <td>1.0</td>\n",
              "      <td>1.0</td>\n",
              "      <td>1.0</td>\n",
              "      <td>1.0</td>\n",
              "      <td>1.0</td>\n",
              "    </tr>\n",
              "  </tbody>\n",
              "</table>\n",
              "<p>1 rows × 22300 columns</p>\n",
              "</div>\n",
              "      <button class=\"colab-df-convert\" onclick=\"convertToInteractive('df-da81a1f2-69a9-469f-a7cd-bd5974bc0e90')\"\n",
              "              title=\"Convert this dataframe to an interactive table.\"\n",
              "              style=\"display:none;\">\n",
              "        \n",
              "  <svg xmlns=\"http://www.w3.org/2000/svg\" height=\"24px\"viewBox=\"0 0 24 24\"\n",
              "       width=\"24px\">\n",
              "    <path d=\"M0 0h24v24H0V0z\" fill=\"none\"/>\n",
              "    <path d=\"M18.56 5.44l.94 2.06.94-2.06 2.06-.94-2.06-.94-.94-2.06-.94 2.06-2.06.94zm-11 1L8.5 8.5l.94-2.06 2.06-.94-2.06-.94L8.5 2.5l-.94 2.06-2.06.94zm10 10l.94 2.06.94-2.06 2.06-.94-2.06-.94-.94-2.06-.94 2.06-2.06.94z\"/><path d=\"M17.41 7.96l-1.37-1.37c-.4-.4-.92-.59-1.43-.59-.52 0-1.04.2-1.43.59L10.3 9.45l-7.72 7.72c-.78.78-.78 2.05 0 2.83L4 21.41c.39.39.9.59 1.41.59.51 0 1.02-.2 1.41-.59l7.78-7.78 2.81-2.81c.8-.78.8-2.07 0-2.86zM5.41 20L4 18.59l7.72-7.72 1.47 1.35L5.41 20z\"/>\n",
              "  </svg>\n",
              "      </button>\n",
              "      \n",
              "  <style>\n",
              "    .colab-df-container {\n",
              "      display:flex;\n",
              "      flex-wrap:wrap;\n",
              "      gap: 12px;\n",
              "    }\n",
              "\n",
              "    .colab-df-convert {\n",
              "      background-color: #E8F0FE;\n",
              "      border: none;\n",
              "      border-radius: 50%;\n",
              "      cursor: pointer;\n",
              "      display: none;\n",
              "      fill: #1967D2;\n",
              "      height: 32px;\n",
              "      padding: 0 0 0 0;\n",
              "      width: 32px;\n",
              "    }\n",
              "\n",
              "    .colab-df-convert:hover {\n",
              "      background-color: #E2EBFA;\n",
              "      box-shadow: 0px 1px 2px rgba(60, 64, 67, 0.3), 0px 1px 3px 1px rgba(60, 64, 67, 0.15);\n",
              "      fill: #174EA6;\n",
              "    }\n",
              "\n",
              "    [theme=dark] .colab-df-convert {\n",
              "      background-color: #3B4455;\n",
              "      fill: #D2E3FC;\n",
              "    }\n",
              "\n",
              "    [theme=dark] .colab-df-convert:hover {\n",
              "      background-color: #434B5C;\n",
              "      box-shadow: 0px 1px 3px 1px rgba(0, 0, 0, 0.15);\n",
              "      filter: drop-shadow(0px 1px 2px rgba(0, 0, 0, 0.3));\n",
              "      fill: #FFFFFF;\n",
              "    }\n",
              "  </style>\n",
              "\n",
              "      <script>\n",
              "        const buttonEl =\n",
              "          document.querySelector('#df-da81a1f2-69a9-469f-a7cd-bd5974bc0e90 button.colab-df-convert');\n",
              "        buttonEl.style.display =\n",
              "          google.colab.kernel.accessAllowed ? 'block' : 'none';\n",
              "\n",
              "        async function convertToInteractive(key) {\n",
              "          const element = document.querySelector('#df-da81a1f2-69a9-469f-a7cd-bd5974bc0e90');\n",
              "          const dataTable =\n",
              "            await google.colab.kernel.invokeFunction('convertToInteractive',\n",
              "                                                     [key], {});\n",
              "          if (!dataTable) return;\n",
              "\n",
              "          const docLinkHtml = 'Like what you see? Visit the ' +\n",
              "            '<a target=\"_blank\" href=https://colab.research.google.com/notebooks/data_table.ipynb>data table notebook</a>'\n",
              "            + ' to learn more about interactive tables.';\n",
              "          element.innerHTML = '';\n",
              "          dataTable['output_type'] = 'display_data';\n",
              "          await google.colab.output.renderOutput(dataTable, element);\n",
              "          const docLink = document.createElement('div');\n",
              "          docLink.innerHTML = docLinkHtml;\n",
              "          element.appendChild(docLink);\n",
              "        }\n",
              "      </script>\n",
              "    </div>\n",
              "  </div>\n",
              "  "
            ]
          },
          "metadata": {},
          "execution_count": 3
        }
      ]
    },
    {
      "cell_type": "markdown",
      "source": [
        "# Reuters_dataset"
      ],
      "metadata": {
        "id": "fWI1WYfajiIe"
      }
    },
    {
      "cell_type": "code",
      "source": [
        "from keras.datasets import reuters\n",
        "from keras.models import Sequential\n",
        "from keras.layers import Dense, LSTM, Embedding\n",
        "from keras.preprocessing import sequence\n",
        "from keras.utils import np_utils \n",
        "\n",
        "import numpy\n",
        "import tensorflow as tf\n",
        "import matplotlib.pyplot as plt\n",
        "     "
      ],
      "metadata": {
        "id": "BXKB4QvgjjXt"
      },
      "execution_count": 4,
      "outputs": []
    },
    {
      "cell_type": "code",
      "source": [
        "#Set seed value\n",
        "\n",
        "seed = 0 \n",
        "numpy.random.seed(seed)\n",
        "tf.random.set_seed(3)"
      ],
      "metadata": {
        "id": "LoOWT6zvjjsm"
      },
      "execution_count": 5,
      "outputs": []
    },
    {
      "cell_type": "code",
      "source": [
        "#Split dataset to Train & Test\n",
        "\n",
        "(X_train, y_train),(X_test, y_test) = reuters.load_data(num_words=1000, test_split=0.2)\n",
        "#num_words = 1000: Load data with a frequency of 1-1000 only"
      ],
      "metadata": {
        "id": "xdV9IggljmGk"
      },
      "execution_count": 106,
      "outputs": []
    },
    {
      "cell_type": "code",
      "source": [
        "#Check data\n",
        "category = numpy.max(y_train) +1 \n",
        "print(category, 'category')\n",
        "print(len(X_train), 'News articls for train')\n",
        "print(len(X_test), 'News articles for test')\n",
        "\n",
        "# numbers of words in an article --> Input data has to be numerical in DL\n",
        "print(X_train[0]) #tokenized data\n",
        "#if the data indicates 3 -> the article has the words 3 times in this dataset\n",
        "\n",
        "#data : 11228 news article\n",
        "#article categoreis: 46"
      ],
      "metadata": {
        "colab": {
          "base_uri": "https://localhost:8080/"
        },
        "id": "3pSvGCMAjoc8",
        "outputId": "e577681b-1535-48cd-8260-1da3708a3ffb"
      },
      "execution_count": 107,
      "outputs": [
        {
          "output_type": "stream",
          "name": "stdout",
          "text": [
            "46 category\n",
            "8982 News articls for train\n",
            "2246 News articles for test\n",
            "[1, 2, 2, 8, 43, 10, 447, 5, 25, 207, 270, 5, 2, 111, 16, 369, 186, 90, 67, 7, 89, 5, 19, 102, 6, 19, 124, 15, 90, 67, 84, 22, 482, 26, 7, 48, 4, 49, 8, 864, 39, 209, 154, 6, 151, 6, 83, 11, 15, 22, 155, 11, 15, 7, 48, 9, 2, 2, 504, 6, 258, 6, 272, 11, 15, 22, 134, 44, 11, 15, 16, 8, 197, 2, 90, 67, 52, 29, 209, 30, 32, 132, 6, 109, 15, 17, 12]\n"
          ]
        }
      ]
    },
    {
      "cell_type": "code",
      "source": [
        "from tensorflow.keras.preprocessing.sequence import pad_sequences"
      ],
      "metadata": {
        "id": "THnAMGaNjrst"
      },
      "execution_count": 8,
      "outputs": []
    },
    {
      "cell_type": "code",
      "source": [
        "type(X_test)"
      ],
      "metadata": {
        "colab": {
          "base_uri": "https://localhost:8080/"
        },
        "id": "60VY9oMDkB2c",
        "outputId": "138974d0-fc74-4828-dad8-3937e9edd77a"
      },
      "execution_count": 27,
      "outputs": [
        {
          "output_type": "execute_result",
          "data": {
            "text/plain": [
              "numpy.ndarray"
            ]
          },
          "metadata": {},
          "execution_count": 27
        }
      ]
    },
    {
      "cell_type": "code",
      "source": [
        "print(X_train.shape, y_train.shape)"
      ],
      "metadata": {
        "colab": {
          "base_uri": "https://localhost:8080/"
        },
        "id": "ghq37w4InaRT",
        "outputId": "d8e80774-77de-44f4-e4ac-fa08f80d7398"
      },
      "execution_count": 10,
      "outputs": [
        {
          "output_type": "stream",
          "name": "stdout",
          "text": [
            "(8982,) (8982,)\n"
          ]
        }
      ]
    },
    {
      "cell_type": "code",
      "source": [
        "X_train"
      ],
      "metadata": {
        "colab": {
          "base_uri": "https://localhost:8080/"
        },
        "id": "nwGk41oE0BLZ",
        "outputId": "6dfdbdad-acd3-44b5-f380-9e689dbdcff7"
      },
      "execution_count": 14,
      "outputs": [
        {
          "output_type": "execute_result",
          "data": {
            "text/plain": [
              "array([list([1, 2, 2, 8, 43, 10, 447, 5, 25, 207, 270, 5, 2, 111, 16, 369, 186, 90, 67, 7, 89, 5, 19, 102, 6, 19, 124, 15, 90, 67, 84, 22, 482, 26, 7, 48, 4, 49, 8, 864, 39, 209, 154, 6, 151, 6, 83, 11, 15, 22, 155, 11, 15, 7, 48, 9, 2, 2, 504, 6, 258, 6, 272, 11, 15, 22, 134, 44, 11, 15, 16, 8, 197, 2, 90, 67, 52, 29, 209, 30, 32, 132, 6, 109, 15, 17, 12]),\n",
              "       list([1, 2, 699, 2, 2, 56, 2, 2, 9, 56, 2, 2, 81, 5, 2, 57, 366, 737, 132, 20, 2, 7, 2, 49, 2, 2, 2, 2, 699, 2, 8, 7, 10, 241, 16, 855, 129, 231, 783, 5, 4, 587, 2, 2, 2, 775, 7, 48, 34, 191, 44, 35, 2, 505, 17, 12]),\n",
              "       list([1, 53, 12, 284, 15, 14, 272, 26, 53, 959, 32, 818, 15, 14, 272, 26, 39, 684, 70, 11, 14, 12, 2, 18, 180, 183, 187, 70, 11, 14, 102, 32, 11, 29, 53, 44, 704, 15, 14, 19, 758, 15, 53, 959, 47, 2, 15, 14, 19, 132, 15, 39, 965, 32, 11, 14, 147, 72, 11, 180, 183, 187, 44, 11, 14, 102, 19, 11, 123, 186, 90, 67, 960, 4, 78, 13, 68, 467, 511, 110, 59, 89, 90, 67, 2, 55, 2, 92, 617, 80, 2, 46, 905, 220, 13, 4, 346, 48, 235, 629, 5, 211, 5, 2, 7, 2, 81, 5, 187, 11, 15, 9, 2, 201, 5, 47, 2, 18, 478, 2, 5, 2, 7, 232, 2, 71, 5, 160, 63, 11, 9, 2, 81, 5, 102, 59, 11, 17, 12]),\n",
              "       ...,\n",
              "       list([1, 141, 2, 387, 81, 8, 16, 2, 10, 340, 2, 850, 31, 56, 2, 691, 9, 2, 71, 9, 2, 2, 2, 699, 2, 2, 2, 699, 244, 2, 4, 49, 8, 4, 656, 850, 33, 2, 9, 2, 340, 2, 2, 9, 2, 22, 2, 2, 687, 83, 35, 15, 257, 6, 57, 2, 7, 4, 2, 654, 5, 2, 2, 2, 4, 49, 8, 16, 369, 646, 6, 2, 7, 124, 407, 17, 12]),\n",
              "       list([1, 53, 46, 957, 26, 14, 74, 132, 26, 39, 46, 258, 2, 18, 14, 74, 134, 2, 18, 88, 2, 72, 11, 14, 2, 32, 11, 123, 383, 89, 39, 46, 235, 10, 864, 728, 5, 258, 44, 11, 15, 22, 753, 9, 42, 92, 131, 728, 5, 69, 312, 11, 15, 22, 222, 2, 2, 383, 48, 39, 74, 235, 10, 864, 276, 5, 61, 32, 11, 15, 21, 4, 211, 5, 126, 2, 42, 92, 131, 46, 19, 352, 11, 15, 22, 710, 220, 9, 42, 92, 131, 276, 5, 59, 61, 11, 15, 22, 10, 455, 7, 2, 137, 336, 2, 6, 2, 142, 971, 2, 43, 359, 5, 4, 326, 753, 364, 17, 12]),\n",
              "       list([1, 227, 2, 91, 2, 125, 2, 21, 4, 2, 76, 7, 4, 757, 481, 2, 790, 2, 2, 9, 111, 149, 8, 7, 10, 76, 223, 51, 4, 417, 8, 2, 91, 2, 2, 340, 7, 194, 2, 6, 2, 21, 127, 2, 2, 2, 6, 2, 4, 329, 433, 7, 65, 87, 2, 10, 2, 2, 290, 9, 21, 567, 16, 2, 24, 4, 76, 209, 30, 2, 2, 2, 8, 4, 60, 8, 4, 966, 308, 40, 2, 129, 2, 295, 277, 2, 9, 24, 286, 2, 234, 222, 9, 4, 906, 2, 2, 114, 2, 2, 7, 4, 113, 17, 12])],\n",
              "      dtype=object)"
            ]
          },
          "metadata": {},
          "execution_count": 14
        }
      ]
    },
    {
      "cell_type": "code",
      "source": [
        "y_train"
      ],
      "metadata": {
        "colab": {
          "base_uri": "https://localhost:8080/"
        },
        "id": "6xYBGBE50KeT",
        "outputId": "91fbf5f6-7720-43e7-cfd7-6131f8eaa0a3"
      },
      "execution_count": 108,
      "outputs": [
        {
          "output_type": "execute_result",
          "data": {
            "text/plain": [
              "array([ 3,  4,  3, ..., 25,  3, 25])"
            ]
          },
          "metadata": {},
          "execution_count": 108
        }
      ]
    },
    {
      "cell_type": "code",
      "source": [
        "X_test"
      ],
      "metadata": {
        "colab": {
          "base_uri": "https://localhost:8080/"
        },
        "id": "HeHhLlg80jIJ",
        "outputId": "42176fa0-fad2-43ee-a4ed-3d63e8e716cd"
      },
      "execution_count": 109,
      "outputs": [
        {
          "output_type": "execute_result",
          "data": {
            "text/plain": [
              "array([list([1, 4, 2, 2, 9, 697, 2, 111, 8, 25, 109, 29, 2, 11, 150, 244, 364, 33, 30, 30, 2, 333, 6, 2, 159, 9, 2, 363, 13, 2, 71, 9, 2, 71, 117, 4, 225, 78, 206, 10, 9, 2, 8, 4, 270, 5, 2, 7, 748, 48, 9, 2, 7, 207, 2, 966, 2, 793, 97, 133, 336, 7, 4, 493, 98, 273, 104, 284, 25, 39, 338, 22, 905, 220, 2, 644, 59, 20, 6, 119, 61, 11, 15, 58, 579, 26, 10, 67, 7, 4, 738, 98, 43, 88, 333, 722, 12, 20, 6, 19, 746, 35, 15, 10, 9, 2, 855, 129, 783, 21, 4, 2, 244, 364, 51, 16, 299, 452, 16, 515, 4, 99, 29, 5, 4, 364, 281, 48, 10, 9, 2, 23, 644, 47, 20, 324, 27, 56, 2, 2, 5, 192, 510, 17, 12]),\n",
              "       list([1, 2, 283, 122, 7, 4, 89, 544, 463, 29, 798, 748, 40, 85, 306, 28, 19, 59, 11, 82, 84, 22, 10, 2, 19, 12, 11, 82, 52, 29, 283, 2, 558, 2, 265, 2, 2, 8, 2, 118, 371, 10, 2, 281, 4, 143, 2, 760, 50, 2, 225, 139, 683, 4, 48, 193, 862, 41, 967, 2, 30, 2, 36, 8, 28, 602, 19, 32, 11, 82, 5, 4, 89, 544, 463, 41, 30, 2, 13, 260, 951, 2, 8, 69, 2, 18, 82, 41, 30, 306, 2, 13, 4, 37, 38, 283, 555, 649, 18, 82, 13, 2, 282, 9, 132, 18, 82, 41, 30, 385, 21, 4, 169, 76, 36, 8, 107, 4, 106, 524, 10, 295, 2, 2, 2, 6, 2, 2, 4, 2, 41, 263, 84, 395, 649, 18, 82, 838, 2, 4, 572, 4, 106, 13, 25, 595, 2, 40, 85, 2, 518, 5, 4, 2, 51, 115, 680, 16, 6, 719, 250, 27, 429, 2, 8, 2, 114, 343, 84, 142, 20, 5, 2, 2, 4, 65, 494, 474, 27, 69, 445, 11, 2, 2, 8, 109, 181, 2, 2, 62, 2, 6, 624, 901, 2, 107, 4, 2, 34, 524, 4, 2, 2, 41, 447, 7, 2, 13, 69, 251, 18, 872, 876, 2, 468, 2, 242, 5, 646, 27, 2, 169, 283, 87, 9, 10, 2, 260, 182, 122, 678, 306, 13, 4, 99, 216, 7, 89, 544, 64, 85, 2, 6, 195, 2, 2, 268, 609, 4, 195, 41, 2, 2, 2, 4, 73, 706, 2, 92, 4, 91, 2, 36, 8, 51, 144, 23, 2, 129, 564, 13, 269, 678, 115, 55, 866, 189, 814, 604, 838, 117, 380, 595, 951, 320, 4, 398, 57, 2, 2, 269, 274, 87, 2, 8, 787, 283, 34, 596, 661, 2, 13, 2, 2, 90, 2, 84, 22, 2, 2, 54, 748, 2, 8, 87, 62, 2, 84, 161, 5, 2, 480, 4, 2, 416, 6, 538, 122, 115, 55, 129, 2, 2, 345, 389, 31, 4, 169, 76, 36, 8, 787, 398, 7, 4, 2, 2, 64, 2, 22, 125, 2, 9, 2, 172, 399, 9, 2, 2, 9, 2, 122, 36, 8, 2, 172, 247, 100, 97, 2, 34, 75, 477, 541, 4, 283, 182, 4, 2, 295, 301, 2, 125, 2, 2, 8, 77, 57, 445, 283, 2, 217, 31, 380, 704, 51, 77, 2, 509, 5, 476, 9, 2, 122, 115, 853, 6, 2, 52, 10, 2, 2, 2, 5, 4, 283, 182, 36, 8, 2, 114, 30, 531, 6, 2, 9, 2, 529, 13, 2, 2, 58, 529, 7, 2, 2, 185, 2, 240, 2, 2, 949, 657, 57, 6, 2, 283, 36, 8, 2, 8, 4, 2, 34, 2, 13, 10, 2, 5, 4, 141, 283, 120, 50, 2, 7, 2, 43, 10, 181, 283, 734, 115, 55, 2, 476, 6, 2, 10, 73, 120, 50, 41, 2, 169, 87, 2, 8, 107, 144, 23, 129, 120, 169, 87, 33, 2, 30, 2, 2, 161, 4, 294, 517, 23, 2, 25, 398, 9, 2, 283, 21, 4, 236, 36, 8, 143, 169, 87, 641, 2, 28, 69, 61, 376, 514, 90, 2, 62, 2, 13, 4, 2, 696, 122, 404, 2, 22, 134, 6, 187, 514, 10, 2, 107, 4, 96, 2, 2, 13, 10, 184, 28, 61, 376, 514, 268, 680, 4, 320, 6, 154, 6, 69, 160, 514, 10, 2, 27, 4, 153, 5, 52, 29, 36, 8, 2, 8, 612, 408, 10, 2, 283, 76, 27, 2, 31, 169, 951, 2, 122, 36, 8, 283, 236, 62, 641, 84, 618, 2, 22, 2, 2, 9, 274, 2, 399, 2, 51, 115, 55, 45, 2, 31, 4, 490, 558, 36, 8, 224, 2, 115, 57, 85, 2, 2, 5, 283, 6, 4, 37, 38, 7, 2, 185, 77, 2, 4, 555, 298, 77, 240, 2, 7, 327, 652, 194, 2, 2, 34, 2, 2, 2, 2, 6, 240, 260, 458, 87, 6, 134, 514, 10, 2, 22, 196, 514, 4, 37, 38, 309, 213, 54, 207, 2, 25, 134, 139, 89, 283, 494, 555, 22, 4, 2, 6, 2, 2, 434, 835, 22, 2, 2, 434, 835, 7, 48, 2, 8, 618, 225, 586, 333, 122, 572, 126, 2, 2, 62, 133, 6, 2, 233, 28, 602, 188, 5, 4, 704, 2, 62, 45, 885, 281, 4, 48, 193, 760, 36, 8, 115, 680, 78, 58, 109, 95, 6, 2, 2, 281, 4, 225, 760, 17, 12]),\n",
              "       list([1, 4, 309, 2, 2, 5, 2, 403, 2, 33, 2, 2, 2, 87, 13, 536, 78, 2, 399, 7, 2, 212, 10, 634, 179, 8, 137, 2, 7, 2, 33, 30, 2, 43, 33, 2, 50, 489, 4, 403, 6, 96, 399, 7, 2, 2, 2, 2, 2, 2, 2, 2, 9, 2, 8, 2, 2, 2, 791, 5, 740, 220, 707, 13, 4, 634, 634, 54, 2, 2, 4, 361, 182, 24, 511, 972, 137, 403, 2, 529, 6, 96, 2, 399, 41, 30, 2, 21, 10, 2, 2, 503, 5, 188, 6, 353, 26, 2, 21, 432, 4, 2, 23, 2, 435, 34, 737, 6, 246, 2, 274, 2, 2, 87, 13, 399, 992, 27, 274, 403, 87, 2, 85, 480, 52, 2, 403, 820, 13, 10, 139, 9, 115, 949, 609, 890, 819, 6, 812, 593, 7, 576, 7, 194, 2, 216, 2, 8, 2, 8, 634, 33, 768, 2, 593, 4, 403, 2, 185, 9, 107, 403, 87, 2, 107, 2, 410, 4, 682, 189, 161, 2, 762, 274, 2, 115, 30, 43, 389, 410, 4, 682, 107, 2, 762, 456, 36, 8, 184, 2, 95, 2, 107, 403, 87, 302, 2, 8, 129, 100, 756, 7, 2, 96, 298, 55, 370, 731, 866, 189, 115, 949, 2, 115, 949, 343, 756, 2, 9, 115, 949, 343, 756, 2, 36, 8, 17, 12]),\n",
              "       ...,\n",
              "       list([1, 2, 124, 53, 653, 26, 39, 2, 18, 14, 2, 18, 155, 177, 53, 544, 26, 39, 19, 2, 18, 14, 19, 2, 18, 280, 2, 11, 14, 2, 32, 11, 695, 2, 47, 11, 14, 2, 63, 11, 430, 2, 44, 11, 14, 61, 11, 17, 12]),\n",
              "       list([1, 2, 2, 71, 8, 23, 166, 344, 10, 78, 13, 68, 80, 467, 606, 6, 261, 5, 146, 93, 124, 4, 166, 75, 2, 2, 2, 265, 2, 2, 2, 297, 2, 195, 9, 621, 575, 2, 2, 7, 378, 104, 421, 648, 20, 5, 4, 49, 2, 8, 2, 28, 4, 303, 163, 524, 10, 2, 6, 455, 4, 326, 685, 6, 2, 422, 71, 142, 73, 863, 62, 75, 2, 6, 4, 326, 166, 2, 34, 2, 2, 6, 4, 166, 4, 49, 8, 17, 12]),\n",
              "       list([1, 706, 209, 658, 4, 37, 38, 309, 484, 4, 2, 6, 933, 4, 89, 709, 377, 101, 28, 4, 143, 511, 101, 5, 47, 758, 15, 90, 2, 7, 809, 6, 444, 2, 4, 911, 5, 709, 198, 2, 634, 2, 2, 2, 8, 2, 6, 674, 480, 10, 990, 309, 2, 2, 2, 2, 24, 68, 583, 242, 5, 4, 143, 709, 364, 2, 41, 30, 13, 706, 6, 837, 4, 377, 101, 6, 631, 28, 47, 758, 15, 36, 2, 107, 4, 377, 101, 62, 47, 758, 15, 634, 114, 713, 888, 2, 6, 343, 37, 38, 2, 95, 2, 269, 43, 2, 2, 6, 226, 2, 4, 377, 101, 136, 143, 2, 4, 89, 709, 377, 101, 2, 30, 478, 97, 47, 948, 15, 90, 2, 2, 2, 41, 30, 13, 706, 6, 455, 4, 465, 474, 6, 837, 634, 6, 2, 4, 709, 377, 101, 28, 47, 758, 15, 7, 463, 29, 89, 2, 97, 148, 16, 6, 47, 948, 15, 4, 48, 511, 377, 101, 23, 47, 758, 15, 161, 5, 4, 47, 12, 20, 2, 2, 386, 240, 2, 2, 24, 10, 181, 2, 7, 194, 534, 21, 709, 364, 756, 33, 30, 4, 386, 404, 36, 118, 4, 2, 24, 4, 911, 7, 2, 23, 24, 4, 37, 38, 377, 101, 2, 42, 2, 6, 127, 122, 9, 2, 2, 692, 13, 37, 38, 2, 446, 69, 4, 234, 709, 2, 2, 13, 126, 2, 5, 338, 458, 2, 8, 4, 2, 911, 23, 4, 307, 2, 36, 8, 634, 23, 325, 2, 4, 820, 9, 129, 2, 40, 836, 85, 2, 17, 12])],\n",
              "      dtype=object)"
            ]
          },
          "metadata": {},
          "execution_count": 109
        }
      ]
    },
    {
      "cell_type": "code",
      "source": [
        "X_test.shape"
      ],
      "metadata": {
        "colab": {
          "base_uri": "https://localhost:8080/"
        },
        "id": "nZgBtaVQ1nUr",
        "outputId": "52acd802-fbbc-4a44-aaf1-cab28d579a73"
      },
      "execution_count": 110,
      "outputs": [
        {
          "output_type": "execute_result",
          "data": {
            "text/plain": [
              "(2246,)"
            ]
          },
          "metadata": {},
          "execution_count": 110
        }
      ]
    },
    {
      "cell_type": "code",
      "source": [
        "X_train.shape"
      ],
      "metadata": {
        "colab": {
          "base_uri": "https://localhost:8080/"
        },
        "id": "MgkbgFad7ArY",
        "outputId": "83e31b0e-a4c6-49a7-b0ec-804666bd9300"
      },
      "execution_count": 111,
      "outputs": [
        {
          "output_type": "execute_result",
          "data": {
            "text/plain": [
              "(8982,)"
            ]
          },
          "metadata": {},
          "execution_count": 111
        }
      ]
    },
    {
      "cell_type": "code",
      "source": [
        "type(X_train[0])"
      ],
      "metadata": {
        "colab": {
          "base_uri": "https://localhost:8080/"
        },
        "id": "ytcWYGQU1nIy",
        "outputId": "b6f5542b-0ff3-4a5d-8131-87b2b1266202"
      },
      "execution_count": 112,
      "outputs": [
        {
          "output_type": "execute_result",
          "data": {
            "text/plain": [
              "list"
            ]
          },
          "metadata": {},
          "execution_count": 112
        }
      ]
    },
    {
      "cell_type": "code",
      "source": [
        "len(X_train[0])"
      ],
      "metadata": {
        "colab": {
          "base_uri": "https://localhost:8080/"
        },
        "id": "DBw1vgyU7Kz3",
        "outputId": "181bb59d-6870-47c7-d5f7-3b04d63bfee1"
      },
      "execution_count": 62,
      "outputs": [
        {
          "output_type": "execute_result",
          "data": {
            "text/plain": [
              "87"
            ]
          },
          "metadata": {},
          "execution_count": 62
        }
      ]
    },
    {
      "cell_type": "code",
      "source": [],
      "metadata": {
        "id": "abWvqgyK7eDF"
      },
      "execution_count": null,
      "outputs": []
    },
    {
      "cell_type": "code",
      "source": [],
      "metadata": {
        "id": "rtPKNY10FtVF"
      },
      "execution_count": null,
      "outputs": []
    },
    {
      "cell_type": "code",
      "source": [],
      "metadata": {
        "id": "eJ5UZCYVFn4S"
      },
      "execution_count": null,
      "outputs": []
    },
    {
      "cell_type": "code",
      "source": [
        "# X는 하루 445(+1) 일마다 list를 만들어서 array에 넣어야 함.\n",
        "# (445+) 1 일은 y에 넣어야 함."
      ],
      "metadata": {
        "id": "WsDPRMZb0kSQ"
      },
      "execution_count": null,
      "outputs": []
    },
    {
      "cell_type": "code",
      "source": [
        "weekday = target.T\n",
        "weekday   # 22300 rows × 1 columns"
      ],
      "metadata": {
        "colab": {
          "base_uri": "https://localhost:8080/",
          "height": 423
        },
        "id": "_3vGPWhUkMI1",
        "outputId": "61cc9e1f-eea6-4818-d119-02e0fa440710"
      },
      "execution_count": 17,
      "outputs": [
        {
          "output_type": "execute_result",
          "data": {
            "text/plain": [
              "                       0\n",
              "2023-02-21 00:00:00  1.0\n",
              "2023-02-21 00:01:00  1.0\n",
              "2023-02-21 00:02:00  1.0\n",
              "2023-02-21 00:03:00  1.0\n",
              "2023-02-21 00:04:00  1.0\n",
              "...                  ...\n",
              "2023-05-03 07:21:00  1.0\n",
              "2023-05-03 07:22:00  1.0\n",
              "2023-05-03 07:23:00  1.0\n",
              "2023-05-03 07:24:00  1.0\n",
              "2023-05-03 07:25:00  1.0\n",
              "\n",
              "[22300 rows x 1 columns]"
            ],
            "text/html": [
              "\n",
              "  <div id=\"df-1b29d008-7825-4274-9722-78b45187a277\">\n",
              "    <div class=\"colab-df-container\">\n",
              "      <div>\n",
              "<style scoped>\n",
              "    .dataframe tbody tr th:only-of-type {\n",
              "        vertical-align: middle;\n",
              "    }\n",
              "\n",
              "    .dataframe tbody tr th {\n",
              "        vertical-align: top;\n",
              "    }\n",
              "\n",
              "    .dataframe thead th {\n",
              "        text-align: right;\n",
              "    }\n",
              "</style>\n",
              "<table border=\"1\" class=\"dataframe\">\n",
              "  <thead>\n",
              "    <tr style=\"text-align: right;\">\n",
              "      <th></th>\n",
              "      <th>0</th>\n",
              "    </tr>\n",
              "  </thead>\n",
              "  <tbody>\n",
              "    <tr>\n",
              "      <th>2023-02-21 00:00:00</th>\n",
              "      <td>1.0</td>\n",
              "    </tr>\n",
              "    <tr>\n",
              "      <th>2023-02-21 00:01:00</th>\n",
              "      <td>1.0</td>\n",
              "    </tr>\n",
              "    <tr>\n",
              "      <th>2023-02-21 00:02:00</th>\n",
              "      <td>1.0</td>\n",
              "    </tr>\n",
              "    <tr>\n",
              "      <th>2023-02-21 00:03:00</th>\n",
              "      <td>1.0</td>\n",
              "    </tr>\n",
              "    <tr>\n",
              "      <th>2023-02-21 00:04:00</th>\n",
              "      <td>1.0</td>\n",
              "    </tr>\n",
              "    <tr>\n",
              "      <th>...</th>\n",
              "      <td>...</td>\n",
              "    </tr>\n",
              "    <tr>\n",
              "      <th>2023-05-03 07:21:00</th>\n",
              "      <td>1.0</td>\n",
              "    </tr>\n",
              "    <tr>\n",
              "      <th>2023-05-03 07:22:00</th>\n",
              "      <td>1.0</td>\n",
              "    </tr>\n",
              "    <tr>\n",
              "      <th>2023-05-03 07:23:00</th>\n",
              "      <td>1.0</td>\n",
              "    </tr>\n",
              "    <tr>\n",
              "      <th>2023-05-03 07:24:00</th>\n",
              "      <td>1.0</td>\n",
              "    </tr>\n",
              "    <tr>\n",
              "      <th>2023-05-03 07:25:00</th>\n",
              "      <td>1.0</td>\n",
              "    </tr>\n",
              "  </tbody>\n",
              "</table>\n",
              "<p>22300 rows × 1 columns</p>\n",
              "</div>\n",
              "      <button class=\"colab-df-convert\" onclick=\"convertToInteractive('df-1b29d008-7825-4274-9722-78b45187a277')\"\n",
              "              title=\"Convert this dataframe to an interactive table.\"\n",
              "              style=\"display:none;\">\n",
              "        \n",
              "  <svg xmlns=\"http://www.w3.org/2000/svg\" height=\"24px\"viewBox=\"0 0 24 24\"\n",
              "       width=\"24px\">\n",
              "    <path d=\"M0 0h24v24H0V0z\" fill=\"none\"/>\n",
              "    <path d=\"M18.56 5.44l.94 2.06.94-2.06 2.06-.94-2.06-.94-.94-2.06-.94 2.06-2.06.94zm-11 1L8.5 8.5l.94-2.06 2.06-.94-2.06-.94L8.5 2.5l-.94 2.06-2.06.94zm10 10l.94 2.06.94-2.06 2.06-.94-2.06-.94-.94-2.06-.94 2.06-2.06.94z\"/><path d=\"M17.41 7.96l-1.37-1.37c-.4-.4-.92-.59-1.43-.59-.52 0-1.04.2-1.43.59L10.3 9.45l-7.72 7.72c-.78.78-.78 2.05 0 2.83L4 21.41c.39.39.9.59 1.41.59.51 0 1.02-.2 1.41-.59l7.78-7.78 2.81-2.81c.8-.78.8-2.07 0-2.86zM5.41 20L4 18.59l7.72-7.72 1.47 1.35L5.41 20z\"/>\n",
              "  </svg>\n",
              "      </button>\n",
              "      \n",
              "  <style>\n",
              "    .colab-df-container {\n",
              "      display:flex;\n",
              "      flex-wrap:wrap;\n",
              "      gap: 12px;\n",
              "    }\n",
              "\n",
              "    .colab-df-convert {\n",
              "      background-color: #E8F0FE;\n",
              "      border: none;\n",
              "      border-radius: 50%;\n",
              "      cursor: pointer;\n",
              "      display: none;\n",
              "      fill: #1967D2;\n",
              "      height: 32px;\n",
              "      padding: 0 0 0 0;\n",
              "      width: 32px;\n",
              "    }\n",
              "\n",
              "    .colab-df-convert:hover {\n",
              "      background-color: #E2EBFA;\n",
              "      box-shadow: 0px 1px 2px rgba(60, 64, 67, 0.3), 0px 1px 3px 1px rgba(60, 64, 67, 0.15);\n",
              "      fill: #174EA6;\n",
              "    }\n",
              "\n",
              "    [theme=dark] .colab-df-convert {\n",
              "      background-color: #3B4455;\n",
              "      fill: #D2E3FC;\n",
              "    }\n",
              "\n",
              "    [theme=dark] .colab-df-convert:hover {\n",
              "      background-color: #434B5C;\n",
              "      box-shadow: 0px 1px 3px 1px rgba(0, 0, 0, 0.15);\n",
              "      filter: drop-shadow(0px 1px 2px rgba(0, 0, 0, 0.3));\n",
              "      fill: #FFFFFF;\n",
              "    }\n",
              "  </style>\n",
              "\n",
              "      <script>\n",
              "        const buttonEl =\n",
              "          document.querySelector('#df-1b29d008-7825-4274-9722-78b45187a277 button.colab-df-convert');\n",
              "        buttonEl.style.display =\n",
              "          google.colab.kernel.accessAllowed ? 'block' : 'none';\n",
              "\n",
              "        async function convertToInteractive(key) {\n",
              "          const element = document.querySelector('#df-1b29d008-7825-4274-9722-78b45187a277');\n",
              "          const dataTable =\n",
              "            await google.colab.kernel.invokeFunction('convertToInteractive',\n",
              "                                                     [key], {});\n",
              "          if (!dataTable) return;\n",
              "\n",
              "          const docLinkHtml = 'Like what you see? Visit the ' +\n",
              "            '<a target=\"_blank\" href=https://colab.research.google.com/notebooks/data_table.ipynb>data table notebook</a>'\n",
              "            + ' to learn more about interactive tables.';\n",
              "          element.innerHTML = '';\n",
              "          dataTable['output_type'] = 'display_data';\n",
              "          await google.colab.output.renderOutput(dataTable, element);\n",
              "          const docLink = document.createElement('div');\n",
              "          docLink.innerHTML = docLinkHtml;\n",
              "          element.appendChild(docLink);\n",
              "        }\n",
              "      </script>\n",
              "    </div>\n",
              "  </div>\n",
              "  "
            ]
          },
          "metadata": {},
          "execution_count": 17
        }
      ]
    },
    {
      "cell_type": "code",
      "source": [
        "def create_sequences(data):\n",
        "    xs = []\n",
        "    ys = []\n",
        "    arr_x = np.array([])\n",
        "    arr_y = np.array([])\n",
        "    for i in range(len(data)//446 - 1):  # 50일\n",
        "        x = data.iloc[446*i:(446*(i+1)-1)]\n",
        "        y = data.iloc[446*(i+1)-1]\n",
        "\n",
        "        xs = x.values.reshape(-1, )\n",
        "        ys = y.values.reshape(-1, )\n",
        "\n",
        "        arr_x = np.concatenate((arr_x, xs))\n",
        "        arr_y = np.concatenate((arr_y, ys))\n",
        "    return arr_x, arr_x\n",
        "\n",
        "X, y = create_sequences(weekday)"
      ],
      "metadata": {
        "id": "KyHUYxE69f64"
      },
      "execution_count": 165,
      "outputs": []
    },
    {
      "cell_type": "code",
      "source": [
        "X.shape, y.shape  # ((21805,), (21805,))"
      ],
      "metadata": {
        "colab": {
          "base_uri": "https://localhost:8080/"
        },
        "id": "IWd5PBph9zz-",
        "outputId": "71c4db23-7c39-40b9-ec2e-9bf67ca0828c"
      },
      "execution_count": 166,
      "outputs": [
        {
          "output_type": "execute_result",
          "data": {
            "text/plain": [
              "((21805,), (21805,))"
            ]
          },
          "metadata": {},
          "execution_count": 166
        }
      ]
    },
    {
      "cell_type": "code",
      "source": [
        "X = X.reshape(-1, 1)\n",
        "y = y.reshape(-1, 1)"
      ],
      "metadata": {
        "id": "WWpV79tZIjP_"
      },
      "execution_count": 167,
      "outputs": []
    },
    {
      "cell_type": "code",
      "source": [
        "X.shape, y.shape"
      ],
      "metadata": {
        "colab": {
          "base_uri": "https://localhost:8080/"
        },
        "id": "tOqs5e0FImCS",
        "outputId": "126938e7-08d9-439f-97fb-ad641009734a"
      },
      "execution_count": 168,
      "outputs": [
        {
          "output_type": "execute_result",
          "data": {
            "text/plain": [
              "((21805, 1), (21805, 1))"
            ]
          },
          "metadata": {},
          "execution_count": 168
        }
      ]
    },
    {
      "cell_type": "code",
      "source": [],
      "metadata": {
        "id": "I_rMsxA2JAp5"
      },
      "execution_count": null,
      "outputs": []
    },
    {
      "cell_type": "code",
      "source": [
        "# 학습 : 검증 : 시험 =  8:2\n",
        "train_size = int(445*(50*0.8))\n",
        "X_train, y_train = X[:train_size], y[:train_size]\n",
        "X_test, y_test = X[train_size:], y[train_size:]"
      ],
      "metadata": {
        "id": "Rs-7xWwx94I9"
      },
      "execution_count": 171,
      "outputs": []
    },
    {
      "cell_type": "code",
      "source": [
        "print(X_train.shape, X_test.shape)\n",
        "print(y_train.shape, y_test.shape)"
      ],
      "metadata": {
        "colab": {
          "base_uri": "https://localhost:8080/"
        },
        "id": "mrR6V3VjBCUe",
        "outputId": "d8dab060-3ee6-4c59-c186-13d920f3772e"
      },
      "execution_count": 172,
      "outputs": [
        {
          "output_type": "stream",
          "name": "stdout",
          "text": [
            "(17800, 1) (4005, 1)\n",
            "(17800, 1) (4005, 1)\n"
          ]
        }
      ]
    },
    {
      "cell_type": "code",
      "source": [],
      "metadata": {
        "id": "isS5RpiAIiRT"
      },
      "execution_count": null,
      "outputs": []
    },
    {
      "cell_type": "markdown",
      "source": [
        "# Model"
      ],
      "metadata": {
        "id": "7jJifTSABKu2"
      }
    },
    {
      "cell_type": "markdown",
      "source": [
        "## 'LSTM_example_with_Reuters_dataset' 코드 사용"
      ],
      "metadata": {
        "id": "WpnLUvynJxMM"
      }
    },
    {
      "cell_type": "code",
      "source": [
        "#Set model\n",
        "\n",
        "model = Sequential()\n",
        "\n",
        "model.add(Embedding(1000,100)) #Embedding(num of words loaded, num of words per article) -> has to be the first stage of the model \n",
        "model.add(LSTM(100, activation='tanh'))  #Weighted controlled LSTM for RNN's memory values ​​(words per article, other options)\n",
        "model.add(Dense(1, activation='softmax'))\n",
        "\n",
        "model.summary()"
      ],
      "metadata": {
        "colab": {
          "base_uri": "https://localhost:8080/"
        },
        "id": "y3siRONwncPS",
        "outputId": "0dbb2791-9c08-46bc-b25d-459a3d1159c5"
      },
      "execution_count": 173,
      "outputs": [
        {
          "output_type": "stream",
          "name": "stdout",
          "text": [
            "Model: \"sequential_8\"\n",
            "_________________________________________________________________\n",
            " Layer (type)                Output Shape              Param #   \n",
            "=================================================================\n",
            " embedding_8 (Embedding)     (None, None, 100)         100000    \n",
            "                                                                 \n",
            " lstm_8 (LSTM)               (None, 100)               80400     \n",
            "                                                                 \n",
            " dense_7 (Dense)             (None, 1)                 101       \n",
            "                                                                 \n",
            "=================================================================\n",
            "Total params: 180,501\n",
            "Trainable params: 180,501\n",
            "Non-trainable params: 0\n",
            "_________________________________________________________________\n"
          ]
        }
      ]
    },
    {
      "cell_type": "code",
      "source": [
        "#compile model \n",
        "\n",
        "model.compile(loss='categorical_crossentropy',\n",
        "              optimizer ='adam',\n",
        "              metrics=['accuracy'])"
      ],
      "metadata": {
        "id": "HomlT52MniQi"
      },
      "execution_count": 174,
      "outputs": []
    },
    {
      "cell_type": "code",
      "source": [
        "#Run model \n",
        "\n",
        "history = model.fit(X_train, y_train, batch_size=100, epochs=20, validation_data=(X_test, y_test))"
      ],
      "metadata": {
        "colab": {
          "base_uri": "https://localhost:8080/"
        },
        "id": "jGjYjgl3nj5F",
        "outputId": "e4fba9f7-0c3a-498f-fe96-63a3c79534d0"
      },
      "execution_count": 175,
      "outputs": [
        {
          "output_type": "stream",
          "name": "stdout",
          "text": [
            "Epoch 1/20\n"
          ]
        },
        {
          "output_type": "stream",
          "name": "stderr",
          "text": [
            "/usr/local/lib/python3.10/dist-packages/tensorflow/python/util/dispatch.py:1176: SyntaxWarning: In loss categorical_crossentropy, expected y_pred.shape to be (batch_size, num_classes) with num_classes > 1. Received: y_pred.shape=(100, 1). Consider using 'binary_crossentropy' if you only have 2 classes.\n",
            "  return dispatch_target(*args, **kwargs)\n"
          ]
        },
        {
          "output_type": "stream",
          "name": "stdout",
          "text": [
            "178/178 [==============================] - ETA: 0s - loss: 0.0000e+00 - accuracy: 0.9955"
          ]
        },
        {
          "output_type": "stream",
          "name": "stderr",
          "text": [
            "/usr/local/lib/python3.10/dist-packages/tensorflow/python/util/dispatch.py:1176: SyntaxWarning: In loss categorical_crossentropy, expected y_pred.shape to be (batch_size, num_classes) with num_classes > 1. Received: y_pred.shape=(None, 1). Consider using 'binary_crossentropy' if you only have 2 classes.\n",
            "  return dispatch_target(*args, **kwargs)\n"
          ]
        },
        {
          "output_type": "stream",
          "name": "stdout",
          "text": [
            "\b\b\b\b\b\b\b\b\b\b\b\b\b\b\b\b\b\b\b\b\b\b\b\b\b\b\b\b\b\b\b\b\b\b\b\b\b\b\b\b\b\b\b\b\b\b\b\b\b\b\b\b\b\b\b\b\b\b\b\b\b\b\b\b\b\b\b\b\b\b\b\b\b\b\b\b\b\b\b\b\b\b\b\b\b\b\b\b\r178/178 [==============================] - 4s 10ms/step - loss: 0.0000e+00 - accuracy: 0.9955 - val_loss: 0.0000e+00 - val_accuracy: 1.0000\n",
            "Epoch 2/20\n",
            "178/178 [==============================] - 1s 6ms/step - loss: 0.0000e+00 - accuracy: 0.9955 - val_loss: 0.0000e+00 - val_accuracy: 1.0000\n",
            "Epoch 3/20\n",
            "178/178 [==============================] - 1s 6ms/step - loss: 0.0000e+00 - accuracy: 0.9955 - val_loss: 0.0000e+00 - val_accuracy: 1.0000\n",
            "Epoch 4/20\n",
            "178/178 [==============================] - 1s 8ms/step - loss: 0.0000e+00 - accuracy: 0.9955 - val_loss: 0.0000e+00 - val_accuracy: 1.0000\n",
            "Epoch 5/20\n",
            "178/178 [==============================] - 2s 9ms/step - loss: 0.0000e+00 - accuracy: 0.9955 - val_loss: 0.0000e+00 - val_accuracy: 1.0000\n",
            "Epoch 6/20\n",
            "178/178 [==============================] - 2s 13ms/step - loss: 0.0000e+00 - accuracy: 0.9955 - val_loss: 0.0000e+00 - val_accuracy: 1.0000\n",
            "Epoch 7/20\n",
            "178/178 [==============================] - 1s 6ms/step - loss: 0.0000e+00 - accuracy: 0.9955 - val_loss: 0.0000e+00 - val_accuracy: 1.0000\n",
            "Epoch 8/20\n",
            "178/178 [==============================] - 1s 6ms/step - loss: 0.0000e+00 - accuracy: 0.9955 - val_loss: 0.0000e+00 - val_accuracy: 1.0000\n",
            "Epoch 9/20\n",
            "178/178 [==============================] - 1s 6ms/step - loss: 0.0000e+00 - accuracy: 0.9955 - val_loss: 0.0000e+00 - val_accuracy: 1.0000\n",
            "Epoch 10/20\n",
            "178/178 [==============================] - 1s 6ms/step - loss: 0.0000e+00 - accuracy: 0.9955 - val_loss: 0.0000e+00 - val_accuracy: 1.0000\n",
            "Epoch 11/20\n",
            "178/178 [==============================] - 1s 6ms/step - loss: 0.0000e+00 - accuracy: 0.9955 - val_loss: 0.0000e+00 - val_accuracy: 1.0000\n",
            "Epoch 12/20\n",
            "178/178 [==============================] - 1s 6ms/step - loss: 0.0000e+00 - accuracy: 0.9955 - val_loss: 0.0000e+00 - val_accuracy: 1.0000\n",
            "Epoch 13/20\n",
            "178/178 [==============================] - 1s 6ms/step - loss: 0.0000e+00 - accuracy: 0.9955 - val_loss: 0.0000e+00 - val_accuracy: 1.0000\n",
            "Epoch 14/20\n",
            "178/178 [==============================] - 1s 6ms/step - loss: 0.0000e+00 - accuracy: 0.9955 - val_loss: 0.0000e+00 - val_accuracy: 1.0000\n",
            "Epoch 15/20\n",
            "178/178 [==============================] - 1s 6ms/step - loss: 0.0000e+00 - accuracy: 0.9955 - val_loss: 0.0000e+00 - val_accuracy: 1.0000\n",
            "Epoch 16/20\n",
            "178/178 [==============================] - 2s 8ms/step - loss: 0.0000e+00 - accuracy: 0.9955 - val_loss: 0.0000e+00 - val_accuracy: 1.0000\n",
            "Epoch 17/20\n",
            "178/178 [==============================] - 2s 9ms/step - loss: 0.0000e+00 - accuracy: 0.9955 - val_loss: 0.0000e+00 - val_accuracy: 1.0000\n",
            "Epoch 18/20\n",
            "178/178 [==============================] - 2s 10ms/step - loss: 0.0000e+00 - accuracy: 0.9955 - val_loss: 0.0000e+00 - val_accuracy: 1.0000\n",
            "Epoch 19/20\n",
            "178/178 [==============================] - 1s 6ms/step - loss: 0.0000e+00 - accuracy: 0.9955 - val_loss: 0.0000e+00 - val_accuracy: 1.0000\n",
            "Epoch 20/20\n",
            "178/178 [==============================] - 1s 6ms/step - loss: 0.0000e+00 - accuracy: 0.9955 - val_loss: 0.0000e+00 - val_accuracy: 1.0000\n"
          ]
        }
      ]
    },
    {
      "cell_type": "code",
      "source": [
        "#model accuracy \n",
        "\n",
        "print('\\ Test Acuuracy: %.4f' % (model.evaluate(X_test, y_test)[1]))"
      ],
      "metadata": {
        "colab": {
          "base_uri": "https://localhost:8080/"
        },
        "id": "pCuf1UdYn4ol",
        "outputId": "c6d528bd-6e0e-4476-c45b-46221f32be9d"
      },
      "execution_count": 176,
      "outputs": [
        {
          "output_type": "stream",
          "name": "stdout",
          "text": [
            "126/126 [==============================] - 0s 3ms/step - loss: 0.0000e+00 - accuracy: 1.0000\n",
            "\\ Test Acuuracy: 1.0000\n"
          ]
        }
      ]
    },
    {
      "cell_type": "code",
      "source": [
        "# error of test_set\n",
        "y_vloss = history.history['val_loss']\n",
        "y_vloss"
      ],
      "metadata": {
        "colab": {
          "base_uri": "https://localhost:8080/"
        },
        "id": "hN7RbBE1ngm8",
        "outputId": "c038e6e8-2421-4d34-ae06-745d18ef711a"
      },
      "execution_count": 177,
      "outputs": [
        {
          "output_type": "execute_result",
          "data": {
            "text/plain": [
              "[0.0,\n",
              " 0.0,\n",
              " 0.0,\n",
              " 0.0,\n",
              " 0.0,\n",
              " 0.0,\n",
              " 0.0,\n",
              " 0.0,\n",
              " 0.0,\n",
              " 0.0,\n",
              " 0.0,\n",
              " 0.0,\n",
              " 0.0,\n",
              " 0.0,\n",
              " 0.0,\n",
              " 0.0,\n",
              " 0.0,\n",
              " 0.0,\n",
              " 0.0,\n",
              " 0.0]"
            ]
          },
          "metadata": {},
          "execution_count": 177
        }
      ]
    },
    {
      "cell_type": "code",
      "source": [
        "#error of train set\n",
        "y_loss = history.history['loss']\n",
        "y_loss"
      ],
      "metadata": {
        "colab": {
          "base_uri": "https://localhost:8080/"
        },
        "id": "PRYLvlk-IQWh",
        "outputId": "51f66945-3d6e-4ac7-8595-7d9771b2a15f"
      },
      "execution_count": 178,
      "outputs": [
        {
          "output_type": "execute_result",
          "data": {
            "text/plain": [
              "[0.0,\n",
              " 0.0,\n",
              " 0.0,\n",
              " 0.0,\n",
              " 0.0,\n",
              " 0.0,\n",
              " 0.0,\n",
              " 0.0,\n",
              " 0.0,\n",
              " 0.0,\n",
              " 0.0,\n",
              " 0.0,\n",
              " 0.0,\n",
              " 0.0,\n",
              " 0.0,\n",
              " 0.0,\n",
              " 0.0,\n",
              " 0.0,\n",
              " 0.0,\n",
              " 0.0]"
            ]
          },
          "metadata": {},
          "execution_count": 178
        }
      ]
    },
    {
      "cell_type": "code",
      "source": [
        "#graph \n",
        "x_len = numpy.arange(len(y_loss))\n",
        "plt.plot(x_len, y_vloss, marker ='.', c='red', label ='Testset_loss')\n",
        "plt.plot(x_len, y_loss, marker='.', c='blue', label = 'Trainset_loss')\n",
        "\n",
        "plt.legend(loc ='upper right')\n",
        "plt.grid()\n",
        "plt.xlabel('epoch')\n",
        "plt.ylabel('loss')\n",
        "plt.show()\n",
        "\n",
        "#Model accuracy: 70.48%\n",
        "#Optimal learning time just before overfitting."
      ],
      "metadata": {
        "colab": {
          "base_uri": "https://localhost:8080/",
          "height": 449
        },
        "id": "RA5gTfs0ISly",
        "outputId": "7b779194-d71a-4ea4-fb1c-f641624121fc"
      },
      "execution_count": 179,
      "outputs": [
        {
          "output_type": "display_data",
          "data": {
            "text/plain": [
              "<Figure size 640x480 with 1 Axes>"
            ],
            "image/png": "[encoded data removed]"
          },
          "metadata": {}
        }
      ]
    },
    {
      "cell_type": "code",
      "source": [],
      "metadata": {
        "id": "yboV1z-EIUmh"
      },
      "execution_count": null,
      "outputs": []
    },
    {
      "cell_type": "code",
      "source": [],
      "metadata": {
        "id": "66XsoatFlMSH"
      },
      "execution_count": null,
      "outputs": []
    }
  ]
}