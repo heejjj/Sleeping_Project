{
  "nbformat": 4,
  "nbformat_minor": 0,
  "metadata": {
    "colab": {
      "provenance": [],
      "gpuType": "T4",
      "authorship_tag": "ABX9TyNn5YampyDkWPk5ztRseKFo",
      "include_colab_link": true
    },
    "kernelspec": {
      "name": "python3",
      "display_name": "Python 3"
    },
    "language_info": {
      "name": "python"
    },
    "accelerator": "GPU",
    "gpuClass": "standard"
  },
  "cells": [
    {
      "cell_type": "markdown",
      "metadata": {
        "id": "view-in-github",
        "colab_type": "text"
      },
      "source": [
        "<a href=\"https://colab.research.google.com/github/heejjj/Sleeping_Project/blob/main/LSTM.ipynb\" target=\"_parent\"><img src=\"https://colab.research.google.com/assets/colab-badge.svg\" alt=\"Open In Colab\"/></a>"
      ]
    },
    {
      "cell_type": "markdown",
      "source": [
        "# Applewatch data 불러오기"
      ],
      "metadata": {
        "id": "Q5MF7DkX0r7P"
      }
    },
    {
      "cell_type": "code",
      "source": [
        "from google.colab import drive\n",
        "drive.mount('/content/drive')"
      ],
      "metadata": {
        "colab": {
          "base_uri": "https://localhost:8080/"
        },
        "id": "-N1wWDdQ0dOE",
        "outputId": "29748384-8db8-4aee-aa40-d41abe67b25e"
      },
      "execution_count": 1,
      "outputs": [
        {
          "output_type": "stream",
          "name": "stdout",
          "text": [
            "Mounted at /content/drive\n"
          ]
        }
      ]
    },
    {
      "cell_type": "code",
      "source": [
        "import pandas as pd\n",
        "\n",
        "data = pd.read_csv('/content/drive/MyDrive/KDT_python/project/Hackathon/Sleep Analysis Data (1).csv')"
      ],
      "metadata": {
        "id": "aMk-NV4k0dwJ"
      },
      "execution_count": 2,
      "outputs": []
    },
    {
      "cell_type": "code",
      "source": [
        "data.shape"
      ],
      "metadata": {
        "colab": {
          "base_uri": "https://localhost:8080/"
        },
        "id": "1kQrQRfy0dK0",
        "outputId": "1e8269d3-7428-4994-cc44-043125a7fa54"
      },
      "execution_count": 3,
      "outputs": [
        {
          "output_type": "execute_result",
          "data": {
            "text/plain": [
              "(2955, 5)"
            ]
          },
          "metadata": {},
          "execution_count": 3
        }
      ]
    },
    {
      "cell_type": "code",
      "source": [
        "data.head()"
      ],
      "metadata": {
        "colab": {
          "base_uri": "https://localhost:8080/",
          "height": 206
        },
        "id": "lX3w5S0k0naR",
        "outputId": "a996a9b2-ebd3-428a-a65e-34a9f89b074a"
      },
      "execution_count": 4,
      "outputs": [
        {
          "output_type": "execute_result",
          "data": {
            "text/plain": [
              "                 Start                  End  Duration (hr)  Value  \\\n",
              "0  2023-02-13 23:21:07  2023-02-14 08:47:48          9.440  InBed   \n",
              "1  2023-02-13 23:50:25  2023-02-14 00:07:25          0.283   Core   \n",
              "2  2023-02-14 00:07:25  2023-02-14 00:27:25          0.333   Deep   \n",
              "3  2023-02-14 00:27:25  2023-02-14 00:30:25          0.050   Core   \n",
              "4  2023-02-14 00:30:25  2023-02-14 00:38:25          0.133   Deep   \n",
              "\n",
              "                 Source  \n",
              "0                   NHC  \n",
              "1  Sujeong의 Apple Watch  \n",
              "2  Sujeong의 Apple Watch  \n",
              "3  Sujeong의 Apple Watch  \n",
              "4  Sujeong의 Apple Watch  "
            ],
            "text/html": [
              "\n",
              "  <div id=\"df-54ca2834-277a-4c61-b392-bda30174f7bd\">\n",
              "    <div class=\"colab-df-container\">\n",
              "      <div>\n",
              "<style scoped>\n",
              "    .dataframe tbody tr th:only-of-type {\n",
              "        vertical-align: middle;\n",
              "    }\n",
              "\n",
              "    .dataframe tbody tr th {\n",
              "        vertical-align: top;\n",
              "    }\n",
              "\n",
              "    .dataframe thead th {\n",
              "        text-align: right;\n",
              "    }\n",
              "</style>\n",
              "<table border=\"1\" class=\"dataframe\">\n",
              "  <thead>\n",
              "    <tr style=\"text-align: right;\">\n",
              "      <th></th>\n",
              "      <th>Start</th>\n",
              "      <th>End</th>\n",
              "      <th>Duration (hr)</th>\n",
              "      <th>Value</th>\n",
              "      <th>Source</th>\n",
              "    </tr>\n",
              "  </thead>\n",
              "  <tbody>\n",
              "    <tr>\n",
              "      <th>0</th>\n",
              "      <td>2023-02-13 23:21:07</td>\n",
              "      <td>2023-02-14 08:47:48</td>\n",
              "      <td>9.440</td>\n",
              "      <td>InBed</td>\n",
              "      <td>NHC</td>\n",
              "    </tr>\n",
              "    <tr>\n",
              "      <th>1</th>\n",
              "      <td>2023-02-13 23:50:25</td>\n",
              "      <td>2023-02-14 00:07:25</td>\n",
              "      <td>0.283</td>\n",
              "      <td>Core</td>\n",
              "      <td>Sujeong의 Apple Watch</td>\n",
              "    </tr>\n",
              "    <tr>\n",
              "      <th>2</th>\n",
              "      <td>2023-02-14 00:07:25</td>\n",
              "      <td>2023-02-14 00:27:25</td>\n",
              "      <td>0.333</td>\n",
              "      <td>Deep</td>\n",
              "      <td>Sujeong의 Apple Watch</td>\n",
              "    </tr>\n",
              "    <tr>\n",
              "      <th>3</th>\n",
              "      <td>2023-02-14 00:27:25</td>\n",
              "      <td>2023-02-14 00:30:25</td>\n",
              "      <td>0.050</td>\n",
              "      <td>Core</td>\n",
              "      <td>Sujeong의 Apple Watch</td>\n",
              "    </tr>\n",
              "    <tr>\n",
              "      <th>4</th>\n",
              "      <td>2023-02-14 00:30:25</td>\n",
              "      <td>2023-02-14 00:38:25</td>\n",
              "      <td>0.133</td>\n",
              "      <td>Deep</td>\n",
              "      <td>Sujeong의 Apple Watch</td>\n",
              "    </tr>\n",
              "  </tbody>\n",
              "</table>\n",
              "</div>\n",
              "      <button class=\"colab-df-convert\" onclick=\"convertToInteractive('df-54ca2834-277a-4c61-b392-bda30174f7bd')\"\n",
              "              title=\"Convert this dataframe to an interactive table.\"\n",
              "              style=\"display:none;\">\n",
              "        \n",
              "  <svg xmlns=\"http://www.w3.org/2000/svg\" height=\"24px\"viewBox=\"0 0 24 24\"\n",
              "       width=\"24px\">\n",
              "    <path d=\"M0 0h24v24H0V0z\" fill=\"none\"/>\n",
              "    <path d=\"M18.56 5.44l.94 2.06.94-2.06 2.06-.94-2.06-.94-.94-2.06-.94 2.06-2.06.94zm-11 1L8.5 8.5l.94-2.06 2.06-.94-2.06-.94L8.5 2.5l-.94 2.06-2.06.94zm10 10l.94 2.06.94-2.06 2.06-.94-2.06-.94-.94-2.06-.94 2.06-2.06.94z\"/><path d=\"M17.41 7.96l-1.37-1.37c-.4-.4-.92-.59-1.43-.59-.52 0-1.04.2-1.43.59L10.3 9.45l-7.72 7.72c-.78.78-.78 2.05 0 2.83L4 21.41c.39.39.9.59 1.41.59.51 0 1.02-.2 1.41-.59l7.78-7.78 2.81-2.81c.8-.78.8-2.07 0-2.86zM5.41 20L4 18.59l7.72-7.72 1.47 1.35L5.41 20z\"/>\n",
              "  </svg>\n",
              "      </button>\n",
              "      \n",
              "  <style>\n",
              "    .colab-df-container {\n",
              "      display:flex;\n",
              "      flex-wrap:wrap;\n",
              "      gap: 12px;\n",
              "    }\n",
              "\n",
              "    .colab-df-convert {\n",
              "      background-color: #E8F0FE;\n",
              "      border: none;\n",
              "      border-radius: 50%;\n",
              "      cursor: pointer;\n",
              "      display: none;\n",
              "      fill: #1967D2;\n",
              "      height: 32px;\n",
              "      padding: 0 0 0 0;\n",
              "      width: 32px;\n",
              "    }\n",
              "\n",
              "    .colab-df-convert:hover {\n",
              "      background-color: #E2EBFA;\n",
              "      box-shadow: 0px 1px 2px rgba(60, 64, 67, 0.3), 0px 1px 3px 1px rgba(60, 64, 67, 0.15);\n",
              "      fill: #174EA6;\n",
              "    }\n",
              "\n",
              "    [theme=dark] .colab-df-convert {\n",
              "      background-color: #3B4455;\n",
              "      fill: #D2E3FC;\n",
              "    }\n",
              "\n",
              "    [theme=dark] .colab-df-convert:hover {\n",
              "      background-color: #434B5C;\n",
              "      box-shadow: 0px 1px 3px 1px rgba(0, 0, 0, 0.15);\n",
              "      filter: drop-shadow(0px 1px 2px rgba(0, 0, 0, 0.3));\n",
              "      fill: #FFFFFF;\n",
              "    }\n",
              "  </style>\n",
              "\n",
              "      <script>\n",
              "        const buttonEl =\n",
              "          document.querySelector('#df-54ca2834-277a-4c61-b392-bda30174f7bd button.colab-df-convert');\n",
              "        buttonEl.style.display =\n",
              "          google.colab.kernel.accessAllowed ? 'block' : 'none';\n",
              "\n",
              "        async function convertToInteractive(key) {\n",
              "          const element = document.querySelector('#df-54ca2834-277a-4c61-b392-bda30174f7bd');\n",
              "          const dataTable =\n",
              "            await google.colab.kernel.invokeFunction('convertToInteractive',\n",
              "                                                     [key], {});\n",
              "          if (!dataTable) return;\n",
              "\n",
              "          const docLinkHtml = 'Like what you see? Visit the ' +\n",
              "            '<a target=\"_blank\" href=https://colab.research.google.com/notebooks/data_table.ipynb>data table notebook</a>'\n",
              "            + ' to learn more about interactive tables.';\n",
              "          element.innerHTML = '';\n",
              "          dataTable['output_type'] = 'display_data';\n",
              "          await google.colab.output.renderOutput(dataTable, element);\n",
              "          const docLink = document.createElement('div');\n",
              "          docLink.innerHTML = docLinkHtml;\n",
              "          element.appendChild(docLink);\n",
              "        }\n",
              "      </script>\n",
              "    </div>\n",
              "  </div>\n",
              "  "
            ]
          },
          "metadata": {},
          "execution_count": 4
        }
      ]
    },
    {
      "cell_type": "code",
      "source": [
        "data.tail()"
      ],
      "metadata": {
        "colab": {
          "base_uri": "https://localhost:8080/",
          "height": 206
        },
        "id": "95umGg4M1405",
        "outputId": "a545a274-7532-420b-de30-a71a4dfd5e23"
      },
      "execution_count": 5,
      "outputs": [
        {
          "output_type": "execute_result",
          "data": {
            "text/plain": [
              "                    Start                  End  Duration (hr)  Value  \\\n",
              "2950  2023-05-03 06:44:05  2023-05-03 07:09:05          0.417    REM   \n",
              "2951  2023-05-03 07:09:05  2023-05-03 07:29:05          0.333   Core   \n",
              "2952  2023-05-03 07:29:05  2023-05-03 07:30:05          0.017  Awake   \n",
              "2953  2023-05-03 07:30:05  2023-05-03 07:31:05          0.017   Core   \n",
              "2954  2023-05-03 07:30:05  2023-05-03 07:31:05          0.017  InBed   \n",
              "\n",
              "                    Source  \n",
              "2950  Sujeong의 Apple Watch  \n",
              "2951  Sujeong의 Apple Watch  \n",
              "2952  Sujeong의 Apple Watch  \n",
              "2953  Sujeong의 Apple Watch  \n",
              "2954  Sujeong의 Apple Watch  "
            ],
            "text/html": [
              "\n",
              "  <div id=\"df-4d6b41b2-66a1-44c2-bf95-8531708e1ea6\">\n",
              "    <div class=\"colab-df-container\">\n",
              "      <div>\n",
              "<style scoped>\n",
              "    .dataframe tbody tr th:only-of-type {\n",
              "        vertical-align: middle;\n",
              "    }\n",
              "\n",
              "    .dataframe tbody tr th {\n",
              "        vertical-align: top;\n",
              "    }\n",
              "\n",
              "    .dataframe thead th {\n",
              "        text-align: right;\n",
              "    }\n",
              "</style>\n",
              "<table border=\"1\" class=\"dataframe\">\n",
              "  <thead>\n",
              "    <tr style=\"text-align: right;\">\n",
              "      <th></th>\n",
              "      <th>Start</th>\n",
              "      <th>End</th>\n",
              "      <th>Duration (hr)</th>\n",
              "      <th>Value</th>\n",
              "      <th>Source</th>\n",
              "    </tr>\n",
              "  </thead>\n",
              "  <tbody>\n",
              "    <tr>\n",
              "      <th>2950</th>\n",
              "      <td>2023-05-03 06:44:05</td>\n",
              "      <td>2023-05-03 07:09:05</td>\n",
              "      <td>0.417</td>\n",
              "      <td>REM</td>\n",
              "      <td>Sujeong의 Apple Watch</td>\n",
              "    </tr>\n",
              "    <tr>\n",
              "      <th>2951</th>\n",
              "      <td>2023-05-03 07:09:05</td>\n",
              "      <td>2023-05-03 07:29:05</td>\n",
              "      <td>0.333</td>\n",
              "      <td>Core</td>\n",
              "      <td>Sujeong의 Apple Watch</td>\n",
              "    </tr>\n",
              "    <tr>\n",
              "      <th>2952</th>\n",
              "      <td>2023-05-03 07:29:05</td>\n",
              "      <td>2023-05-03 07:30:05</td>\n",
              "      <td>0.017</td>\n",
              "      <td>Awake</td>\n",
              "      <td>Sujeong의 Apple Watch</td>\n",
              "    </tr>\n",
              "    <tr>\n",
              "      <th>2953</th>\n",
              "      <td>2023-05-03 07:30:05</td>\n",
              "      <td>2023-05-03 07:31:05</td>\n",
              "      <td>0.017</td>\n",
              "      <td>Core</td>\n",
              "      <td>Sujeong의 Apple Watch</td>\n",
              "    </tr>\n",
              "    <tr>\n",
              "      <th>2954</th>\n",
              "      <td>2023-05-03 07:30:05</td>\n",
              "      <td>2023-05-03 07:31:05</td>\n",
              "      <td>0.017</td>\n",
              "      <td>InBed</td>\n",
              "      <td>Sujeong의 Apple Watch</td>\n",
              "    </tr>\n",
              "  </tbody>\n",
              "</table>\n",
              "</div>\n",
              "      <button class=\"colab-df-convert\" onclick=\"convertToInteractive('df-4d6b41b2-66a1-44c2-bf95-8531708e1ea6')\"\n",
              "              title=\"Convert this dataframe to an interactive table.\"\n",
              "              style=\"display:none;\">\n",
              "        \n",
              "  <svg xmlns=\"http://www.w3.org/2000/svg\" height=\"24px\"viewBox=\"0 0 24 24\"\n",
              "       width=\"24px\">\n",
              "    <path d=\"M0 0h24v24H0V0z\" fill=\"none\"/>\n",
              "    <path d=\"M18.56 5.44l.94 2.06.94-2.06 2.06-.94-2.06-.94-.94-2.06-.94 2.06-2.06.94zm-11 1L8.5 8.5l.94-2.06 2.06-.94-2.06-.94L8.5 2.5l-.94 2.06-2.06.94zm10 10l.94 2.06.94-2.06 2.06-.94-2.06-.94-.94-2.06-.94 2.06-2.06.94z\"/><path d=\"M17.41 7.96l-1.37-1.37c-.4-.4-.92-.59-1.43-.59-.52 0-1.04.2-1.43.59L10.3 9.45l-7.72 7.72c-.78.78-.78 2.05 0 2.83L4 21.41c.39.39.9.59 1.41.59.51 0 1.02-.2 1.41-.59l7.78-7.78 2.81-2.81c.8-.78.8-2.07 0-2.86zM5.41 20L4 18.59l7.72-7.72 1.47 1.35L5.41 20z\"/>\n",
              "  </svg>\n",
              "      </button>\n",
              "      \n",
              "  <style>\n",
              "    .colab-df-container {\n",
              "      display:flex;\n",
              "      flex-wrap:wrap;\n",
              "      gap: 12px;\n",
              "    }\n",
              "\n",
              "    .colab-df-convert {\n",
              "      background-color: #E8F0FE;\n",
              "      border: none;\n",
              "      border-radius: 50%;\n",
              "      cursor: pointer;\n",
              "      display: none;\n",
              "      fill: #1967D2;\n",
              "      height: 32px;\n",
              "      padding: 0 0 0 0;\n",
              "      width: 32px;\n",
              "    }\n",
              "\n",
              "    .colab-df-convert:hover {\n",
              "      background-color: #E2EBFA;\n",
              "      box-shadow: 0px 1px 2px rgba(60, 64, 67, 0.3), 0px 1px 3px 1px rgba(60, 64, 67, 0.15);\n",
              "      fill: #174EA6;\n",
              "    }\n",
              "\n",
              "    [theme=dark] .colab-df-convert {\n",
              "      background-color: #3B4455;\n",
              "      fill: #D2E3FC;\n",
              "    }\n",
              "\n",
              "    [theme=dark] .colab-df-convert:hover {\n",
              "      background-color: #434B5C;\n",
              "      box-shadow: 0px 1px 3px 1px rgba(0, 0, 0, 0.15);\n",
              "      filter: drop-shadow(0px 1px 2px rgba(0, 0, 0, 0.3));\n",
              "      fill: #FFFFFF;\n",
              "    }\n",
              "  </style>\n",
              "\n",
              "      <script>\n",
              "        const buttonEl =\n",
              "          document.querySelector('#df-4d6b41b2-66a1-44c2-bf95-8531708e1ea6 button.colab-df-convert');\n",
              "        buttonEl.style.display =\n",
              "          google.colab.kernel.accessAllowed ? 'block' : 'none';\n",
              "\n",
              "        async function convertToInteractive(key) {\n",
              "          const element = document.querySelector('#df-4d6b41b2-66a1-44c2-bf95-8531708e1ea6');\n",
              "          const dataTable =\n",
              "            await google.colab.kernel.invokeFunction('convertToInteractive',\n",
              "                                                     [key], {});\n",
              "          if (!dataTable) return;\n",
              "\n",
              "          const docLinkHtml = 'Like what you see? Visit the ' +\n",
              "            '<a target=\"_blank\" href=https://colab.research.google.com/notebooks/data_table.ipynb>data table notebook</a>'\n",
              "            + ' to learn more about interactive tables.';\n",
              "          element.innerHTML = '';\n",
              "          dataTable['output_type'] = 'display_data';\n",
              "          await google.colab.output.renderOutput(dataTable, element);\n",
              "          const docLink = document.createElement('div');\n",
              "          docLink.innerHTML = docLinkHtml;\n",
              "          element.appendChild(docLink);\n",
              "        }\n",
              "      </script>\n",
              "    </div>\n",
              "  </div>\n",
              "  "
            ]
          },
          "metadata": {},
          "execution_count": 5
        }
      ]
    },
    {
      "cell_type": "code",
      "source": [
        "data.info()"
      ],
      "metadata": {
        "colab": {
          "base_uri": "https://localhost:8080/"
        },
        "id": "hGhrQgZx2GPg",
        "outputId": "7e8fb98a-3d7b-44d1-8a77-9e870f4966e0"
      },
      "execution_count": 6,
      "outputs": [
        {
          "output_type": "stream",
          "name": "stdout",
          "text": [
            "<class 'pandas.core.frame.DataFrame'>\n",
            "RangeIndex: 2955 entries, 0 to 2954\n",
            "Data columns (total 5 columns):\n",
            " #   Column         Non-Null Count  Dtype  \n",
            "---  ------         --------------  -----  \n",
            " 0   Start          2955 non-null   object \n",
            " 1   End            2955 non-null   object \n",
            " 2   Duration (hr)  2955 non-null   float64\n",
            " 3   Value          2955 non-null   object \n",
            " 4   Source         2955 non-null   object \n",
            "dtypes: float64(1), object(4)\n",
            "memory usage: 115.6+ KB\n"
          ]
        }
      ]
    },
    {
      "cell_type": "code",
      "source": [
        "# 데이터 저장.\n",
        "sleep = data"
      ],
      "metadata": {
        "id": "0QQq6QPS2HZD"
      },
      "execution_count": 7,
      "outputs": []
    },
    {
      "cell_type": "markdown",
      "source": [
        "# EDA"
      ],
      "metadata": {
        "id": "x1YtbfTM1-sR"
      }
    },
    {
      "cell_type": "markdown",
      "source": [
        "- \"data\"는 2023.02.13 저녁부터 2023.05.03까지의 수면시간 데이터가 저장되어 있음.\n",
        "\n",
        "- Start\n",
        "- End\n",
        "- Duration (hr)\n",
        "- Value : 수면 깊이. deep, core, rem, awake\n",
        "- Source : nhc(휴대폰), Sujeong의 Apple watch(워치)"
      ],
      "metadata": {
        "id": "t2X56C_K2A27"
      }
    },
    {
      "cell_type": "markdown",
      "source": [
        "- ['Source' == 'nhc'] 의 'Value'가 'InBed'인 경우는 한 번 수면한 총 시간 정보를 가지고 있으므로 따로 저장하여 도탈 시간과 비교하여 데이터가 정교한지(?)를 확인.\n",
        "- ['Source' == 'Sujeong의 Apple watch'] 의 'Value'가 'InBed'인 경우는 이상치로 구분하여 drop 하기로 결정.\n",
        "\n",
        "- 분석 구간 (2/17, 2/25, 3/20, 3/26, 4/22 에 워치를 착용하지 않고 수면함. 이상치 -> 제거 결정, 규칙적인 수면이 시작되는 2/26일부터 분석 시작)\n",
        "  - first - 2/26-3/25 (2/26-3/20, 3/22-3/25)\n",
        "  - second- 3/27~4/21\n",
        "  - third - 4/23~5/3 \n",
        "\n",
        "- deep: 1, core:2, rem:3, awake:4"
      ],
      "metadata": {
        "id": "Tepk5Lkb0rQo"
      }
    },
    {
      "cell_type": "code",
      "source": [],
      "metadata": {
        "id": "vWkj22WH4GZi"
      },
      "execution_count": 7,
      "outputs": []
    },
    {
      "cell_type": "code",
      "source": [
        "# total 수면 시간 비교를 위한 \"nhc\" 데이터셋 생성\n",
        "InBed = data[data[\"Value\"]=='InBed']\n",
        "nhc = InBed[InBed[\"Source\"] == 'NHC']\n",
        "\n",
        "# 워치 데이터에서 InBed를 제외한 데이터인 \"watch\" 데이터셋 생성.\n",
        "watch = data[data[\"Source\"] != 'NHC']\n",
        "watch = watch[watch['Value'] != \"InBed\"]"
      ],
      "metadata": {
        "id": "PeQH7wLf3G9M"
      },
      "execution_count": 8,
      "outputs": []
    },
    {
      "cell_type": "code",
      "source": [
        "nhc.head()"
      ],
      "metadata": {
        "colab": {
          "base_uri": "https://localhost:8080/",
          "height": 206
        },
        "id": "mQP2dqRR4aLn",
        "outputId": "bd5fcb31-405e-408a-dcae-307245d26e92"
      },
      "execution_count": 9,
      "outputs": [
        {
          "output_type": "execute_result",
          "data": {
            "text/plain": [
              "                   Start                  End  Duration (hr)  Value Source\n",
              "0    2023-02-13 23:21:07  2023-02-14 08:47:48           9.44  InBed    NHC\n",
              "36   2023-02-14 23:16:52  2023-02-15 09:00:24           9.73  InBed    NHC\n",
              "93   2023-02-15 23:50:07  2023-02-16 06:36:44           6.78  InBed    NHC\n",
              "138  2023-02-16 06:36:50  2023-02-16 09:00:17           2.39  InBed    NHC\n",
              "160  2023-02-17 00:40:33  2023-02-17 09:00:08           8.33  InBed    NHC"
            ],
            "text/html": [
              "\n",
              "  <div id=\"df-3392fd96-90ab-455b-b503-b7f7fbbee437\">\n",
              "    <div class=\"colab-df-container\">\n",
              "      <div>\n",
              "<style scoped>\n",
              "    .dataframe tbody tr th:only-of-type {\n",
              "        vertical-align: middle;\n",
              "    }\n",
              "\n",
              "    .dataframe tbody tr th {\n",
              "        vertical-align: top;\n",
              "    }\n",
              "\n",
              "    .dataframe thead th {\n",
              "        text-align: right;\n",
              "    }\n",
              "</style>\n",
              "<table border=\"1\" class=\"dataframe\">\n",
              "  <thead>\n",
              "    <tr style=\"text-align: right;\">\n",
              "      <th></th>\n",
              "      <th>Start</th>\n",
              "      <th>End</th>\n",
              "      <th>Duration (hr)</th>\n",
              "      <th>Value</th>\n",
              "      <th>Source</th>\n",
              "    </tr>\n",
              "  </thead>\n",
              "  <tbody>\n",
              "    <tr>\n",
              "      <th>0</th>\n",
              "      <td>2023-02-13 23:21:07</td>\n",
              "      <td>2023-02-14 08:47:48</td>\n",
              "      <td>9.44</td>\n",
              "      <td>InBed</td>\n",
              "      <td>NHC</td>\n",
              "    </tr>\n",
              "    <tr>\n",
              "      <th>36</th>\n",
              "      <td>2023-02-14 23:16:52</td>\n",
              "      <td>2023-02-15 09:00:24</td>\n",
              "      <td>9.73</td>\n",
              "      <td>InBed</td>\n",
              "      <td>NHC</td>\n",
              "    </tr>\n",
              "    <tr>\n",
              "      <th>93</th>\n",
              "      <td>2023-02-15 23:50:07</td>\n",
              "      <td>2023-02-16 06:36:44</td>\n",
              "      <td>6.78</td>\n",
              "      <td>InBed</td>\n",
              "      <td>NHC</td>\n",
              "    </tr>\n",
              "    <tr>\n",
              "      <th>138</th>\n",
              "      <td>2023-02-16 06:36:50</td>\n",
              "      <td>2023-02-16 09:00:17</td>\n",
              "      <td>2.39</td>\n",
              "      <td>InBed</td>\n",
              "      <td>NHC</td>\n",
              "    </tr>\n",
              "    <tr>\n",
              "      <th>160</th>\n",
              "      <td>2023-02-17 00:40:33</td>\n",
              "      <td>2023-02-17 09:00:08</td>\n",
              "      <td>8.33</td>\n",
              "      <td>InBed</td>\n",
              "      <td>NHC</td>\n",
              "    </tr>\n",
              "  </tbody>\n",
              "</table>\n",
              "</div>\n",
              "      <button class=\"colab-df-convert\" onclick=\"convertToInteractive('df-3392fd96-90ab-455b-b503-b7f7fbbee437')\"\n",
              "              title=\"Convert this dataframe to an interactive table.\"\n",
              "              style=\"display:none;\">\n",
              "        \n",
              "  <svg xmlns=\"http://www.w3.org/2000/svg\" height=\"24px\"viewBox=\"0 0 24 24\"\n",
              "       width=\"24px\">\n",
              "    <path d=\"M0 0h24v24H0V0z\" fill=\"none\"/>\n",
              "    <path d=\"M18.56 5.44l.94 2.06.94-2.06 2.06-.94-2.06-.94-.94-2.06-.94 2.06-2.06.94zm-11 1L8.5 8.5l.94-2.06 2.06-.94-2.06-.94L8.5 2.5l-.94 2.06-2.06.94zm10 10l.94 2.06.94-2.06 2.06-.94-2.06-.94-.94-2.06-.94 2.06-2.06.94z\"/><path d=\"M17.41 7.96l-1.37-1.37c-.4-.4-.92-.59-1.43-.59-.52 0-1.04.2-1.43.59L10.3 9.45l-7.72 7.72c-.78.78-.78 2.05 0 2.83L4 21.41c.39.39.9.59 1.41.59.51 0 1.02-.2 1.41-.59l7.78-7.78 2.81-2.81c.8-.78.8-2.07 0-2.86zM5.41 20L4 18.59l7.72-7.72 1.47 1.35L5.41 20z\"/>\n",
              "  </svg>\n",
              "      </button>\n",
              "      \n",
              "  <style>\n",
              "    .colab-df-container {\n",
              "      display:flex;\n",
              "      flex-wrap:wrap;\n",
              "      gap: 12px;\n",
              "    }\n",
              "\n",
              "    .colab-df-convert {\n",
              "      background-color: #E8F0FE;\n",
              "      border: none;\n",
              "      border-radius: 50%;\n",
              "      cursor: pointer;\n",
              "      display: none;\n",
              "      fill: #1967D2;\n",
              "      height: 32px;\n",
              "      padding: 0 0 0 0;\n",
              "      width: 32px;\n",
              "    }\n",
              "\n",
              "    .colab-df-convert:hover {\n",
              "      background-color: #E2EBFA;\n",
              "      box-shadow: 0px 1px 2px rgba(60, 64, 67, 0.3), 0px 1px 3px 1px rgba(60, 64, 67, 0.15);\n",
              "      fill: #174EA6;\n",
              "    }\n",
              "\n",
              "    [theme=dark] .colab-df-convert {\n",
              "      background-color: #3B4455;\n",
              "      fill: #D2E3FC;\n",
              "    }\n",
              "\n",
              "    [theme=dark] .colab-df-convert:hover {\n",
              "      background-color: #434B5C;\n",
              "      box-shadow: 0px 1px 3px 1px rgba(0, 0, 0, 0.15);\n",
              "      filter: drop-shadow(0px 1px 2px rgba(0, 0, 0, 0.3));\n",
              "      fill: #FFFFFF;\n",
              "    }\n",
              "  </style>\n",
              "\n",
              "      <script>\n",
              "        const buttonEl =\n",
              "          document.querySelector('#df-3392fd96-90ab-455b-b503-b7f7fbbee437 button.colab-df-convert');\n",
              "        buttonEl.style.display =\n",
              "          google.colab.kernel.accessAllowed ? 'block' : 'none';\n",
              "\n",
              "        async function convertToInteractive(key) {\n",
              "          const element = document.querySelector('#df-3392fd96-90ab-455b-b503-b7f7fbbee437');\n",
              "          const dataTable =\n",
              "            await google.colab.kernel.invokeFunction('convertToInteractive',\n",
              "                                                     [key], {});\n",
              "          if (!dataTable) return;\n",
              "\n",
              "          const docLinkHtml = 'Like what you see? Visit the ' +\n",
              "            '<a target=\"_blank\" href=https://colab.research.google.com/notebooks/data_table.ipynb>data table notebook</a>'\n",
              "            + ' to learn more about interactive tables.';\n",
              "          element.innerHTML = '';\n",
              "          dataTable['output_type'] = 'display_data';\n",
              "          await google.colab.output.renderOutput(dataTable, element);\n",
              "          const docLink = document.createElement('div');\n",
              "          docLink.innerHTML = docLinkHtml;\n",
              "          element.appendChild(docLink);\n",
              "        }\n",
              "      </script>\n",
              "    </div>\n",
              "  </div>\n",
              "  "
            ]
          },
          "metadata": {},
          "execution_count": 9
        }
      ]
    },
    {
      "cell_type": "code",
      "source": [
        "watch.head()"
      ],
      "metadata": {
        "colab": {
          "base_uri": "https://localhost:8080/",
          "height": 206
        },
        "id": "jODP48g84cQk",
        "outputId": "ed407acf-7cfe-4f85-fe84-cc9387158a70"
      },
      "execution_count": 10,
      "outputs": [
        {
          "output_type": "execute_result",
          "data": {
            "text/plain": [
              "                 Start                  End  Duration (hr) Value  \\\n",
              "1  2023-02-13 23:50:25  2023-02-14 00:07:25          0.283  Core   \n",
              "2  2023-02-14 00:07:25  2023-02-14 00:27:25          0.333  Deep   \n",
              "3  2023-02-14 00:27:25  2023-02-14 00:30:25          0.050  Core   \n",
              "4  2023-02-14 00:30:25  2023-02-14 00:38:25          0.133  Deep   \n",
              "5  2023-02-14 00:38:25  2023-02-14 00:39:55          0.025  Core   \n",
              "\n",
              "                 Source  \n",
              "1  Sujeong의 Apple Watch  \n",
              "2  Sujeong의 Apple Watch  \n",
              "3  Sujeong의 Apple Watch  \n",
              "4  Sujeong의 Apple Watch  \n",
              "5  Sujeong의 Apple Watch  "
            ],
            "text/html": [
              "\n",
              "  <div id=\"df-7f39b117-315a-4dab-880c-4f58cdfdc549\">\n",
              "    <div class=\"colab-df-container\">\n",
              "      <div>\n",
              "<style scoped>\n",
              "    .dataframe tbody tr th:only-of-type {\n",
              "        vertical-align: middle;\n",
              "    }\n",
              "\n",
              "    .dataframe tbody tr th {\n",
              "        vertical-align: top;\n",
              "    }\n",
              "\n",
              "    .dataframe thead th {\n",
              "        text-align: right;\n",
              "    }\n",
              "</style>\n",
              "<table border=\"1\" class=\"dataframe\">\n",
              "  <thead>\n",
              "    <tr style=\"text-align: right;\">\n",
              "      <th></th>\n",
              "      <th>Start</th>\n",
              "      <th>End</th>\n",
              "      <th>Duration (hr)</th>\n",
              "      <th>Value</th>\n",
              "      <th>Source</th>\n",
              "    </tr>\n",
              "  </thead>\n",
              "  <tbody>\n",
              "    <tr>\n",
              "      <th>1</th>\n",
              "      <td>2023-02-13 23:50:25</td>\n",
              "      <td>2023-02-14 00:07:25</td>\n",
              "      <td>0.283</td>\n",
              "      <td>Core</td>\n",
              "      <td>Sujeong의 Apple Watch</td>\n",
              "    </tr>\n",
              "    <tr>\n",
              "      <th>2</th>\n",
              "      <td>2023-02-14 00:07:25</td>\n",
              "      <td>2023-02-14 00:27:25</td>\n",
              "      <td>0.333</td>\n",
              "      <td>Deep</td>\n",
              "      <td>Sujeong의 Apple Watch</td>\n",
              "    </tr>\n",
              "    <tr>\n",
              "      <th>3</th>\n",
              "      <td>2023-02-14 00:27:25</td>\n",
              "      <td>2023-02-14 00:30:25</td>\n",
              "      <td>0.050</td>\n",
              "      <td>Core</td>\n",
              "      <td>Sujeong의 Apple Watch</td>\n",
              "    </tr>\n",
              "    <tr>\n",
              "      <th>4</th>\n",
              "      <td>2023-02-14 00:30:25</td>\n",
              "      <td>2023-02-14 00:38:25</td>\n",
              "      <td>0.133</td>\n",
              "      <td>Deep</td>\n",
              "      <td>Sujeong의 Apple Watch</td>\n",
              "    </tr>\n",
              "    <tr>\n",
              "      <th>5</th>\n",
              "      <td>2023-02-14 00:38:25</td>\n",
              "      <td>2023-02-14 00:39:55</td>\n",
              "      <td>0.025</td>\n",
              "      <td>Core</td>\n",
              "      <td>Sujeong의 Apple Watch</td>\n",
              "    </tr>\n",
              "  </tbody>\n",
              "</table>\n",
              "</div>\n",
              "      <button class=\"colab-df-convert\" onclick=\"convertToInteractive('df-7f39b117-315a-4dab-880c-4f58cdfdc549')\"\n",
              "              title=\"Convert this dataframe to an interactive table.\"\n",
              "              style=\"display:none;\">\n",
              "        \n",
              "  <svg xmlns=\"http://www.w3.org/2000/svg\" height=\"24px\"viewBox=\"0 0 24 24\"\n",
              "       width=\"24px\">\n",
              "    <path d=\"M0 0h24v24H0V0z\" fill=\"none\"/>\n",
              "    <path d=\"M18.56 5.44l.94 2.06.94-2.06 2.06-.94-2.06-.94-.94-2.06-.94 2.06-2.06.94zm-11 1L8.5 8.5l.94-2.06 2.06-.94-2.06-.94L8.5 2.5l-.94 2.06-2.06.94zm10 10l.94 2.06.94-2.06 2.06-.94-2.06-.94-.94-2.06-.94 2.06-2.06.94z\"/><path d=\"M17.41 7.96l-1.37-1.37c-.4-.4-.92-.59-1.43-.59-.52 0-1.04.2-1.43.59L10.3 9.45l-7.72 7.72c-.78.78-.78 2.05 0 2.83L4 21.41c.39.39.9.59 1.41.59.51 0 1.02-.2 1.41-.59l7.78-7.78 2.81-2.81c.8-.78.8-2.07 0-2.86zM5.41 20L4 18.59l7.72-7.72 1.47 1.35L5.41 20z\"/>\n",
              "  </svg>\n",
              "      </button>\n",
              "      \n",
              "  <style>\n",
              "    .colab-df-container {\n",
              "      display:flex;\n",
              "      flex-wrap:wrap;\n",
              "      gap: 12px;\n",
              "    }\n",
              "\n",
              "    .colab-df-convert {\n",
              "      background-color: #E8F0FE;\n",
              "      border: none;\n",
              "      border-radius: 50%;\n",
              "      cursor: pointer;\n",
              "      display: none;\n",
              "      fill: #1967D2;\n",
              "      height: 32px;\n",
              "      padding: 0 0 0 0;\n",
              "      width: 32px;\n",
              "    }\n",
              "\n",
              "    .colab-df-convert:hover {\n",
              "      background-color: #E2EBFA;\n",
              "      box-shadow: 0px 1px 2px rgba(60, 64, 67, 0.3), 0px 1px 3px 1px rgba(60, 64, 67, 0.15);\n",
              "      fill: #174EA6;\n",
              "    }\n",
              "\n",
              "    [theme=dark] .colab-df-convert {\n",
              "      background-color: #3B4455;\n",
              "      fill: #D2E3FC;\n",
              "    }\n",
              "\n",
              "    [theme=dark] .colab-df-convert:hover {\n",
              "      background-color: #434B5C;\n",
              "      box-shadow: 0px 1px 3px 1px rgba(0, 0, 0, 0.15);\n",
              "      filter: drop-shadow(0px 1px 2px rgba(0, 0, 0, 0.3));\n",
              "      fill: #FFFFFF;\n",
              "    }\n",
              "  </style>\n",
              "\n",
              "      <script>\n",
              "        const buttonEl =\n",
              "          document.querySelector('#df-7f39b117-315a-4dab-880c-4f58cdfdc549 button.colab-df-convert');\n",
              "        buttonEl.style.display =\n",
              "          google.colab.kernel.accessAllowed ? 'block' : 'none';\n",
              "\n",
              "        async function convertToInteractive(key) {\n",
              "          const element = document.querySelector('#df-7f39b117-315a-4dab-880c-4f58cdfdc549');\n",
              "          const dataTable =\n",
              "            await google.colab.kernel.invokeFunction('convertToInteractive',\n",
              "                                                     [key], {});\n",
              "          if (!dataTable) return;\n",
              "\n",
              "          const docLinkHtml = 'Like what you see? Visit the ' +\n",
              "            '<a target=\"_blank\" href=https://colab.research.google.com/notebooks/data_table.ipynb>data table notebook</a>'\n",
              "            + ' to learn more about interactive tables.';\n",
              "          element.innerHTML = '';\n",
              "          dataTable['output_type'] = 'display_data';\n",
              "          await google.colab.output.renderOutput(dataTable, element);\n",
              "          const docLink = document.createElement('div');\n",
              "          docLink.innerHTML = docLinkHtml;\n",
              "          element.appendChild(docLink);\n",
              "        }\n",
              "      </script>\n",
              "    </div>\n",
              "  </div>\n",
              "  "
            ]
          },
          "metadata": {},
          "execution_count": 10
        }
      ]
    },
    {
      "cell_type": "code",
      "source": [
        "# \"Source\" 열의 데이터를 레이블링 해줌.\n",
        "# deep: 1, core:2, rem:3, awake:4\n",
        "watch['Value']= watch['Value'].replace('Deep',1)\n",
        "watch['Value']= watch['Value'].replace('Core',2)\n",
        "watch['Value']= watch['Value'].replace('REM',3)\n",
        "watch['Value']= watch['Value'].replace('Awake',4)"
      ],
      "metadata": {
        "id": "ruaVbQS4161b"
      },
      "execution_count": 11,
      "outputs": []
    },
    {
      "cell_type": "code",
      "source": [
        "watch.head()"
      ],
      "metadata": {
        "colab": {
          "base_uri": "https://localhost:8080/",
          "height": 206
        },
        "id": "JsXoTID56oRF",
        "outputId": "39a675f3-f94d-477a-a736-29a06a830791"
      },
      "execution_count": 12,
      "outputs": [
        {
          "output_type": "execute_result",
          "data": {
            "text/plain": [
              "                 Start                  End  Duration (hr)  Value  \\\n",
              "1  2023-02-13 23:50:25  2023-02-14 00:07:25          0.283      2   \n",
              "2  2023-02-14 00:07:25  2023-02-14 00:27:25          0.333      1   \n",
              "3  2023-02-14 00:27:25  2023-02-14 00:30:25          0.050      2   \n",
              "4  2023-02-14 00:30:25  2023-02-14 00:38:25          0.133      1   \n",
              "5  2023-02-14 00:38:25  2023-02-14 00:39:55          0.025      2   \n",
              "\n",
              "                 Source  \n",
              "1  Sujeong의 Apple Watch  \n",
              "2  Sujeong의 Apple Watch  \n",
              "3  Sujeong의 Apple Watch  \n",
              "4  Sujeong의 Apple Watch  \n",
              "5  Sujeong의 Apple Watch  "
            ],
            "text/html": [
              "\n",
              "  <div id=\"df-225efa5a-118a-4821-be1e-c777f87db948\">\n",
              "    <div class=\"colab-df-container\">\n",
              "      <div>\n",
              "<style scoped>\n",
              "    .dataframe tbody tr th:only-of-type {\n",
              "        vertical-align: middle;\n",
              "    }\n",
              "\n",
              "    .dataframe tbody tr th {\n",
              "        vertical-align: top;\n",
              "    }\n",
              "\n",
              "    .dataframe thead th {\n",
              "        text-align: right;\n",
              "    }\n",
              "</style>\n",
              "<table border=\"1\" class=\"dataframe\">\n",
              "  <thead>\n",
              "    <tr style=\"text-align: right;\">\n",
              "      <th></th>\n",
              "      <th>Start</th>\n",
              "      <th>End</th>\n",
              "      <th>Duration (hr)</th>\n",
              "      <th>Value</th>\n",
              "      <th>Source</th>\n",
              "    </tr>\n",
              "  </thead>\n",
              "  <tbody>\n",
              "    <tr>\n",
              "      <th>1</th>\n",
              "      <td>2023-02-13 23:50:25</td>\n",
              "      <td>2023-02-14 00:07:25</td>\n",
              "      <td>0.283</td>\n",
              "      <td>2</td>\n",
              "      <td>Sujeong의 Apple Watch</td>\n",
              "    </tr>\n",
              "    <tr>\n",
              "      <th>2</th>\n",
              "      <td>2023-02-14 00:07:25</td>\n",
              "      <td>2023-02-14 00:27:25</td>\n",
              "      <td>0.333</td>\n",
              "      <td>1</td>\n",
              "      <td>Sujeong의 Apple Watch</td>\n",
              "    </tr>\n",
              "    <tr>\n",
              "      <th>3</th>\n",
              "      <td>2023-02-14 00:27:25</td>\n",
              "      <td>2023-02-14 00:30:25</td>\n",
              "      <td>0.050</td>\n",
              "      <td>2</td>\n",
              "      <td>Sujeong의 Apple Watch</td>\n",
              "    </tr>\n",
              "    <tr>\n",
              "      <th>4</th>\n",
              "      <td>2023-02-14 00:30:25</td>\n",
              "      <td>2023-02-14 00:38:25</td>\n",
              "      <td>0.133</td>\n",
              "      <td>1</td>\n",
              "      <td>Sujeong의 Apple Watch</td>\n",
              "    </tr>\n",
              "    <tr>\n",
              "      <th>5</th>\n",
              "      <td>2023-02-14 00:38:25</td>\n",
              "      <td>2023-02-14 00:39:55</td>\n",
              "      <td>0.025</td>\n",
              "      <td>2</td>\n",
              "      <td>Sujeong의 Apple Watch</td>\n",
              "    </tr>\n",
              "  </tbody>\n",
              "</table>\n",
              "</div>\n",
              "      <button class=\"colab-df-convert\" onclick=\"convertToInteractive('df-225efa5a-118a-4821-be1e-c777f87db948')\"\n",
              "              title=\"Convert this dataframe to an interactive table.\"\n",
              "              style=\"display:none;\">\n",
              "        \n",
              "  <svg xmlns=\"http://www.w3.org/2000/svg\" height=\"24px\"viewBox=\"0 0 24 24\"\n",
              "       width=\"24px\">\n",
              "    <path d=\"M0 0h24v24H0V0z\" fill=\"none\"/>\n",
              "    <path d=\"M18.56 5.44l.94 2.06.94-2.06 2.06-.94-2.06-.94-.94-2.06-.94 2.06-2.06.94zm-11 1L8.5 8.5l.94-2.06 2.06-.94-2.06-.94L8.5 2.5l-.94 2.06-2.06.94zm10 10l.94 2.06.94-2.06 2.06-.94-2.06-.94-.94-2.06-.94 2.06-2.06.94z\"/><path d=\"M17.41 7.96l-1.37-1.37c-.4-.4-.92-.59-1.43-.59-.52 0-1.04.2-1.43.59L10.3 9.45l-7.72 7.72c-.78.78-.78 2.05 0 2.83L4 21.41c.39.39.9.59 1.41.59.51 0 1.02-.2 1.41-.59l7.78-7.78 2.81-2.81c.8-.78.8-2.07 0-2.86zM5.41 20L4 18.59l7.72-7.72 1.47 1.35L5.41 20z\"/>\n",
              "  </svg>\n",
              "      </button>\n",
              "      \n",
              "  <style>\n",
              "    .colab-df-container {\n",
              "      display:flex;\n",
              "      flex-wrap:wrap;\n",
              "      gap: 12px;\n",
              "    }\n",
              "\n",
              "    .colab-df-convert {\n",
              "      background-color: #E8F0FE;\n",
              "      border: none;\n",
              "      border-radius: 50%;\n",
              "      cursor: pointer;\n",
              "      display: none;\n",
              "      fill: #1967D2;\n",
              "      height: 32px;\n",
              "      padding: 0 0 0 0;\n",
              "      width: 32px;\n",
              "    }\n",
              "\n",
              "    .colab-df-convert:hover {\n",
              "      background-color: #E2EBFA;\n",
              "      box-shadow: 0px 1px 2px rgba(60, 64, 67, 0.3), 0px 1px 3px 1px rgba(60, 64, 67, 0.15);\n",
              "      fill: #174EA6;\n",
              "    }\n",
              "\n",
              "    [theme=dark] .colab-df-convert {\n",
              "      background-color: #3B4455;\n",
              "      fill: #D2E3FC;\n",
              "    }\n",
              "\n",
              "    [theme=dark] .colab-df-convert:hover {\n",
              "      background-color: #434B5C;\n",
              "      box-shadow: 0px 1px 3px 1px rgba(0, 0, 0, 0.15);\n",
              "      filter: drop-shadow(0px 1px 2px rgba(0, 0, 0, 0.3));\n",
              "      fill: #FFFFFF;\n",
              "    }\n",
              "  </style>\n",
              "\n",
              "      <script>\n",
              "        const buttonEl =\n",
              "          document.querySelector('#df-225efa5a-118a-4821-be1e-c777f87db948 button.colab-df-convert');\n",
              "        buttonEl.style.display =\n",
              "          google.colab.kernel.accessAllowed ? 'block' : 'none';\n",
              "\n",
              "        async function convertToInteractive(key) {\n",
              "          const element = document.querySelector('#df-225efa5a-118a-4821-be1e-c777f87db948');\n",
              "          const dataTable =\n",
              "            await google.colab.kernel.invokeFunction('convertToInteractive',\n",
              "                                                     [key], {});\n",
              "          if (!dataTable) return;\n",
              "\n",
              "          const docLinkHtml = 'Like what you see? Visit the ' +\n",
              "            '<a target=\"_blank\" href=https://colab.research.google.com/notebooks/data_table.ipynb>data table notebook</a>'\n",
              "            + ' to learn more about interactive tables.';\n",
              "          element.innerHTML = '';\n",
              "          dataTable['output_type'] = 'display_data';\n",
              "          await google.colab.output.renderOutput(dataTable, element);\n",
              "          const docLink = document.createElement('div');\n",
              "          docLink.innerHTML = docLinkHtml;\n",
              "          element.appendChild(docLink);\n",
              "        }\n",
              "      </script>\n",
              "    </div>\n",
              "  </div>\n",
              "  "
            ]
          },
          "metadata": {},
          "execution_count": 12
        }
      ]
    },
    {
      "cell_type": "code",
      "source": [],
      "metadata": {
        "id": "Gf2_DRIu6pyf"
      },
      "execution_count": 12,
      "outputs": []
    },
    {
      "cell_type": "code",
      "source": [
        "# Series to datetime\n",
        "# 데이터 타입을 datetime으로 변경. 날짜와 시간 추출이 가능하도록 함.\n",
        "watch['Start'] = pd.to_datetime(watch['Start'], format='%Y-%m-%d %H:%M:%S', errors='raise')\n",
        "watch['End'] = pd.to_datetime(watch['End'], format='%Y-%m-%d %H:%M:%S', errors='raise')"
      ],
      "metadata": {
        "id": "qD4c4Odm4eC5"
      },
      "execution_count": 13,
      "outputs": []
    },
    {
      "cell_type": "code",
      "source": [
        "watch.info()"
      ],
      "metadata": {
        "colab": {
          "base_uri": "https://localhost:8080/"
        },
        "id": "5We5T0614GWN",
        "outputId": "bde53fc8-c928-466f-e1a8-9dbabd1fbeb2"
      },
      "execution_count": 14,
      "outputs": [
        {
          "output_type": "stream",
          "name": "stdout",
          "text": [
            "<class 'pandas.core.frame.DataFrame'>\n",
            "Int64Index: 2267 entries, 1 to 2953\n",
            "Data columns (total 5 columns):\n",
            " #   Column         Non-Null Count  Dtype         \n",
            "---  ------         --------------  -----         \n",
            " 0   Start          2267 non-null   datetime64[ns]\n",
            " 1   End            2267 non-null   datetime64[ns]\n",
            " 2   Duration (hr)  2267 non-null   float64       \n",
            " 3   Value          2267 non-null   int64         \n",
            " 4   Source         2267 non-null   object        \n",
            "dtypes: datetime64[ns](2), float64(1), int64(1), object(1)\n",
            "memory usage: 106.3+ KB\n"
          ]
        }
      ]
    },
    {
      "cell_type": "code",
      "source": [],
      "metadata": {
        "id": "iP8IMXbmDaYK"
      },
      "execution_count": 14,
      "outputs": []
    },
    {
      "cell_type": "code",
      "source": [],
      "metadata": {
        "id": "Cep0Bgy0Cs0E"
      },
      "execution_count": 14,
      "outputs": []
    },
    {
      "cell_type": "markdown",
      "source": [
        "# 시각화"
      ],
      "metadata": {
        "id": "CrWchI6xQ4a8"
      }
    },
    {
      "cell_type": "code",
      "source": [
        "watch.columns"
      ],
      "metadata": {
        "id": "iyIpdj7mBzN8",
        "colab": {
          "base_uri": "https://localhost:8080/"
        },
        "outputId": "5aa99247-552a-4e60-c591-20b634db99fa"
      },
      "execution_count": 15,
      "outputs": [
        {
          "output_type": "execute_result",
          "data": {
            "text/plain": [
              "Index(['Start', 'End', 'Duration (hr)', 'Value', 'Source'], dtype='object')"
            ]
          },
          "metadata": {},
          "execution_count": 15
        }
      ]
    },
    {
      "cell_type": "code",
      "source": [
        "date_time = pd.to_datetime(watch['Start'], format='%d.%m.%Y %H:%M:%S')"
      ],
      "metadata": {
        "id": "PC9nqE46PQDU"
      },
      "execution_count": 16,
      "outputs": []
    },
    {
      "cell_type": "code",
      "source": [
        "date_time"
      ],
      "metadata": {
        "colab": {
          "base_uri": "https://localhost:8080/"
        },
        "id": "lWb2xoiZP0_j",
        "outputId": "47923dd1-f802-4e1e-8e9b-7ed0d383f5ee"
      },
      "execution_count": 17,
      "outputs": [
        {
          "output_type": "execute_result",
          "data": {
            "text/plain": [
              "1      2023-02-13 23:50:25\n",
              "2      2023-02-14 00:07:25\n",
              "3      2023-02-14 00:27:25\n",
              "4      2023-02-14 00:30:25\n",
              "5      2023-02-14 00:38:25\n",
              "               ...        \n",
              "2948   2023-05-03 06:16:05\n",
              "2950   2023-05-03 06:44:05\n",
              "2951   2023-05-03 07:09:05\n",
              "2952   2023-05-03 07:29:05\n",
              "2953   2023-05-03 07:30:05\n",
              "Name: Start, Length: 2267, dtype: datetime64[ns]"
            ]
          },
          "metadata": {},
          "execution_count": 17
        }
      ]
    },
    {
      "cell_type": "code",
      "source": [
        "plot_features = watch[\"Value\"]\n",
        "plot_features.index"
      ],
      "metadata": {
        "colab": {
          "base_uri": "https://localhost:8080/"
        },
        "id": "tRB3W5mZP_ya",
        "outputId": "77e28eb2-c2d3-4e06-8ecf-671138897c16"
      },
      "execution_count": 18,
      "outputs": [
        {
          "output_type": "execute_result",
          "data": {
            "text/plain": [
              "Int64Index([   1,    2,    3,    4,    5,    6,    7,    8,    9,   10,\n",
              "            ...\n",
              "            2942, 2944, 2945, 2946, 2947, 2948, 2950, 2951, 2952, 2953],\n",
              "           dtype='int64', length=2267)"
            ]
          },
          "metadata": {},
          "execution_count": 18
        }
      ]
    },
    {
      "cell_type": "code",
      "source": [
        "# plot_features = watch[\"Value\"]\n",
        "# plot_features.index = date_time\n",
        "# _ = plot_features.plot(subplots=True)\n",
        "\n",
        "plot_features = watch[\"Value\"][:100]\n",
        "plot_features.index = date_time[:100]\n",
        "_ = plot_features.plot(subplots=True)"
      ],
      "metadata": {
        "id": "mTmEWNbIBG7I",
        "colab": {
          "base_uri": "https://localhost:8080/",
          "height": 435
        },
        "outputId": "38a635a3-e615-402d-c91b-6c1363b9b17f"
      },
      "execution_count": 19,
      "outputs": [
        {
          "output_type": "display_data",
          "data": {
            "text/plain": [
              "<Figure size 640x480 with 1 Axes>"
            ],
            "image/png": "[encoded data removed]"
          },
          "metadata": {}
        }
      ]
    },
    {
      "cell_type": "code",
      "source": [],
      "metadata": {
        "id": "Gc638S92Qivm"
      },
      "execution_count": 19,
      "outputs": []
    },
    {
      "cell_type": "code",
      "source": [],
      "metadata": {
        "id": "FaHn1a_vQO36"
      },
      "execution_count": 19,
      "outputs": []
    },
    {
      "cell_type": "code",
      "source": [],
      "metadata": {
        "id": "kljw7MKGBEKv"
      },
      "execution_count": 19,
      "outputs": []
    },
    {
      "cell_type": "code",
      "source": [],
      "metadata": {
        "id": "J2D4nLC712Nb"
      },
      "execution_count": 19,
      "outputs": []
    },
    {
      "cell_type": "code",
      "source": [],
      "metadata": {
        "id": "GXmsHR6N0qVs"
      },
      "execution_count": 19,
      "outputs": []
    },
    {
      "cell_type": "code",
      "source": [],
      "metadata": {
        "id": "gWVhyxJS0lXI"
      },
      "execution_count": 19,
      "outputs": []
    },
    {
      "cell_type": "code",
      "source": [
        "# 시계열 데이터를 가지고 딥러닝 모델을 학습시키는 경우 train 과 test 데이터 셋은 어떻게 나누는가?? 하루 수면 데이터를 따로 저장해두고 test로 사용하면 되는건가?\n",
        "# training_set = df.iloc[:800, 1:2].values\n",
        "# test_set = df.iloc[800:, 1:2].values\n",
        "# 이와 같이 index를 랜덤으로 뽑는 것이 아니라 연속적으로 슬라이싱 해준다.\n",
        "# 훈련, 검증 및 테스트 세트에 (70%, 20%, 10%) 분할을 사용"
      ],
      "metadata": {
        "id": "y45f23xY0dH7"
      },
      "execution_count": 20,
      "outputs": []
    },
    {
      "cell_type": "code",
      "source": [
        "# Min-Max Scaler\n",
        "# 데이터 정규화는 어떤 col에 적용해주는가?\n",
        "# 우리의 경우 categorical이 사용되므로 pass"
      ],
      "metadata": {
        "id": "NgSOW2VR0dFa"
      },
      "execution_count": 21,
      "outputs": []
    },
    {
      "cell_type": "code",
      "source": [
        "import numpy as np\n",
        "import pandas as pd\n",
        "import math\n",
        "import matplotlib.pyplot as plt\n",
        "from sklearn.model_selection import train_test_split\n",
        "from keras.models import Sequential\n",
        "from keras.layers import Dense, LSTM, Dropout\n",
        "import keras\n",
        "from keras.layers import *\n",
        "from sklearn.preprocessing import MinMaxScaler\n",
        "from sklearn.metrics import mean_squared_error, mean_absolute_error\n",
        "from keras.callbacks import EarlyStopping"
      ],
      "metadata": {
        "id": "eOoAHbR3ZpkO"
      },
      "execution_count": 22,
      "outputs": []
    },
    {
      "cell_type": "code",
      "source": [
        "watch.shape"
      ],
      "metadata": {
        "colab": {
          "base_uri": "https://localhost:8080/"
        },
        "id": "V3ZvDPr6aBm2",
        "outputId": "18f91e4c-646e-4b10-bc8f-b8affdce1bde"
      },
      "execution_count": 23,
      "outputs": [
        {
          "output_type": "execute_result",
          "data": {
            "text/plain": [
              "(2267, 5)"
            ]
          },
          "metadata": {},
          "execution_count": 23
        }
      ]
    },
    {
      "cell_type": "code",
      "source": [
        "# 훈련, 검증 및 테스트 세트에 (70%, 20%, 10%) 분할을 사용\n",
        "# 2267 * 0.7  = 1588\n",
        "# 2267 * 0.2 = 453\n",
        "# 2267 * 0.1 = 226\n",
        "1588 + 453 + 226"
      ],
      "metadata": {
        "colab": {
          "base_uri": "https://localhost:8080/"
        },
        "id": "q2JWLy0vaNK9",
        "outputId": "c7cd33ca-9aa8-4a40-c550-708b590ba3b6"
      },
      "execution_count": 24,
      "outputs": [
        {
          "output_type": "execute_result",
          "data": {
            "text/plain": [
              "2267"
            ]
          },
          "metadata": {},
          "execution_count": 24
        }
      ]
    },
    {
      "cell_type": "code",
      "source": [
        "watch.head()"
      ],
      "metadata": {
        "colab": {
          "base_uri": "https://localhost:8080/",
          "height": 206
        },
        "id": "77cIyf7Jacol",
        "outputId": "2eeed035-6eb4-425b-edf7-8a4feb49f661"
      },
      "execution_count": 25,
      "outputs": [
        {
          "output_type": "execute_result",
          "data": {
            "text/plain": [
              "                Start                 End  Duration (hr)  Value  \\\n",
              "1 2023-02-13 23:50:25 2023-02-14 00:07:25          0.283      2   \n",
              "2 2023-02-14 00:07:25 2023-02-14 00:27:25          0.333      1   \n",
              "3 2023-02-14 00:27:25 2023-02-14 00:30:25          0.050      2   \n",
              "4 2023-02-14 00:30:25 2023-02-14 00:38:25          0.133      1   \n",
              "5 2023-02-14 00:38:25 2023-02-14 00:39:55          0.025      2   \n",
              "\n",
              "                 Source  \n",
              "1  Sujeong의 Apple Watch  \n",
              "2  Sujeong의 Apple Watch  \n",
              "3  Sujeong의 Apple Watch  \n",
              "4  Sujeong의 Apple Watch  \n",
              "5  Sujeong의 Apple Watch  "
            ],
            "text/html": [
              "\n",
              "  <div id=\"df-f9f33b82-d8ee-46b3-8634-9313e9056949\">\n",
              "    <div class=\"colab-df-container\">\n",
              "      <div>\n",
              "<style scoped>\n",
              "    .dataframe tbody tr th:only-of-type {\n",
              "        vertical-align: middle;\n",
              "    }\n",
              "\n",
              "    .dataframe tbody tr th {\n",
              "        vertical-align: top;\n",
              "    }\n",
              "\n",
              "    .dataframe thead th {\n",
              "        text-align: right;\n",
              "    }\n",
              "</style>\n",
              "<table border=\"1\" class=\"dataframe\">\n",
              "  <thead>\n",
              "    <tr style=\"text-align: right;\">\n",
              "      <th></th>\n",
              "      <th>Start</th>\n",
              "      <th>End</th>\n",
              "      <th>Duration (hr)</th>\n",
              "      <th>Value</th>\n",
              "      <th>Source</th>\n",
              "    </tr>\n",
              "  </thead>\n",
              "  <tbody>\n",
              "    <tr>\n",
              "      <th>1</th>\n",
              "      <td>2023-02-13 23:50:25</td>\n",
              "      <td>2023-02-14 00:07:25</td>\n",
              "      <td>0.283</td>\n",
              "      <td>2</td>\n",
              "      <td>Sujeong의 Apple Watch</td>\n",
              "    </tr>\n",
              "    <tr>\n",
              "      <th>2</th>\n",
              "      <td>2023-02-14 00:07:25</td>\n",
              "      <td>2023-02-14 00:27:25</td>\n",
              "      <td>0.333</td>\n",
              "      <td>1</td>\n",
              "      <td>Sujeong의 Apple Watch</td>\n",
              "    </tr>\n",
              "    <tr>\n",
              "      <th>3</th>\n",
              "      <td>2023-02-14 00:27:25</td>\n",
              "      <td>2023-02-14 00:30:25</td>\n",
              "      <td>0.050</td>\n",
              "      <td>2</td>\n",
              "      <td>Sujeong의 Apple Watch</td>\n",
              "    </tr>\n",
              "    <tr>\n",
              "      <th>4</th>\n",
              "      <td>2023-02-14 00:30:25</td>\n",
              "      <td>2023-02-14 00:38:25</td>\n",
              "      <td>0.133</td>\n",
              "      <td>1</td>\n",
              "      <td>Sujeong의 Apple Watch</td>\n",
              "    </tr>\n",
              "    <tr>\n",
              "      <th>5</th>\n",
              "      <td>2023-02-14 00:38:25</td>\n",
              "      <td>2023-02-14 00:39:55</td>\n",
              "      <td>0.025</td>\n",
              "      <td>2</td>\n",
              "      <td>Sujeong의 Apple Watch</td>\n",
              "    </tr>\n",
              "  </tbody>\n",
              "</table>\n",
              "</div>\n",
              "      <button class=\"colab-df-convert\" onclick=\"convertToInteractive('df-f9f33b82-d8ee-46b3-8634-9313e9056949')\"\n",
              "              title=\"Convert this dataframe to an interactive table.\"\n",
              "              style=\"display:none;\">\n",
              "        \n",
              "  <svg xmlns=\"http://www.w3.org/2000/svg\" height=\"24px\"viewBox=\"0 0 24 24\"\n",
              "       width=\"24px\">\n",
              "    <path d=\"M0 0h24v24H0V0z\" fill=\"none\"/>\n",
              "    <path d=\"M18.56 5.44l.94 2.06.94-2.06 2.06-.94-2.06-.94-.94-2.06-.94 2.06-2.06.94zm-11 1L8.5 8.5l.94-2.06 2.06-.94-2.06-.94L8.5 2.5l-.94 2.06-2.06.94zm10 10l.94 2.06.94-2.06 2.06-.94-2.06-.94-.94-2.06-.94 2.06-2.06.94z\"/><path d=\"M17.41 7.96l-1.37-1.37c-.4-.4-.92-.59-1.43-.59-.52 0-1.04.2-1.43.59L10.3 9.45l-7.72 7.72c-.78.78-.78 2.05 0 2.83L4 21.41c.39.39.9.59 1.41.59.51 0 1.02-.2 1.41-.59l7.78-7.78 2.81-2.81c.8-.78.8-2.07 0-2.86zM5.41 20L4 18.59l7.72-7.72 1.47 1.35L5.41 20z\"/>\n",
              "  </svg>\n",
              "      </button>\n",
              "      \n",
              "  <style>\n",
              "    .colab-df-container {\n",
              "      display:flex;\n",
              "      flex-wrap:wrap;\n",
              "      gap: 12px;\n",
              "    }\n",
              "\n",
              "    .colab-df-convert {\n",
              "      background-color: #E8F0FE;\n",
              "      border: none;\n",
              "      border-radius: 50%;\n",
              "      cursor: pointer;\n",
              "      display: none;\n",
              "      fill: #1967D2;\n",
              "      height: 32px;\n",
              "      padding: 0 0 0 0;\n",
              "      width: 32px;\n",
              "    }\n",
              "\n",
              "    .colab-df-convert:hover {\n",
              "      background-color: #E2EBFA;\n",
              "      box-shadow: 0px 1px 2px rgba(60, 64, 67, 0.3), 0px 1px 3px 1px rgba(60, 64, 67, 0.15);\n",
              "      fill: #174EA6;\n",
              "    }\n",
              "\n",
              "    [theme=dark] .colab-df-convert {\n",
              "      background-color: #3B4455;\n",
              "      fill: #D2E3FC;\n",
              "    }\n",
              "\n",
              "    [theme=dark] .colab-df-convert:hover {\n",
              "      background-color: #434B5C;\n",
              "      box-shadow: 0px 1px 3px 1px rgba(0, 0, 0, 0.15);\n",
              "      filter: drop-shadow(0px 1px 2px rgba(0, 0, 0, 0.3));\n",
              "      fill: #FFFFFF;\n",
              "    }\n",
              "  </style>\n",
              "\n",
              "      <script>\n",
              "        const buttonEl =\n",
              "          document.querySelector('#df-f9f33b82-d8ee-46b3-8634-9313e9056949 button.colab-df-convert');\n",
              "        buttonEl.style.display =\n",
              "          google.colab.kernel.accessAllowed ? 'block' : 'none';\n",
              "\n",
              "        async function convertToInteractive(key) {\n",
              "          const element = document.querySelector('#df-f9f33b82-d8ee-46b3-8634-9313e9056949');\n",
              "          const dataTable =\n",
              "            await google.colab.kernel.invokeFunction('convertToInteractive',\n",
              "                                                     [key], {});\n",
              "          if (!dataTable) return;\n",
              "\n",
              "          const docLinkHtml = 'Like what you see? Visit the ' +\n",
              "            '<a target=\"_blank\" href=https://colab.research.google.com/notebooks/data_table.ipynb>data table notebook</a>'\n",
              "            + ' to learn more about interactive tables.';\n",
              "          element.innerHTML = '';\n",
              "          dataTable['output_type'] = 'display_data';\n",
              "          await google.colab.output.renderOutput(dataTable, element);\n",
              "          const docLink = document.createElement('div');\n",
              "          docLink.innerHTML = docLinkHtml;\n",
              "          element.appendChild(docLink);\n",
              "        }\n",
              "      </script>\n",
              "    </div>\n",
              "  </div>\n",
              "  "
            ]
          },
          "metadata": {},
          "execution_count": 25
        }
      ]
    },
    {
      "cell_type": "code",
      "source": [
        "watch.info()"
      ],
      "metadata": {
        "colab": {
          "base_uri": "https://localhost:8080/"
        },
        "id": "_VmwNSgAalYv",
        "outputId": "89a758ab-ac43-41df-8353-e11fb2272da3"
      },
      "execution_count": 26,
      "outputs": [
        {
          "output_type": "stream",
          "name": "stdout",
          "text": [
            "<class 'pandas.core.frame.DataFrame'>\n",
            "Int64Index: 2267 entries, 1 to 2953\n",
            "Data columns (total 5 columns):\n",
            " #   Column         Non-Null Count  Dtype         \n",
            "---  ------         --------------  -----         \n",
            " 0   Start          2267 non-null   datetime64[ns]\n",
            " 1   End            2267 non-null   datetime64[ns]\n",
            " 2   Duration (hr)  2267 non-null   float64       \n",
            " 3   Value          2267 non-null   int64         \n",
            " 4   Source         2267 non-null   object        \n",
            "dtypes: datetime64[ns](2), float64(1), int64(1), object(1)\n",
            "memory usage: 106.3+ KB\n"
          ]
        }
      ]
    },
    {
      "cell_type": "code",
      "source": [
        "train = watch.iloc[:1588, [0,3]]\n",
        "train.shape"
      ],
      "metadata": {
        "colab": {
          "base_uri": "https://localhost:8080/"
        },
        "id": "yruyyjisaCyW",
        "outputId": "2b607b27-0cd0-49fb-e3b4-4f706d3fe68e"
      },
      "execution_count": 27,
      "outputs": [
        {
          "output_type": "execute_result",
          "data": {
            "text/plain": [
              "(1588, 2)"
            ]
          },
          "metadata": {},
          "execution_count": 27
        }
      ]
    },
    {
      "cell_type": "code",
      "source": [
        "train.head()"
      ],
      "metadata": {
        "colab": {
          "base_uri": "https://localhost:8080/",
          "height": 206
        },
        "id": "QfjdKAzoavOV",
        "outputId": "7a01aec9-5313-4f3e-ae80-d925016cab75"
      },
      "execution_count": 28,
      "outputs": [
        {
          "output_type": "execute_result",
          "data": {
            "text/plain": [
              "                Start  Value\n",
              "1 2023-02-13 23:50:25      2\n",
              "2 2023-02-14 00:07:25      1\n",
              "3 2023-02-14 00:27:25      2\n",
              "4 2023-02-14 00:30:25      1\n",
              "5 2023-02-14 00:38:25      2"
            ],
            "text/html": [
              "\n",
              "  <div id=\"df-c14315c6-3667-4436-be08-3c1d8d3f4dae\">\n",
              "    <div class=\"colab-df-container\">\n",
              "      <div>\n",
              "<style scoped>\n",
              "    .dataframe tbody tr th:only-of-type {\n",
              "        vertical-align: middle;\n",
              "    }\n",
              "\n",
              "    .dataframe tbody tr th {\n",
              "        vertical-align: top;\n",
              "    }\n",
              "\n",
              "    .dataframe thead th {\n",
              "        text-align: right;\n",
              "    }\n",
              "</style>\n",
              "<table border=\"1\" class=\"dataframe\">\n",
              "  <thead>\n",
              "    <tr style=\"text-align: right;\">\n",
              "      <th></th>\n",
              "      <th>Start</th>\n",
              "      <th>Value</th>\n",
              "    </tr>\n",
              "  </thead>\n",
              "  <tbody>\n",
              "    <tr>\n",
              "      <th>1</th>\n",
              "      <td>2023-02-13 23:50:25</td>\n",
              "      <td>2</td>\n",
              "    </tr>\n",
              "    <tr>\n",
              "      <th>2</th>\n",
              "      <td>2023-02-14 00:07:25</td>\n",
              "      <td>1</td>\n",
              "    </tr>\n",
              "    <tr>\n",
              "      <th>3</th>\n",
              "      <td>2023-02-14 00:27:25</td>\n",
              "      <td>2</td>\n",
              "    </tr>\n",
              "    <tr>\n",
              "      <th>4</th>\n",
              "      <td>2023-02-14 00:30:25</td>\n",
              "      <td>1</td>\n",
              "    </tr>\n",
              "    <tr>\n",
              "      <th>5</th>\n",
              "      <td>2023-02-14 00:38:25</td>\n",
              "      <td>2</td>\n",
              "    </tr>\n",
              "  </tbody>\n",
              "</table>\n",
              "</div>\n",
              "      <button class=\"colab-df-convert\" onclick=\"convertToInteractive('df-c14315c6-3667-4436-be08-3c1d8d3f4dae')\"\n",
              "              title=\"Convert this dataframe to an interactive table.\"\n",
              "              style=\"display:none;\">\n",
              "        \n",
              "  <svg xmlns=\"http://www.w3.org/2000/svg\" height=\"24px\"viewBox=\"0 0 24 24\"\n",
              "       width=\"24px\">\n",
              "    <path d=\"M0 0h24v24H0V0z\" fill=\"none\"/>\n",
              "    <path d=\"M18.56 5.44l.94 2.06.94-2.06 2.06-.94-2.06-.94-.94-2.06-.94 2.06-2.06.94zm-11 1L8.5 8.5l.94-2.06 2.06-.94-2.06-.94L8.5 2.5l-.94 2.06-2.06.94zm10 10l.94 2.06.94-2.06 2.06-.94-2.06-.94-.94-2.06-.94 2.06-2.06.94z\"/><path d=\"M17.41 7.96l-1.37-1.37c-.4-.4-.92-.59-1.43-.59-.52 0-1.04.2-1.43.59L10.3 9.45l-7.72 7.72c-.78.78-.78 2.05 0 2.83L4 21.41c.39.39.9.59 1.41.59.51 0 1.02-.2 1.41-.59l7.78-7.78 2.81-2.81c.8-.78.8-2.07 0-2.86zM5.41 20L4 18.59l7.72-7.72 1.47 1.35L5.41 20z\"/>\n",
              "  </svg>\n",
              "      </button>\n",
              "      \n",
              "  <style>\n",
              "    .colab-df-container {\n",
              "      display:flex;\n",
              "      flex-wrap:wrap;\n",
              "      gap: 12px;\n",
              "    }\n",
              "\n",
              "    .colab-df-convert {\n",
              "      background-color: #E8F0FE;\n",
              "      border: none;\n",
              "      border-radius: 50%;\n",
              "      cursor: pointer;\n",
              "      display: none;\n",
              "      fill: #1967D2;\n",
              "      height: 32px;\n",
              "      padding: 0 0 0 0;\n",
              "      width: 32px;\n",
              "    }\n",
              "\n",
              "    .colab-df-convert:hover {\n",
              "      background-color: #E2EBFA;\n",
              "      box-shadow: 0px 1px 2px rgba(60, 64, 67, 0.3), 0px 1px 3px 1px rgba(60, 64, 67, 0.15);\n",
              "      fill: #174EA6;\n",
              "    }\n",
              "\n",
              "    [theme=dark] .colab-df-convert {\n",
              "      background-color: #3B4455;\n",
              "      fill: #D2E3FC;\n",
              "    }\n",
              "\n",
              "    [theme=dark] .colab-df-convert:hover {\n",
              "      background-color: #434B5C;\n",
              "      box-shadow: 0px 1px 3px 1px rgba(0, 0, 0, 0.15);\n",
              "      filter: drop-shadow(0px 1px 2px rgba(0, 0, 0, 0.3));\n",
              "      fill: #FFFFFF;\n",
              "    }\n",
              "  </style>\n",
              "\n",
              "      <script>\n",
              "        const buttonEl =\n",
              "          document.querySelector('#df-c14315c6-3667-4436-be08-3c1d8d3f4dae button.colab-df-convert');\n",
              "        buttonEl.style.display =\n",
              "          google.colab.kernel.accessAllowed ? 'block' : 'none';\n",
              "\n",
              "        async function convertToInteractive(key) {\n",
              "          const element = document.querySelector('#df-c14315c6-3667-4436-be08-3c1d8d3f4dae');\n",
              "          const dataTable =\n",
              "            await google.colab.kernel.invokeFunction('convertToInteractive',\n",
              "                                                     [key], {});\n",
              "          if (!dataTable) return;\n",
              "\n",
              "          const docLinkHtml = 'Like what you see? Visit the ' +\n",
              "            '<a target=\"_blank\" href=https://colab.research.google.com/notebooks/data_table.ipynb>data table notebook</a>'\n",
              "            + ' to learn more about interactive tables.';\n",
              "          element.innerHTML = '';\n",
              "          dataTable['output_type'] = 'display_data';\n",
              "          await google.colab.output.renderOutput(dataTable, element);\n",
              "          const docLink = document.createElement('div');\n",
              "          docLink.innerHTML = docLinkHtml;\n",
              "          element.appendChild(docLink);\n",
              "        }\n",
              "      </script>\n",
              "    </div>\n",
              "  </div>\n",
              "  "
            ]
          },
          "metadata": {},
          "execution_count": 28
        }
      ]
    },
    {
      "cell_type": "code",
      "source": [
        "val = watch.iloc[1588:2041, [0,3]]\n",
        "val.shape"
      ],
      "metadata": {
        "colab": {
          "base_uri": "https://localhost:8080/"
        },
        "id": "lxGEK_PzapJl",
        "outputId": "c6e54c64-19b2-42e6-eb3e-d8ee71351a4c"
      },
      "execution_count": 29,
      "outputs": [
        {
          "output_type": "execute_result",
          "data": {
            "text/plain": [
              "(453, 2)"
            ]
          },
          "metadata": {},
          "execution_count": 29
        }
      ]
    },
    {
      "cell_type": "code",
      "source": [
        "test = watch.iloc[2041:, [0,3]]\n",
        "test.shape"
      ],
      "metadata": {
        "colab": {
          "base_uri": "https://localhost:8080/"
        },
        "id": "vRG_SZefbFsV",
        "outputId": "eb13257a-be93-466d-a959-22ebee58c30e"
      },
      "execution_count": 30,
      "outputs": [
        {
          "output_type": "execute_result",
          "data": {
            "text/plain": [
              "(226, 2)"
            ]
          },
          "metadata": {},
          "execution_count": 30
        }
      ]
    },
    {
      "cell_type": "code",
      "source": [
        "# Creating a data structure with 60 time-steps and 1 output\n",
        "X_train = []\n",
        "y_train = []\n",
        "\n",
        "for i in range(60, 1588):\n",
        "\n",
        "   X_train.append(train.iloc[i-60:i, 1])\n",
        "   y_train.append(train.iloc[i, 1])\n",
        "\n",
        "X_train, y_train = np.array(X_train), np.array(y_train)\n",
        "X_train = np.reshape(X_train, (X_train.shape[0], X_train.shape[1], 1))  # 형식(#값, #타임스텝, #1차원 출력)으로 재배열"
      ],
      "metadata": {
        "id": "9ZCjPUW2bNk4"
      },
      "execution_count": 31,
      "outputs": []
    },
    {
      "cell_type": "code",
      "source": [
        "X_train.shape"
      ],
      "metadata": {
        "colab": {
          "base_uri": "https://localhost:8080/"
        },
        "id": "6w6y-G5RcwJW",
        "outputId": "c429bd2b-22f8-42a1-e621-7bb09eb86756"
      },
      "execution_count": 32,
      "outputs": [
        {
          "output_type": "execute_result",
          "data": {
            "text/plain": [
              "(1528, 60, 1)"
            ]
          },
          "metadata": {},
          "execution_count": 32
        }
      ]
    },
    {
      "cell_type": "code",
      "source": [
        "# 50개의 뉴런과 4개의 숨겨진 층으로 LSTM을 만들 것이다.\n",
        "# 마지막으로, 우리는 주가를 예측하기 위해 출력층에 1개의 뉴런을 할당할 것이다. \n",
        "# MSE 손실 함수와 Adam stochastic gradient decent optimizer를 사용할 것이다."
      ],
      "metadata": {
        "id": "o9i4Ch9Oc3Zl"
      },
      "execution_count": 33,
      "outputs": []
    },
    {
      "cell_type": "code",
      "source": [
        "# Dropout을 사용해도 되는가?"
      ],
      "metadata": {
        "id": "Bwx4cDItdNIX"
      },
      "execution_count": 34,
      "outputs": []
    },
    {
      "cell_type": "code",
      "source": [
        "model = Sequential()\n",
        "\n",
        "model.add(LSTM(units=50, return_sequences=True, input_shape=(X_train.shape[1],1)))\n",
        "model.add(Dropout(0.2))\n",
        "\n",
        "model.add(LSTM(units=50, return_sequences=True))\n",
        "model.add(Dropout(0.2))\n",
        "\n",
        "model.add(LSTM(units=50, return_sequences=True))\n",
        "model.add(Dropout(0.2))\n",
        "\n",
        "model.add(LSTM(units=50))\n",
        "model.add(Dropout(0.2))\n",
        "\n",
        "# Adding the output layer\n",
        "model.add(Dense(units = 1))\n",
        "\n",
        "model.summary()"
      ],
      "metadata": {
        "colab": {
          "base_uri": "https://localhost:8080/"
        },
        "id": "c5enk12bc2IM",
        "outputId": "3c728b55-9c88-438a-8920-d1425cc30e9e"
      },
      "execution_count": 35,
      "outputs": [
        {
          "output_type": "stream",
          "name": "stdout",
          "text": [
            "Model: \"sequential\"\n",
            "_________________________________________________________________\n",
            " Layer (type)                Output Shape              Param #   \n",
            "=================================================================\n",
            " lstm (LSTM)                 (None, 60, 50)            10400     \n",
            "                                                                 \n",
            " dropout (Dropout)           (None, 60, 50)            0         \n",
            "                                                                 \n",
            " lstm_1 (LSTM)               (None, 60, 50)            20200     \n",
            "                                                                 \n",
            " dropout_1 (Dropout)         (None, 60, 50)            0         \n",
            "                                                                 \n",
            " lstm_2 (LSTM)               (None, 60, 50)            20200     \n",
            "                                                                 \n",
            " dropout_2 (Dropout)         (None, 60, 50)            0         \n",
            "                                                                 \n",
            " lstm_3 (LSTM)               (None, 50)                20200     \n",
            "                                                                 \n",
            " dropout_3 (Dropout)         (None, 50)                0         \n",
            "                                                                 \n",
            " dense (Dense)               (None, 1)                 51        \n",
            "                                                                 \n",
            "=================================================================\n",
            "Total params: 71,051\n",
            "Trainable params: 71,051\n",
            "Non-trainable params: 0\n",
            "_________________________________________________________________\n"
          ]
        }
      ]
    },
    {
      "cell_type": "code",
      "source": [
        "model.compile(optimizer='adam', loss='mean_squared_error')"
      ],
      "metadata": {
        "id": "qD5EZ-vwdfLA"
      },
      "execution_count": 36,
      "outputs": []
    },
    {
      "cell_type": "code",
      "source": [
        "model.fit(X_train, y_train, epochs=100, batch_size=32)"
      ],
      "metadata": {
        "colab": {
          "base_uri": "https://localhost:8080/"
        },
        "id": "YqM-67IMdpo8",
        "outputId": "49df5274-e3ff-4de1-b06a-1414bdb71fe5"
      },
      "execution_count": 37,
      "outputs": [
        {
          "output_type": "stream",
          "name": "stdout",
          "text": [
            "Epoch 1/100\n",
            "48/48 [==============================] - 13s 15ms/step - loss: 1.6532\n",
            "Epoch 2/100\n",
            "48/48 [==============================] - 1s 14ms/step - loss: 0.9888\n",
            "Epoch 3/100\n",
            "48/48 [==============================] - 1s 14ms/step - loss: 0.9829\n",
            "Epoch 4/100\n",
            "48/48 [==============================] - 1s 14ms/step - loss: 0.9874\n",
            "Epoch 5/100\n",
            "48/48 [==============================] - 1s 14ms/step - loss: 0.9982\n",
            "Epoch 6/100\n",
            "48/48 [==============================] - 1s 15ms/step - loss: 0.9865\n",
            "Epoch 7/100\n",
            "48/48 [==============================] - 1s 14ms/step - loss: 0.9573\n",
            "Epoch 8/100\n",
            "48/48 [==============================] - 1s 14ms/step - loss: 0.9842\n",
            "Epoch 9/100\n",
            "48/48 [==============================] - 1s 17ms/step - loss: 0.9695\n",
            "Epoch 10/100\n",
            "48/48 [==============================] - 1s 21ms/step - loss: 0.9769\n",
            "Epoch 11/100\n",
            "48/48 [==============================] - 1s 20ms/step - loss: 0.9454\n",
            "Epoch 12/100\n",
            "48/48 [==============================] - 1s 20ms/step - loss: 0.9734\n",
            "Epoch 13/100\n",
            "48/48 [==============================] - 1s 23ms/step - loss: 0.9392\n",
            "Epoch 14/100\n",
            "48/48 [==============================] - 1s 24ms/step - loss: 0.9430\n",
            "Epoch 15/100\n",
            "48/48 [==============================] - 1s 18ms/step - loss: 0.9679\n",
            "Epoch 16/100\n",
            "48/48 [==============================] - 1s 20ms/step - loss: 0.9624\n",
            "Epoch 17/100\n",
            "48/48 [==============================] - 1s 14ms/step - loss: 0.9677\n",
            "Epoch 18/100\n",
            "48/48 [==============================] - 1s 15ms/step - loss: 0.9735\n",
            "Epoch 19/100\n",
            "48/48 [==============================] - 1s 14ms/step - loss: 0.9667\n",
            "Epoch 20/100\n",
            "48/48 [==============================] - 1s 14ms/step - loss: 0.9438\n",
            "Epoch 21/100\n",
            "48/48 [==============================] - 1s 15ms/step - loss: 0.9593\n",
            "Epoch 22/100\n",
            "48/48 [==============================] - 1s 14ms/step - loss: 0.9428\n",
            "Epoch 23/100\n",
            "48/48 [==============================] - 1s 14ms/step - loss: 0.9847\n",
            "Epoch 24/100\n",
            "48/48 [==============================] - 1s 14ms/step - loss: 0.9688\n",
            "Epoch 25/100\n",
            "48/48 [==============================] - 1s 14ms/step - loss: 0.9741\n",
            "Epoch 26/100\n",
            "48/48 [==============================] - 1s 15ms/step - loss: 0.9606\n",
            "Epoch 27/100\n",
            "48/48 [==============================] - 1s 21ms/step - loss: 0.9473\n",
            "Epoch 28/100\n",
            "48/48 [==============================] - 2s 35ms/step - loss: 0.9602\n",
            "Epoch 29/100\n",
            "48/48 [==============================] - 1s 21ms/step - loss: 0.9430\n",
            "Epoch 30/100\n",
            "48/48 [==============================] - 1s 20ms/step - loss: 0.9562\n",
            "Epoch 31/100\n",
            "48/48 [==============================] - 1s 14ms/step - loss: 0.9515\n",
            "Epoch 32/100\n",
            "48/48 [==============================] - 1s 14ms/step - loss: 0.9614\n",
            "Epoch 33/100\n",
            "48/48 [==============================] - 1s 14ms/step - loss: 0.9544\n",
            "Epoch 34/100\n",
            "48/48 [==============================] - 1s 14ms/step - loss: 0.9500\n",
            "Epoch 35/100\n",
            "48/48 [==============================] - 1s 14ms/step - loss: 0.9606\n",
            "Epoch 36/100\n",
            "48/48 [==============================] - 1s 14ms/step - loss: 0.9634\n",
            "Epoch 37/100\n",
            "48/48 [==============================] - 1s 15ms/step - loss: 0.9580\n",
            "Epoch 38/100\n",
            "48/48 [==============================] - 1s 14ms/step - loss: 0.9321\n",
            "Epoch 39/100\n",
            "48/48 [==============================] - 1s 14ms/step - loss: 0.8860\n",
            "Epoch 40/100\n",
            "48/48 [==============================] - 1s 21ms/step - loss: 0.9068\n",
            "Epoch 41/100\n",
            "48/48 [==============================] - 1s 14ms/step - loss: 0.8787\n",
            "Epoch 42/100\n",
            "48/48 [==============================] - 1s 14ms/step - loss: 0.8355\n",
            "Epoch 43/100\n",
            "48/48 [==============================] - 1s 14ms/step - loss: 0.8436\n",
            "Epoch 44/100\n",
            "48/48 [==============================] - 1s 15ms/step - loss: 0.8247\n",
            "Epoch 45/100\n",
            "48/48 [==============================] - 1s 19ms/step - loss: 0.8379\n",
            "Epoch 46/100\n",
            "48/48 [==============================] - 1s 26ms/step - loss: 0.8107\n",
            "Epoch 47/100\n",
            "48/48 [==============================] - 2s 36ms/step - loss: 0.8124\n",
            "Epoch 48/100\n",
            "48/48 [==============================] - 1s 31ms/step - loss: 0.8247\n",
            "Epoch 49/100\n",
            "48/48 [==============================] - 1s 21ms/step - loss: 0.8007\n",
            "Epoch 50/100\n",
            "48/48 [==============================] - 1s 14ms/step - loss: 0.8011\n",
            "Epoch 51/100\n",
            "48/48 [==============================] - 1s 29ms/step - loss: 0.8245\n",
            "Epoch 52/100\n",
            "48/48 [==============================] - 2s 32ms/step - loss: 0.7925\n",
            "Epoch 53/100\n",
            "48/48 [==============================] - 1s 21ms/step - loss: 0.7672\n",
            "Epoch 54/100\n",
            "48/48 [==============================] - 1s 19ms/step - loss: 0.7788\n",
            "Epoch 55/100\n",
            "48/48 [==============================] - 1s 21ms/step - loss: 0.7955\n",
            "Epoch 56/100\n",
            "48/48 [==============================] - 1s 18ms/step - loss: 0.7789\n",
            "Epoch 57/100\n",
            "48/48 [==============================] - 1s 22ms/step - loss: 0.7782\n",
            "Epoch 58/100\n",
            "48/48 [==============================] - 2s 33ms/step - loss: 0.7697\n",
            "Epoch 59/100\n",
            "48/48 [==============================] - 2s 33ms/step - loss: 0.7867\n",
            "Epoch 60/100\n",
            "48/48 [==============================] - 1s 26ms/step - loss: 0.7989\n",
            "Epoch 61/100\n",
            "48/48 [==============================] - 1s 23ms/step - loss: 0.7790\n",
            "Epoch 62/100\n",
            "48/48 [==============================] - 1s 20ms/step - loss: 0.7850\n",
            "Epoch 63/100\n",
            "48/48 [==============================] - 1s 25ms/step - loss: 0.7743\n",
            "Epoch 64/100\n",
            "48/48 [==============================] - 1s 22ms/step - loss: 0.7463\n",
            "Epoch 65/100\n",
            "48/48 [==============================] - 1s 18ms/step - loss: 0.7563\n",
            "Epoch 66/100\n",
            "48/48 [==============================] - 1s 21ms/step - loss: 0.7695\n",
            "Epoch 67/100\n",
            "48/48 [==============================] - 1s 19ms/step - loss: 0.7727\n",
            "Epoch 68/100\n",
            "48/48 [==============================] - 1s 22ms/step - loss: 0.7573\n",
            "Epoch 69/100\n",
            "48/48 [==============================] - 1s 25ms/step - loss: 0.7636\n",
            "Epoch 70/100\n",
            "48/48 [==============================] - 1s 29ms/step - loss: 0.7557\n",
            "Epoch 71/100\n",
            "48/48 [==============================] - 2s 39ms/step - loss: 0.7717\n",
            "Epoch 72/100\n",
            "48/48 [==============================] - 2s 35ms/step - loss: 0.7509\n",
            "Epoch 73/100\n",
            "48/48 [==============================] - 1s 30ms/step - loss: 0.7409\n",
            "Epoch 74/100\n",
            "48/48 [==============================] - 1s 23ms/step - loss: 0.7593\n",
            "Epoch 75/100\n",
            "48/48 [==============================] - 1s 25ms/step - loss: 0.7494\n",
            "Epoch 76/100\n",
            "48/48 [==============================] - 1s 28ms/step - loss: 0.7536\n",
            "Epoch 77/100\n",
            "48/48 [==============================] - 1s 26ms/step - loss: 0.7478\n",
            "Epoch 78/100\n",
            "48/48 [==============================] - 1s 25ms/step - loss: 0.7268\n",
            "Epoch 79/100\n",
            "48/48 [==============================] - 1s 26ms/step - loss: 0.7458\n",
            "Epoch 80/100\n",
            "48/48 [==============================] - 1s 30ms/step - loss: 0.7454\n",
            "Epoch 81/100\n",
            "48/48 [==============================] - 2s 31ms/step - loss: 0.7341\n",
            "Epoch 82/100\n",
            "48/48 [==============================] - 2s 39ms/step - loss: 0.7442\n",
            "Epoch 83/100\n",
            "48/48 [==============================] - 2s 34ms/step - loss: 0.7223\n",
            "Epoch 84/100\n",
            "48/48 [==============================] - 1s 31ms/step - loss: 0.7266\n",
            "Epoch 85/100\n",
            "48/48 [==============================] - 1s 29ms/step - loss: 0.7315\n",
            "Epoch 86/100\n",
            "48/48 [==============================] - 1s 25ms/step - loss: 0.7524\n",
            "Epoch 87/100\n",
            "48/48 [==============================] - 1s 17ms/step - loss: 0.7172\n",
            "Epoch 88/100\n",
            "48/48 [==============================] - 1s 14ms/step - loss: 0.7192\n",
            "Epoch 89/100\n",
            "48/48 [==============================] - 1s 14ms/step - loss: 0.7078\n",
            "Epoch 90/100\n",
            "48/48 [==============================] - 1s 14ms/step - loss: 0.7669\n",
            "Epoch 91/100\n",
            "48/48 [==============================] - 1s 14ms/step - loss: 0.7408\n",
            "Epoch 92/100\n",
            "48/48 [==============================] - 1s 14ms/step - loss: 0.7286\n",
            "Epoch 93/100\n",
            "48/48 [==============================] - 1s 14ms/step - loss: 0.7380\n",
            "Epoch 94/100\n",
            "48/48 [==============================] - 1s 14ms/step - loss: 0.7150\n",
            "Epoch 95/100\n",
            "48/48 [==============================] - 1s 15ms/step - loss: 0.7153\n",
            "Epoch 96/100\n",
            "48/48 [==============================] - 1s 18ms/step - loss: 0.7607\n",
            "Epoch 97/100\n",
            "48/48 [==============================] - 1s 23ms/step - loss: 0.7161\n",
            "Epoch 98/100\n",
            "48/48 [==============================] - 2s 35ms/step - loss: 0.7080\n",
            "Epoch 99/100\n",
            "48/48 [==============================] - 1s 27ms/step - loss: 0.7154\n",
            "Epoch 100/100\n",
            "48/48 [==============================] - 1s 15ms/step - loss: 0.7266\n"
          ]
        },
        {
          "output_type": "execute_result",
          "data": {
            "text/plain": [
              "<keras.callbacks.History at 0x7f5b3b9d6470>"
            ]
          },
          "metadata": {},
          "execution_count": 37
        }
      ]
    },
    {
      "cell_type": "code",
      "source": [
        "# val 데이터셋 준비\n",
        "total = pd.concat((train, val), axis=0)\n",
        "inputs = total[len(total) - len(val) - 60 : ].values"
      ],
      "metadata": {
        "id": "0LDFOKX3ds2x"
      },
      "execution_count": 67,
      "outputs": []
    },
    {
      "cell_type": "code",
      "source": [
        "inputs"
      ],
      "metadata": {
        "colab": {
          "base_uri": "https://localhost:8080/"
        },
        "id": "ruFUT907gg9_",
        "outputId": "891a31a0-b3ce-458c-83d9-50de3ba1d5b5"
      },
      "execution_count": 68,
      "outputs": [
        {
          "output_type": "execute_result",
          "data": {
            "text/plain": [
              "array([[Timestamp('2023-04-06 04:17:34'), 3],\n",
              "       [Timestamp('2023-04-06 04:45:34'), 4],\n",
              "       [Timestamp('2023-04-06 04:46:34'), 3],\n",
              "       ...,\n",
              "       [Timestamp('2023-04-25 00:38:19'), 4],\n",
              "       [Timestamp('2023-04-25 00:38:49'), 2],\n",
              "       [Timestamp('2023-04-25 00:53:49'), 1]], dtype=object)"
            ]
          },
          "metadata": {},
          "execution_count": 68
        }
      ]
    },
    {
      "cell_type": "code",
      "source": [],
      "metadata": {
        "id": "r4z7S4-Sghez"
      },
      "execution_count": null,
      "outputs": []
    },
    {
      "cell_type": "code",
      "source": [
        "# inputs = inputs.reshape(-1, 1)"
      ],
      "metadata": {
        "id": "6TckyTQzeXKw"
      },
      "execution_count": 65,
      "outputs": []
    },
    {
      "cell_type": "code",
      "source": [
        "inputs.shape"
      ],
      "metadata": {
        "colab": {
          "base_uri": "https://localhost:8080/"
        },
        "id": "MpZ5kopOfkOQ",
        "outputId": "f540cc74-c06d-435e-8545-7c7753e65ecb"
      },
      "execution_count": 69,
      "outputs": [
        {
          "output_type": "execute_result",
          "data": {
            "text/plain": [
              "(513, 2)"
            ]
          },
          "metadata": {},
          "execution_count": 69
        }
      ]
    },
    {
      "cell_type": "code",
      "source": [
        "X_val = []\n",
        "\n",
        "for i in range(60, 513):\n",
        "  X_val.append(inputs[i-60:i, 1])\n",
        "\n",
        "X_val = np.array(X_val)\n",
        "X_val = np.reshape(X_val, (X_val.shape[0], X_val.shape[1], 1))\n",
        "\n",
        "print(X_val.shape)"
      ],
      "metadata": {
        "colab": {
          "base_uri": "https://localhost:8080/"
        },
        "id": "SgAfWdZheZcN",
        "outputId": "77232f8f-fd6f-4b1d-ce34-e81c92d8dbfd"
      },
      "execution_count": 70,
      "outputs": [
        {
          "output_type": "stream",
          "name": "stdout",
          "text": [
            "(453, 60, 1)\n"
          ]
        }
      ]
    },
    {
      "cell_type": "code",
      "source": [
        "# 예측하기\n",
        "X_val = X_val.astype(np.float32)\n",
        "y_pred = model.predict(X_val)"
      ],
      "metadata": {
        "colab": {
          "base_uri": "https://localhost:8080/"
        },
        "id": "OQGebmk3fskB",
        "outputId": "15c01e6f-093a-4342-e642-d6f78875f323"
      },
      "execution_count": 78,
      "outputs": [
        {
          "output_type": "stream",
          "name": "stdout",
          "text": [
            "15/15 [==============================] - 2s 10ms/step\n"
          ]
        }
      ]
    },
    {
      "cell_type": "code",
      "source": [
        "val.shape"
      ],
      "metadata": {
        "colab": {
          "base_uri": "https://localhost:8080/"
        },
        "id": "mI31kTLljJ84",
        "outputId": "0f0594a0-be61-4617-e69b-0bd9b4d3c862"
      },
      "execution_count": 88,
      "outputs": [
        {
          "output_type": "execute_result",
          "data": {
            "text/plain": [
              "(453, 2)"
            ]
          },
          "metadata": {},
          "execution_count": 88
        }
      ]
    },
    {
      "cell_type": "code",
      "source": [
        "y_pred.shape"
      ],
      "metadata": {
        "colab": {
          "base_uri": "https://localhost:8080/"
        },
        "id": "_uve2nZgjmK_",
        "outputId": "e2ecb640-df49-4e5b-93da-71d5f0d587fc"
      },
      "execution_count": 91,
      "outputs": [
        {
          "output_type": "execute_result",
          "data": {
            "text/plain": [
              "(453, 1)"
            ]
          },
          "metadata": {},
          "execution_count": 91
        }
      ]
    },
    {
      "cell_type": "code",
      "source": [
        "sc = MinMaxScaler(feature_range = (0, 1))\n",
        "training_set_scaled = train[\"Value\"]\n",
        "training_set_scaled = training_set_scaled.values.reshape(-1, 1)\n",
        "training_set_scaled = sc.fit_transform(training_set_scaled)"
      ],
      "metadata": {
        "id": "I-zIO9NxkDdt"
      },
      "execution_count": 118,
      "outputs": []
    },
    {
      "cell_type": "code",
      "source": [],
      "metadata": {
        "id": "1gWzGNPflLO8"
      },
      "execution_count": null,
      "outputs": []
    },
    {
      "cell_type": "code",
      "source": [],
      "metadata": {
        "id": "hlnmIaHjkoHx"
      },
      "execution_count": null,
      "outputs": []
    },
    {
      "cell_type": "code",
      "source": [
        "y_pred = sc.inverse_transform(y_pred)"
      ],
      "metadata": {
        "id": "lpyqQkR7jyOP"
      },
      "execution_count": 119,
      "outputs": []
    },
    {
      "cell_type": "code",
      "source": [
        "val.iloc[:40,1]"
      ],
      "metadata": {
        "colab": {
          "base_uri": "https://localhost:8080/"
        },
        "id": "T1CLa7GLl_eW",
        "outputId": "46a5b24a-2bc9-443c-a5fc-e826987e2828"
      },
      "execution_count": 126,
      "outputs": [
        {
          "output_type": "execute_result",
          "data": {
            "text/plain": [
              "2084    2\n",
              "2086    4\n",
              "2087    2\n",
              "2089    1\n",
              "2090    2\n",
              "2091    1\n",
              "2092    2\n",
              "2093    4\n",
              "2094    2\n",
              "2096    3\n",
              "2097    2\n",
              "2098    1\n",
              "2099    2\n",
              "2100    4\n",
              "2101    2\n",
              "2103    3\n",
              "2104    4\n",
              "2105    3\n",
              "2107    2\n",
              "2108    3\n",
              "2109    4\n",
              "2110    2\n",
              "2112    3\n",
              "2113    4\n",
              "2114    2\n",
              "2116    4\n",
              "2117    2\n",
              "2120    2\n",
              "2122    1\n",
              "2123    2\n",
              "2124    1\n",
              "2125    2\n",
              "2126    1\n",
              "2127    2\n",
              "2128    3\n",
              "2129    2\n",
              "2130    1\n",
              "2131    2\n",
              "2132    3\n",
              "2133    2\n",
              "Name: Value, dtype: int64"
            ]
          },
          "metadata": {},
          "execution_count": 126
        }
      ]
    },
    {
      "cell_type": "code",
      "source": [
        "# 시각화\n",
        "plt.plot(val.iloc[:40, 0], val.iloc[:40,1], color='red', label='Real')\n",
        "# plt.plot(val.iloc[:40, 0], y_pred[:40], color='blue', label='Predicted')\n",
        "plt.xticks(np.arange(0,459,50))\n",
        "\n",
        "plt.title('Prediction')\n",
        "\n",
        "\n",
        "plt.xlabel('Time')\n",
        "\n",
        "plt.ylabel('Value')\n",
        "\n",
        "plt.legend()\n",
        "\n",
        "plt.show()"
      ],
      "metadata": {
        "colab": {
          "base_uri": "https://localhost:8080/",
          "height": 472
        },
        "id": "K8HezOS3hiVJ",
        "outputId": "829c7b3a-704f-49c3-dc57-453e8b77ffa2"
      },
      "execution_count": 129,
      "outputs": [
        {
          "output_type": "display_data",
          "data": {
            "text/plain": [
              "<Figure size 640x480 with 1 Axes>"
            ],
            "image/png": "[encoded data removed]"
          },
          "metadata": {}
        }
      ]
    },
    {
      "cell_type": "code",
      "source": [],
      "metadata": {
        "id": "gSwMZMfnj3Ac"
      },
      "execution_count": null,
      "outputs": []
    },
    {
      "cell_type": "code",
      "source": [],
      "metadata": {
        "id": "W1wZUeTHj1BJ"
      },
      "execution_count": null,
      "outputs": []
    },
    {
      "cell_type": "code",
      "source": [],
      "metadata": {
        "id": "8IouocgzjukA"
      },
      "execution_count": null,
      "outputs": []
    },
    {
      "cell_type": "code",
      "source": [],
      "metadata": {
        "id": "Lhq43KREjsBl"
      },
      "execution_count": null,
      "outputs": []
    },
    {
      "cell_type": "code",
      "source": [],
      "metadata": {
        "id": "6JF5rqKTjgtC"
      },
      "execution_count": null,
      "outputs": []
    },
    {
      "cell_type": "code",
      "source": [],
      "metadata": {
        "id": "B1oa5HcnjQeV"
      },
      "execution_count": null,
      "outputs": []
    },
    {
      "cell_type": "code",
      "source": [],
      "metadata": {
        "id": "q4UgwCgbjHgj"
      },
      "execution_count": null,
      "outputs": []
    },
    {
      "cell_type": "code",
      "source": [],
      "metadata": {
        "id": "M7Ogy2n5hJGy"
      },
      "execution_count": null,
      "outputs": []
    },
    {
      "cell_type": "code",
      "source": [],
      "metadata": {
        "id": "V40073dmg68X"
      },
      "execution_count": null,
      "outputs": []
    },
    {
      "cell_type": "code",
      "source": [],
      "metadata": {
        "id": "4Vx2DJsNf64I"
      },
      "execution_count": null,
      "outputs": []
    },
    {
      "cell_type": "code",
      "source": [],
      "metadata": {
        "id": "U1Z0E29If2Mi"
      },
      "execution_count": null,
      "outputs": []
    },
    {
      "cell_type": "code",
      "source": [],
      "metadata": {
        "id": "YBiv03bHc1dH"
      },
      "execution_count": 40,
      "outputs": []
    },
    {
      "cell_type": "code",
      "source": [],
      "metadata": {
        "id": "nrL9ua5hcdl4"
      },
      "execution_count": 40,
      "outputs": []
    },
    {
      "cell_type": "code",
      "source": [],
      "metadata": {
        "id": "UpsBWnIoa_Wa"
      },
      "execution_count": 40,
      "outputs": []
    },
    {
      "cell_type": "code",
      "source": [],
      "metadata": {
        "id": "Y8UzDAOHaZx-"
      },
      "execution_count": 40,
      "outputs": []
    },
    {
      "cell_type": "code",
      "source": [],
      "metadata": {
        "id": "fWQEqpKGaWqN"
      },
      "execution_count": 40,
      "outputs": []
    },
    {
      "cell_type": "code",
      "source": [],
      "metadata": {
        "id": "7hKiKzWJaTaf"
      },
      "execution_count": 40,
      "outputs": []
    },
    {
      "cell_type": "code",
      "source": [],
      "metadata": {
        "id": "MQOP3juTaOwO"
      },
      "execution_count": 40,
      "outputs": []
    },
    {
      "cell_type": "code",
      "source": [],
      "metadata": {
        "id": "Vuu2_v3lawjm"
      },
      "execution_count": 40,
      "outputs": []
    },
    {
      "cell_type": "code",
      "source": [],
      "metadata": {
        "id": "1j2Yb8L20c9Y"
      },
      "execution_count": 40,
      "outputs": []
    },
    {
      "cell_type": "code",
      "source": [],
      "metadata": {
        "id": "O7NLPBHW0c6e"
      },
      "execution_count": 40,
      "outputs": []
    },
    {
      "cell_type": "code",
      "source": [],
      "metadata": {
        "id": "f0FP7xDB0c28"
      },
      "execution_count": 40,
      "outputs": []
    },
    {
      "cell_type": "code",
      "execution_count": 40,
      "metadata": {
        "id": "Uo_Lknbbx35T"
      },
      "outputs": [],
      "source": []
    },
    {
      "cell_type": "code",
      "source": [],
      "metadata": {
        "id": "NNFv1xTB0XaP"
      },
      "execution_count": 40,
      "outputs": []
    }
  ]
}