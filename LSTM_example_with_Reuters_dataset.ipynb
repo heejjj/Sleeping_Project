{
  "nbformat": 4,
  "nbformat_minor": 0,
  "metadata": {
    "colab": {
      "provenance": [],
      "authorship_tag": "ABX9TyMYKyamU9GxL4C0IVrp03mm",
      "include_colab_link": true
    },
    "kernelspec": {
      "name": "python3",
      "display_name": "Python 3"
    },
    "language_info": {
      "name": "python"
    }
  },
  "cells": [
    {
      "cell_type": "markdown",
      "metadata": {
        "id": "view-in-github",
        "colab_type": "text"
      },
      "source": [
        "<a href=\"https://colab.research.google.com/github/heejjj/Sleeping_Project/blob/main/LSTM_example_with_Reuters_dataset.ipynb\" target=\"_parent\"><img src=\"https://colab.research.google.com/assets/colab-badge.svg\" alt=\"Open In Colab\"/></a>"
      ]
    },
    {
      "cell_type": "code",
      "execution_count": null,
      "metadata": {
        "id": "071BnlORA18y"
      },
      "outputs": [],
      "source": [
        "from keras.datasets import reuters\n",
        "from keras.models import Sequential\n",
        "from keras.layers import Dense, LSTM, Embedding\n",
        "from keras.preprocessing import sequence\n",
        "from keras.utils import np_utils \n",
        "\n",
        "import numpy\n",
        "import tensorflow as tf\n",
        "import matplotlib.pyplot as plt"
      ]
    },
    {
      "cell_type": "code",
      "source": [
        "from keras.utils import pad_sequences"
      ],
      "metadata": {
        "id": "VU6kq5PHDOU8"
      },
      "execution_count": null,
      "outputs": []
    },
    {
      "cell_type": "code",
      "source": [
        "#Set seed value\n",
        "\n",
        "seed = 0 \n",
        "numpy.random.seed(seed)\n",
        "tf.random.set_seed(3)"
      ],
      "metadata": {
        "id": "QCz2AE7jBKr1"
      },
      "execution_count": null,
      "outputs": []
    },
    {
      "cell_type": "code",
      "source": [
        "#Split dataset to Train & Test\n",
        "\n",
        "(X_train, y_train),(X_test, y_test) = reuters.load_data(num_words=1000, test_split=0.2)\n",
        "#num_words = 1000: Load data with a frequency of 1-1000 only\n"
      ],
      "metadata": {
        "colab": {
          "base_uri": "https://localhost:8080/"
        },
        "id": "bBXz5Q-pBcM8",
        "outputId": "650739c0-b4c4-4b09-c35f-968e7a04d925"
      },
      "execution_count": null,
      "outputs": [
        {
          "output_type": "stream",
          "name": "stdout",
          "text": [
            "Downloading data from https://storage.googleapis.com/tensorflow/tf-keras-datasets/reuters.npz\n",
            "2110848/2110848 [==============================] - 0s 0us/step\n"
          ]
        }
      ]
    },
    {
      "cell_type": "code",
      "source": [
        "#Check data\n",
        "category = numpy.max(y_train) +1 \n",
        "print(category, 'category')\n",
        "print(len(X_train), 'News articls for train')\n",
        "print(len(X_test), 'News articles for test')\n",
        "\n",
        "# numbers of words in an article --> Input data has to be numerical in DL\n",
        "print(X_train[0]) #tokenized data\n",
        "#if the data indicates 3 -> the article has the words 3 times in this dataset\n",
        "\n",
        "#data : 11228 news article\n",
        "#article categoreis: 46"
      ],
      "metadata": {
        "colab": {
          "base_uri": "https://localhost:8080/"
        },
        "id": "3ExwJJciBp4n",
        "outputId": "738884d6-7107-4beb-d786-02794be049bb"
      },
      "execution_count": null,
      "outputs": [
        {
          "output_type": "stream",
          "name": "stdout",
          "text": [
            "46 category\n",
            "8982 News articls for train\n",
            "2246 News articles for test\n",
            "[1, 2, 2, 8, 43, 10, 447, 5, 25, 207, 270, 5, 2, 111, 16, 369, 186, 90, 67, 7, 89, 5, 19, 102, 6, 19, 124, 15, 90, 67, 84, 22, 482, 26, 7, 48, 4, 49, 8, 864, 39, 209, 154, 6, 151, 6, 83, 11, 15, 22, 155, 11, 15, 7, 48, 9, 2, 2, 504, 6, 258, 6, 272, 11, 15, 22, 134, 44, 11, 15, 16, 8, 197, 2, 90, 67, 52, 29, 209, 30, 32, 132, 6, 109, 15, 17, 12]\n"
          ]
        }
      ]
    },
    {
      "cell_type": "code",
      "source": [
        "from tensorflow.keras.preprocessing.sequence import pad_sequences"
      ],
      "metadata": {
        "id": "nfGiOFsHDeHW"
      },
      "execution_count": null,
      "outputs": []
    },
    {
      "cell_type": "code",
      "source": [
        "from keras.utils.data_utils import pad_sequences"
      ],
      "metadata": {
        "id": "UzeS-JneDhoC"
      },
      "execution_count": null,
      "outputs": []
    },
    {
      "cell_type": "code",
      "source": [
        "import keras \n",
        "keras.__version__"
      ],
      "metadata": {
        "colab": {
          "base_uri": "https://localhost:8080/",
          "height": 36
        },
        "id": "oOVwqvV-URg9",
        "outputId": "ae2cd280-9d22-4d8b-b5c6-da8aece3c445"
      },
      "execution_count": 40,
      "outputs": [
        {
          "output_type": "execute_result",
          "data": {
            "text/plain": [
              "'2.12.0'"
            ],
            "application/vnd.google.colaboratory.intrinsic+json": {
              "type": "string"
            }
          },
          "metadata": {},
          "execution_count": 40
        }
      ]
    },
    {
      "cell_type": "code",
      "source": [
        "#Preprocessing \n",
        "\n",
        "#Each article has a different number of words, so adjust them equally by \"maxlen =100\" using the \"pad_sequence\" function.\n",
        "#It might be different by keras version -> sequence.pad_sequences() changed to pad_ssequences()\n",
        "\n",
        "x_train = pad_sequences(X_train, maxlen=100) # <- kerass.2.12.0 ver \n",
        "x_test = pad_sequences(X_test, maxlen = 100)\n",
        "\n",
        "y_train = np_utils.to_categorical(y_train)\n",
        "y_test = np_utils.to_categorical(y_test)"
      ],
      "metadata": {
        "id": "XP7iPxKwCYWV"
      },
      "execution_count": null,
      "outputs": []
    },
    {
      "cell_type": "code",
      "source": [
        "#Set model\n",
        "\n",
        "model = Sequential()\n",
        "\n",
        "model.add(Embedding(1000,100)) #Embedding(num of words loaded, num of words per article) -> has to be the first stage of the model \n",
        "model.add(LSTM(100, activation='tanh'))  #Weighted controlled LSTM for RNN's memory values ​​(words per article, other options)\n",
        "model.add(Dense(46, activation='softmax'))\n"
      ],
      "metadata": {
        "id": "ZTnbTXyDD0X8"
      },
      "execution_count": null,
      "outputs": []
    },
    {
      "cell_type": "code",
      "source": [
        "model.summary()"
      ],
      "metadata": {
        "colab": {
          "base_uri": "https://localhost:8080/"
        },
        "id": "EfseScLXF27V",
        "outputId": "7d7de232-904d-4e0c-909f-7d217ade362e"
      },
      "execution_count": null,
      "outputs": [
        {
          "output_type": "stream",
          "name": "stdout",
          "text": [
            "Model: \"sequential_1\"\n",
            "_________________________________________________________________\n",
            " Layer (type)                Output Shape              Param #   \n",
            "=================================================================\n",
            " embedding (Embedding)       (None, None, 100)         100000    \n",
            "                                                                 \n",
            " lstm (LSTM)                 (None, 100)               80400     \n",
            "                                                                 \n",
            " dense (Dense)               (None, 46)                4646      \n",
            "                                                                 \n",
            "=================================================================\n",
            "Total params: 185,046\n",
            "Trainable params: 185,046\n",
            "Non-trainable params: 0\n",
            "_________________________________________________________________\n"
          ]
        }
      ]
    },
    {
      "cell_type": "code",
      "source": [
        "#compile model \n",
        "\n",
        "model.compile(loss='categorical_crossentropy',\n",
        "              optimizer ='adam',\n",
        "              metrics=['accuracy'])"
      ],
      "metadata": {
        "id": "H8Ojuh5YF8Ns"
      },
      "execution_count": null,
      "outputs": []
    },
    {
      "cell_type": "code",
      "source": [
        "#Run model \n",
        "\n",
        "history = model.fit(x_train, y_train, batch_size=100, epochs=20, validation_data=(x_test, y_test))"
      ],
      "metadata": {
        "colab": {
          "base_uri": "https://localhost:8080/"
        },
        "id": "GuPApRgBIB1r",
        "outputId": "4bef9fa9-0e8b-44df-e3a8-098a80a00c25"
      },
      "execution_count": null,
      "outputs": [
        {
          "output_type": "stream",
          "name": "stdout",
          "text": [
            "Epoch 1/20\n",
            "90/90 [==============================] - 34s 342ms/step - loss: 2.6059 - accuracy: 0.3459 - val_loss: 2.4211 - val_accuracy: 0.3620\n",
            "Epoch 2/20\n",
            "90/90 [==============================] - 37s 409ms/step - loss: 2.2974 - accuracy: 0.3978 - val_loss: 2.0534 - val_accuracy: 0.4978\n",
            "Epoch 3/20\n",
            "90/90 [==============================] - 34s 374ms/step - loss: 1.9723 - accuracy: 0.4937 - val_loss: 1.9510 - val_accuracy: 0.4969\n",
            "Epoch 4/20\n",
            "90/90 [==============================] - 32s 351ms/step - loss: 1.7497 - accuracy: 0.5450 - val_loss: 1.7593 - val_accuracy: 0.5583\n",
            "Epoch 5/20\n",
            "90/90 [==============================] - 26s 295ms/step - loss: 1.6703 - accuracy: 0.5720 - val_loss: 1.6712 - val_accuracy: 0.5730\n",
            "Epoch 6/20\n",
            "90/90 [==============================] - 30s 331ms/step - loss: 1.6057 - accuracy: 0.5874 - val_loss: 1.6070 - val_accuracy: 0.6015\n",
            "Epoch 7/20\n",
            "90/90 [==============================] - 28s 308ms/step - loss: 1.5071 - accuracy: 0.6136 - val_loss: 1.5738 - val_accuracy: 0.6109\n",
            "Epoch 8/20\n",
            "90/90 [==============================] - 27s 304ms/step - loss: 1.4377 - accuracy: 0.6343 - val_loss: 1.5005 - val_accuracy: 0.6247\n",
            "Epoch 9/20\n",
            "90/90 [==============================] - 26s 294ms/step - loss: 1.3694 - accuracy: 0.6534 - val_loss: 1.4496 - val_accuracy: 0.6416\n",
            "Epoch 10/20\n",
            "90/90 [==============================] - 38s 419ms/step - loss: 1.3038 - accuracy: 0.6733 - val_loss: 1.4163 - val_accuracy: 0.6443\n",
            "Epoch 11/20\n",
            "90/90 [==============================] - 30s 333ms/step - loss: 1.2368 - accuracy: 0.6922 - val_loss: 1.3497 - val_accuracy: 0.6625\n",
            "Epoch 12/20\n",
            "90/90 [==============================] - 27s 304ms/step - loss: 1.1709 - accuracy: 0.7043 - val_loss: 1.3015 - val_accuracy: 0.6683\n",
            "Epoch 13/20\n",
            "90/90 [==============================] - 31s 349ms/step - loss: 1.1071 - accuracy: 0.7206 - val_loss: 1.2539 - val_accuracy: 0.6785\n",
            "Epoch 14/20\n",
            "90/90 [==============================] - 27s 302ms/step - loss: 1.0648 - accuracy: 0.7305 - val_loss: 1.2352 - val_accuracy: 0.6932\n",
            "Epoch 15/20\n",
            "90/90 [==============================] - 26s 293ms/step - loss: 1.0122 - accuracy: 0.7447 - val_loss: 1.2371 - val_accuracy: 0.6870\n",
            "Epoch 16/20\n",
            "90/90 [==============================] - 27s 303ms/step - loss: 0.9751 - accuracy: 0.7545 - val_loss: 1.2172 - val_accuracy: 0.6950\n",
            "Epoch 17/20\n",
            "90/90 [==============================] - 27s 304ms/step - loss: 0.9197 - accuracy: 0.7685 - val_loss: 1.2080 - val_accuracy: 0.6950\n",
            "Epoch 18/20\n",
            "90/90 [==============================] - 26s 293ms/step - loss: 0.8890 - accuracy: 0.7729 - val_loss: 1.1874 - val_accuracy: 0.7079\n",
            "Epoch 19/20\n",
            "90/90 [==============================] - 27s 304ms/step - loss: 0.8482 - accuracy: 0.7830 - val_loss: 1.2034 - val_accuracy: 0.6972\n",
            "Epoch 20/20\n",
            "90/90 [==============================] - 28s 311ms/step - loss: 0.8161 - accuracy: 0.7912 - val_loss: 1.2012 - val_accuracy: 0.7048\n"
          ]
        }
      ]
    },
    {
      "cell_type": "code",
      "source": [
        "#model accuracy \n",
        "\n",
        "print('\\ Test Acuuracy: %.4f' % (model.evaluate(x_test, y_test)[1]))"
      ],
      "metadata": {
        "colab": {
          "base_uri": "https://localhost:8080/"
        },
        "id": "hahu1sfIIjIS",
        "outputId": "e583eba5-ea83-4e65-dc73-3087b058ee9f"
      },
      "execution_count": null,
      "outputs": [
        {
          "output_type": "stream",
          "name": "stdout",
          "text": [
            "71/71 [==============================] - 2s 34ms/step - loss: 1.2012 - accuracy: 0.7048\n",
            "\\ Test Acuuracy: 0.7048\n"
          ]
        }
      ]
    },
    {
      "cell_type": "code",
      "source": [
        "# error of test_set\n",
        "y_vloss = history.history['val_loss']\n",
        "y_vloss"
      ],
      "metadata": {
        "colab": {
          "base_uri": "https://localhost:8080/"
        },
        "id": "CCaq92mTJQlL",
        "outputId": "2fffb781-db95-4c9d-9fdf-eb07cbe06ab4"
      },
      "execution_count": null,
      "outputs": [
        {
          "output_type": "execute_result",
          "data": {
            "text/plain": [
              "[2.4211463928222656,\n",
              " 2.0533602237701416,\n",
              " 1.9510048627853394,\n",
              " 1.7593486309051514,\n",
              " 1.671172857284546,\n",
              " 1.6069726943969727,\n",
              " 1.5738352537155151,\n",
              " 1.5004658699035645,\n",
              " 1.449581503868103,\n",
              " 1.416322946548462,\n",
              " 1.3497021198272705,\n",
              " 1.3015130758285522,\n",
              " 1.2539435625076294,\n",
              " 1.2351982593536377,\n",
              " 1.2370870113372803,\n",
              " 1.2172187566757202,\n",
              " 1.207983136177063,\n",
              " 1.1874130964279175,\n",
              " 1.203356385231018,\n",
              " 1.2012437582015991]"
            ]
          },
          "metadata": {},
          "execution_count": 30
        }
      ]
    },
    {
      "cell_type": "code",
      "source": [
        "#error of train set\n",
        "y_loss = history.history['loss']\n",
        "y_loss"
      ],
      "metadata": {
        "colab": {
          "base_uri": "https://localhost:8080/"
        },
        "id": "OqFCyg8QL4Dw",
        "outputId": "47d01198-e16f-4d10-8166-414c07249754"
      },
      "execution_count": null,
      "outputs": [
        {
          "output_type": "execute_result",
          "data": {
            "text/plain": [
              "[2.6059374809265137,\n",
              " 2.2973697185516357,\n",
              " 1.9723230600357056,\n",
              " 1.7497313022613525,\n",
              " 1.670264720916748,\n",
              " 1.6056807041168213,\n",
              " 1.5070503950119019,\n",
              " 1.4376766681671143,\n",
              " 1.3694406747817993,\n",
              " 1.3038429021835327,\n",
              " 1.2368028163909912,\n",
              " 1.170881748199463,\n",
              " 1.1071434020996094,\n",
              " 1.0648170709609985,\n",
              " 1.0122368335723877,\n",
              " 0.9750739336013794,\n",
              " 0.9196640849113464,\n",
              " 0.8890452980995178,\n",
              " 0.8482183218002319,\n",
              " 0.8161294460296631]"
            ]
          },
          "metadata": {},
          "execution_count": 32
        }
      ]
    },
    {
      "cell_type": "code",
      "source": [
        "#graph \n",
        "x_len = numpy.arange(len(y_loss))\n",
        "plt.plot(x_len, y_vloss, marker ='.', c='red', label ='Testset_loss')\n",
        "plt.plot(x_len, y_loss, marker='.', c='blue', label = 'Trainset_loss')\n",
        "\n",
        "plt.legend(loc ='upper right')\n",
        "plt.grid()\n",
        "plt.xlabel('epoch')\n",
        "plt.ylabel('loss')\n",
        "plt.show()\n",
        "\n",
        "#Model accuracy: 70.48%\n",
        "#Optimal learning time just before overfitting."
      ],
      "metadata": {
        "colab": {
          "base_uri": "https://localhost:8080/",
          "height": 449
        },
        "id": "xJ_-eqMjMFI5",
        "outputId": "b7fe73d1-1e90-4b37-dddc-bab105c6fd65"
      },
      "execution_count": null,
      "outputs": [
        {
          "output_type": "display_data",
          "data": {
            "text/plain": [
              "<Figure size 640x480 with 1 Axes>"
            ],
            "image/png": "[encoded data removed]"
          },
          "metadata": {}
        }
      ]
    }
  ]
}